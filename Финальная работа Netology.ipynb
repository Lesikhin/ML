{
 "cells": [
  {
   "cell_type": "markdown",
   "id": "bb0270a1-0782-4508-bfa0-e5bd0b6fd1d5",
   "metadata": {},
   "source": [
    "Критерий\tОписание\n",
    "1. Постановка задачи\tИсходная задача описана понятно и ясно\n",
    "Показана актуальность задачи, ее место в предметной области\n",
    "Метрики качества решения описаны, приведены их формулы\n",
    "2. Анализ\tПроведено исследование аналогичных решений, они описаны, приведены результаты их применения (если доступно) и ссылки на материалы\n",
    "Проведен предварительный анализ данных, наглядно описано их качество, аномалии зависимости\n",
    "Описаны и обоснованы алгоритмы и техники, применяемые для решения задачи, их требования к исходным данным\n",
    "Приведены ссылки на код анализа данных, код является рабочим и воспроизводит описанные в отчете результаты\n",
    "3. Методика решения\tОписаны шаги преобразования и очистки данных, приведены ссылки на рабочий код, воспроизводящий все описанные шаги\n",
    "В результате очистки данных найденные ранее аномалии и зависимости устранены или существенно снижены, качество анных повышено\n",
    "Разделение данных на обучающую и тестовую выборки описано и произведено корректно с учетом структуры данных\n",
    "Четко описана итоговая модель и ее параметры, приведены ссылки на рабочий код создания и обучения модели\n",
    "Выбор значений параметров модели обоснован и подтвержден ссылками на внешние источники или рабочим кодом\n",
    "4. Результаты\tДля итоговой модели приведены значения целевых метрик, описано ее качество\n",
    "Подтверждена работоспособность модели, описано влияние на ее точность различных шумов и выборосов в данных\n",
    "Приведено сравнение качества итоговой модели с аналогичными решениями (если доступно)\n",
    "Описана область и результаты внедрения решения исходной задачи (если применимо)\n",
    "5. Выводы и заключение\tПриведены основные выводы по проделанной работе, ключевые пункты визуализированы и четко описаны\n",
    "Перечислены пути развития и улучшения решения\n",
    "6. Список источников и презентация\tСлушатель продемонстрировал умение грамотно и аргументировано презентовать и защищать результаты работы, в том числе и в процесссе публичной защиты\n",
    "Отчет имеет хорошую структуру и содержит все разделы\n",
    "Отчет написан емко, перечислены источники информации, текст отчета содержит корректные цитаты и ссылки"
   ]
  },
  {
   "cell_type": "markdown",
   "id": "4b930223-b918-45a8-a658-af15d2ff83a7",
   "metadata": {},
   "source": [
    "## 1. Постановка задачи"
   ]
  },
  {
   "cell_type": "markdown",
   "id": "fb0df8ec-43d7-43c3-816e-8194cb8a91b2",
   "metadata": {},
   "source": [
    "#### Спрогнозировать цену подержанных автомобилей на основе различных характеристик используя методы регрессии. \n",
    "Данные взяты с сайта www.kaggle.com...eries-s4e9\n",
    "Набор данных был сгенерирован на основе модели глубокого обучения, обученной на наборе данных прогнозирования цен на подержанные автомобили. \n",
    "Распределение функций близко к оригинальному, но не совсем совпадает с ним.\n",
    "Данные датасета содержат как цифровые значения, так и категориальные значения, содержат пропуски и позволяют провести полноценный анализ данных, зависимости, возможно провести преобразования данных, очистка данных.\n",
    "\n"
   ]
  },
  {
   "cell_type": "markdown",
   "id": "e17e5f44-2b0d-4494-9315-4a44560a89fd",
   "metadata": {},
   "source": [
    "Создание модели линейной регрессии относится к задачам обучения с учителем, цель которых — предсказать значение непрерывной зависимой переменной (y) на основе набора признаков (X)."
   ]
  },
  {
   "cell_type": "markdown",
   "id": "125779de-bd93-44c1-9483-fca3fa0a06c5",
   "metadata": {},
   "source": [
    "В качестве метрики качества используется RMSE.\n",
    "RMSE измеряет разницу между предсказанными значениями и фактическими значениями в единицах ответной переменной.\n",
    "RMSE рассчитывается как квадратный корень из среднего квадрата различий между предсказанными значениями и фактическими значениями."
   ]
  },
  {
   "cell_type": "code",
   "execution_count": 1,
   "id": "c1e157cd-96eb-4d00-8d4e-259e4aa7ecb9",
   "metadata": {},
   "outputs": [],
   "source": [
    "# Загружаем необходимые библиотеки \n",
    "import warnings\n",
    "import matplotlib.pyplot as plt\n",
    "import numpy as np\n",
    "import optuna\n",
    "from optuna.samplers import TPESampler\n",
    "import pandas as pd\n",
    "import seaborn as sns\n",
    "import re\n",
    "from sklearn import metrics\n",
    "from sklearn.metrics import classification_report, mean_squared_error, root_mean_squared_error\n",
    "from sklearn.model_selection import train_test_split\n",
    "from sklearn.linear_model import LinearRegression \n",
    "from sklearn.preprocessing import MinMaxScaler\n",
    "import datetime"
   ]
  },
  {
   "cell_type": "markdown",
   "id": "eec6f934-a928-4642-aa38-fd1004660b09",
   "metadata": {},
   "source": [
    "#### Загружаем данные "
   ]
  },
  {
   "cell_type": "code",
   "execution_count": 2,
   "id": "858d9d45-7c66-45cd-9f0c-731433dc981b",
   "metadata": {},
   "outputs": [
    {
     "data": {
      "text/plain": [
       "((188533, 13), (125690, 12), (125690, 2))"
      ]
     },
     "execution_count": 2,
     "metadata": {},
     "output_type": "execute_result"
    }
   ],
   "source": [
    "# тренировачные данные\n",
    "df=pd.read_csv('D:\\\\ml\\\\nlp\\\\cars\\\\train.csv')\n",
    "# тестовые данные\n",
    "dtest=pd.read_csv('D:\\\\ml\\\\nlp\\\\cars\\\\test.csv')\n",
    "sample=pd.read_csv('D:\\\\ml\\\\nlp\\\\cars\\\\sample_submission.csv')\n",
    "df.shape,dtest.shape,sample.shape"
   ]
  },
  {
   "cell_type": "markdown",
   "id": "b930252d-0368-40d4-9613-eca56f87298f",
   "metadata": {},
   "source": [
    "### 2. Анализ набора данных"
   ]
  },
  {
   "cell_type": "code",
   "execution_count": 3,
   "id": "96897731-84dd-4a73-8de4-3fe168aebbdf",
   "metadata": {},
   "outputs": [
    {
     "data": {
      "text/html": [
       "<div>\n",
       "<style scoped>\n",
       "    .dataframe tbody tr th:only-of-type {\n",
       "        vertical-align: middle;\n",
       "    }\n",
       "\n",
       "    .dataframe tbody tr th {\n",
       "        vertical-align: top;\n",
       "    }\n",
       "\n",
       "    .dataframe thead th {\n",
       "        text-align: right;\n",
       "    }\n",
       "</style>\n",
       "<table border=\"1\" class=\"dataframe\">\n",
       "  <thead>\n",
       "    <tr style=\"text-align: right;\">\n",
       "      <th></th>\n",
       "      <th>id</th>\n",
       "      <th>brand</th>\n",
       "      <th>model</th>\n",
       "      <th>model_year</th>\n",
       "      <th>milage</th>\n",
       "      <th>fuel_type</th>\n",
       "      <th>engine</th>\n",
       "      <th>transmission</th>\n",
       "      <th>ext_col</th>\n",
       "      <th>int_col</th>\n",
       "      <th>accident</th>\n",
       "      <th>clean_title</th>\n",
       "      <th>price</th>\n",
       "    </tr>\n",
       "  </thead>\n",
       "  <tbody>\n",
       "    <tr>\n",
       "      <th>0</th>\n",
       "      <td>0</td>\n",
       "      <td>MINI</td>\n",
       "      <td>Cooper S Base</td>\n",
       "      <td>2007</td>\n",
       "      <td>213000</td>\n",
       "      <td>Gasoline</td>\n",
       "      <td>172.0HP 1.6L 4 Cylinder Engine Gasoline Fuel</td>\n",
       "      <td>A/T</td>\n",
       "      <td>Yellow</td>\n",
       "      <td>Gray</td>\n",
       "      <td>None reported</td>\n",
       "      <td>Yes</td>\n",
       "      <td>4200</td>\n",
       "    </tr>\n",
       "    <tr>\n",
       "      <th>1</th>\n",
       "      <td>1</td>\n",
       "      <td>Lincoln</td>\n",
       "      <td>LS V8</td>\n",
       "      <td>2002</td>\n",
       "      <td>143250</td>\n",
       "      <td>Gasoline</td>\n",
       "      <td>252.0HP 3.9L 8 Cylinder Engine Gasoline Fuel</td>\n",
       "      <td>A/T</td>\n",
       "      <td>Silver</td>\n",
       "      <td>Beige</td>\n",
       "      <td>At least 1 accident or damage reported</td>\n",
       "      <td>Yes</td>\n",
       "      <td>4999</td>\n",
       "    </tr>\n",
       "    <tr>\n",
       "      <th>2</th>\n",
       "      <td>2</td>\n",
       "      <td>Chevrolet</td>\n",
       "      <td>Silverado 2500 LT</td>\n",
       "      <td>2002</td>\n",
       "      <td>136731</td>\n",
       "      <td>E85 Flex Fuel</td>\n",
       "      <td>320.0HP 5.3L 8 Cylinder Engine Flex Fuel Capab...</td>\n",
       "      <td>A/T</td>\n",
       "      <td>Blue</td>\n",
       "      <td>Gray</td>\n",
       "      <td>None reported</td>\n",
       "      <td>Yes</td>\n",
       "      <td>13900</td>\n",
       "    </tr>\n",
       "    <tr>\n",
       "      <th>3</th>\n",
       "      <td>3</td>\n",
       "      <td>Genesis</td>\n",
       "      <td>G90 5.0 Ultimate</td>\n",
       "      <td>2017</td>\n",
       "      <td>19500</td>\n",
       "      <td>Gasoline</td>\n",
       "      <td>420.0HP 5.0L 8 Cylinder Engine Gasoline Fuel</td>\n",
       "      <td>Transmission w/Dual Shift Mode</td>\n",
       "      <td>Black</td>\n",
       "      <td>Black</td>\n",
       "      <td>None reported</td>\n",
       "      <td>Yes</td>\n",
       "      <td>45000</td>\n",
       "    </tr>\n",
       "    <tr>\n",
       "      <th>4</th>\n",
       "      <td>4</td>\n",
       "      <td>Mercedes-Benz</td>\n",
       "      <td>Metris Base</td>\n",
       "      <td>2021</td>\n",
       "      <td>7388</td>\n",
       "      <td>Gasoline</td>\n",
       "      <td>208.0HP 2.0L 4 Cylinder Engine Gasoline Fuel</td>\n",
       "      <td>7-Speed A/T</td>\n",
       "      <td>Black</td>\n",
       "      <td>Beige</td>\n",
       "      <td>None reported</td>\n",
       "      <td>Yes</td>\n",
       "      <td>97500</td>\n",
       "    </tr>\n",
       "  </tbody>\n",
       "</table>\n",
       "</div>"
      ],
      "text/plain": [
       "   id          brand              model  model_year  milage      fuel_type  \\\n",
       "0   0           MINI      Cooper S Base        2007  213000       Gasoline   \n",
       "1   1        Lincoln              LS V8        2002  143250       Gasoline   \n",
       "2   2      Chevrolet  Silverado 2500 LT        2002  136731  E85 Flex Fuel   \n",
       "3   3        Genesis   G90 5.0 Ultimate        2017   19500       Gasoline   \n",
       "4   4  Mercedes-Benz        Metris Base        2021    7388       Gasoline   \n",
       "\n",
       "                                              engine  \\\n",
       "0       172.0HP 1.6L 4 Cylinder Engine Gasoline Fuel   \n",
       "1       252.0HP 3.9L 8 Cylinder Engine Gasoline Fuel   \n",
       "2  320.0HP 5.3L 8 Cylinder Engine Flex Fuel Capab...   \n",
       "3       420.0HP 5.0L 8 Cylinder Engine Gasoline Fuel   \n",
       "4       208.0HP 2.0L 4 Cylinder Engine Gasoline Fuel   \n",
       "\n",
       "                     transmission ext_col int_col  \\\n",
       "0                             A/T  Yellow    Gray   \n",
       "1                             A/T  Silver   Beige   \n",
       "2                             A/T    Blue    Gray   \n",
       "3  Transmission w/Dual Shift Mode   Black   Black   \n",
       "4                     7-Speed A/T   Black   Beige   \n",
       "\n",
       "                                 accident clean_title  price  \n",
       "0                           None reported         Yes   4200  \n",
       "1  At least 1 accident or damage reported         Yes   4999  \n",
       "2                           None reported         Yes  13900  \n",
       "3                           None reported         Yes  45000  \n",
       "4                           None reported         Yes  97500  "
      ]
     },
     "execution_count": 3,
     "metadata": {},
     "output_type": "execute_result"
    }
   ],
   "source": [
    "df.head(5)"
   ]
  },
  {
   "cell_type": "code",
   "execution_count": 4,
   "id": "71c0c11b-18c6-42c2-8564-6d7fdace7656",
   "metadata": {},
   "outputs": [
    {
     "name": "stdout",
     "output_type": "stream",
     "text": [
      "<class 'pandas.core.frame.DataFrame'>\n",
      "RangeIndex: 188533 entries, 0 to 188532\n",
      "Data columns (total 13 columns):\n",
      " #   Column        Non-Null Count   Dtype \n",
      "---  ------        --------------   ----- \n",
      " 0   id            188533 non-null  int64 \n",
      " 1   brand         188533 non-null  object\n",
      " 2   model         188533 non-null  object\n",
      " 3   model_year    188533 non-null  int64 \n",
      " 4   milage        188533 non-null  int64 \n",
      " 5   fuel_type     183450 non-null  object\n",
      " 6   engine        188533 non-null  object\n",
      " 7   transmission  188533 non-null  object\n",
      " 8   ext_col       188533 non-null  object\n",
      " 9   int_col       188533 non-null  object\n",
      " 10  accident      186081 non-null  object\n",
      " 11  clean_title   167114 non-null  object\n",
      " 12  price         188533 non-null  int64 \n",
      "dtypes: int64(4), object(9)\n",
      "memory usage: 18.7+ MB\n"
     ]
    }
   ],
   "source": [
    "df.info()"
   ]
  },
  {
   "cell_type": "code",
   "execution_count": 5,
   "id": "d37001bd-8d8e-4468-a4ed-a011a9f6f203",
   "metadata": {},
   "outputs": [],
   "source": [
    "# Удалим столбец id, он нам будет мешать в расчетах\n",
    "df = df.drop(columns=['id'])\n",
    "dtest = dtest.drop(columns=['id'])"
   ]
  },
  {
   "cell_type": "code",
   "execution_count": 6,
   "id": "db14deca-ba55-43ba-abd5-e649a05579f5",
   "metadata": {},
   "outputs": [
    {
     "data": {
      "image/png": "[encoded data removed]",
      "text/plain": [
       "<Figure size 500x200 with 1 Axes>"
      ]
     },
     "metadata": {},
     "output_type": "display_data"
    }
   ],
   "source": [
    "# выбираем не нулевые значения\n",
    "missing_values = df.isnull().sum() / len(df) * 100\n",
    "non_zero_missing_values = missing_values[missing_values > 0]\n",
    "missing_values_df = non_zero_missing_values.reset_index()\n",
    "missing_values_df.columns = ['Column', 'Percentage']\n",
    "\n",
    "# Визуализация пропущенных значений\n",
    "plt.figure(figsize=(5, 2))\n",
    "ax = sns.barplot(x='Column', y='Percentage', data=missing_values_df, hue = 'Column')\n",
    "\n",
    "sns.color_palette(\"hls\", 8)\n",
    "plt.title('Пропущенные значения')\n",
    "plt.ylabel('Проценты (%)')\n",
    "plt.xlabel('Пропуски в данных')\n",
    "plt.ylim(0, 40)\n",
    "\n",
    "# now simply assign the bar values to\n",
    "# each bar by passing containers method\n",
    "# to bar_label function\n",
    "for i in range (len(missing_values_df)):\n",
    "    ax.bar_label(ax.containers[i])\n",
    "#plt.show()"
   ]
  },
  {
   "cell_type": "markdown",
   "id": "24b3671b-9aa6-4cfb-8874-b214cce98e7d",
   "metadata": {},
   "source": [
    "#### Заполнение пропущенных значений"
   ]
  },
  {
   "cell_type": "markdown",
   "id": "a015d283-73d5-4058-ad8b-6529876c18b7",
   "metadata": {},
   "source": [
    "Столбцы fuel_type, accident, clean_title имеют процентное соотношение 2,70%,1,30%,11,36%, и все они являются категориальными столбцами\n",
    "Варианты заполнения пропусков \n",
    "\n",
    " Замена пропущенных значений наиболее часто встречающимися наблюдаемыми значениями категории в этом столбце. \r",
    "  KNN:заполнение  пропущенные значения на основе значений k-ближайших соседей    . Заполнение новым значением типа Unknown.от\n",
    "В нашем случае fuel_type возьмем из engine.\n",
    "\n",
    "accidentом)clean_titleтое название: в этих случаях использование пропущенных значенийNo report\"Н Unknown\"Неизвестно\" гарантирует, что мы не ошибемся, предположив, что пропущенная запись означает \"Нет аварии\" или \"Да, чистое название\". Это может быть критично, поскольку история аварий напрямую влияет на цены на автомобили.tely."
   ]
  },
  {
   "cell_type": "code",
   "execution_count": 7,
   "id": "61f13fd6-f524-43a7-9104-ec8f0431dcdb",
   "metadata": {},
   "outputs": [],
   "source": [
    "# Заполняем пропуски accident на 'No Report'\n",
    "df['accident'] = df['accident'].fillna('No Report')\n",
    "dtest['accident'] = dtest['accident'].fillna('No Report')\n",
    "\n",
    "# Заполняем пропуски clean_title на 'Unknown'\n",
    "df['clean_title'] = df['clean_title'].fillna('Unknown')\n",
    "dtest['clean_title'] = dtest['clean_title'].fillna('Unknown')"
   ]
  },
  {
   "cell_type": "markdown",
   "id": "6abcb2d5-52a2-43f6-bc98-efdc4eed7586",
   "metadata": {},
   "source": [
    "### Exploratory Data Analysis (EDA)"
   ]
  },
  {
   "cell_type": "code",
   "execution_count": 8,
   "id": "30b3778c-24ac-4dc0-ad11-5f80c20cccfc",
   "metadata": {},
   "outputs": [
    {
     "name": "stdout",
     "output_type": "stream",
     "text": [
      "numric_col:['model_year', 'milage', 'price']\n",
      "object_col:['brand', 'model', 'fuel_type', 'engine', 'transmission', 'ext_col', 'int_col', 'accident', 'clean_title']\n"
     ]
    }
   ],
   "source": [
    "numeric_col=[]\n",
    "object_col=[]\n",
    "for column in df.columns:\n",
    "    if df[column].dtype == 'int64':\n",
    "        numeric_col.append(column)\n",
    "    if df[column].dtype == 'object':\n",
    "        object_col.append(column)\n",
    "        \n",
    "print(f\"numric_col:{numeric_col}\")\n",
    "print(f\"object_col:{object_col}\")"
   ]
  },
  {
   "cell_type": "code",
   "execution_count": 9,
   "id": "2a18b1b5-8644-40e1-ba36-b48ce85d486a",
   "metadata": {},
   "outputs": [
    {
     "data": {
      "text/html": [
       "<div>\n",
       "<style scoped>\n",
       "    .dataframe tbody tr th:only-of-type {\n",
       "        vertical-align: middle;\n",
       "    }\n",
       "\n",
       "    .dataframe tbody tr th {\n",
       "        vertical-align: top;\n",
       "    }\n",
       "\n",
       "    .dataframe thead th {\n",
       "        text-align: right;\n",
       "    }\n",
       "</style>\n",
       "<table border=\"1\" class=\"dataframe\">\n",
       "  <thead>\n",
       "    <tr style=\"text-align: right;\">\n",
       "      <th></th>\n",
       "      <th>model_year</th>\n",
       "      <th>milage</th>\n",
       "      <th>price</th>\n",
       "    </tr>\n",
       "  </thead>\n",
       "  <tbody>\n",
       "    <tr>\n",
       "      <th>count</th>\n",
       "      <td>188533.000000</td>\n",
       "      <td>188533.000000</td>\n",
       "      <td>1.885330e+05</td>\n",
       "    </tr>\n",
       "    <tr>\n",
       "      <th>mean</th>\n",
       "      <td>2015.829998</td>\n",
       "      <td>65705.295174</td>\n",
       "      <td>4.387802e+04</td>\n",
       "    </tr>\n",
       "    <tr>\n",
       "      <th>std</th>\n",
       "      <td>5.660967</td>\n",
       "      <td>49798.158076</td>\n",
       "      <td>7.881952e+04</td>\n",
       "    </tr>\n",
       "    <tr>\n",
       "      <th>min</th>\n",
       "      <td>1974.000000</td>\n",
       "      <td>100.000000</td>\n",
       "      <td>2.000000e+03</td>\n",
       "    </tr>\n",
       "    <tr>\n",
       "      <th>25%</th>\n",
       "      <td>2013.000000</td>\n",
       "      <td>24115.000000</td>\n",
       "      <td>1.700000e+04</td>\n",
       "    </tr>\n",
       "    <tr>\n",
       "      <th>50%</th>\n",
       "      <td>2017.000000</td>\n",
       "      <td>57785.000000</td>\n",
       "      <td>3.082500e+04</td>\n",
       "    </tr>\n",
       "    <tr>\n",
       "      <th>75%</th>\n",
       "      <td>2020.000000</td>\n",
       "      <td>95400.000000</td>\n",
       "      <td>4.990000e+04</td>\n",
       "    </tr>\n",
       "    <tr>\n",
       "      <th>max</th>\n",
       "      <td>2024.000000</td>\n",
       "      <td>405000.000000</td>\n",
       "      <td>2.954083e+06</td>\n",
       "    </tr>\n",
       "  </tbody>\n",
       "</table>\n",
       "</div>"
      ],
      "text/plain": [
       "          model_year         milage         price\n",
       "count  188533.000000  188533.000000  1.885330e+05\n",
       "mean     2015.829998   65705.295174  4.387802e+04\n",
       "std         5.660967   49798.158076  7.881952e+04\n",
       "min      1974.000000     100.000000  2.000000e+03\n",
       "25%      2013.000000   24115.000000  1.700000e+04\n",
       "50%      2017.000000   57785.000000  3.082500e+04\n",
       "75%      2020.000000   95400.000000  4.990000e+04\n",
       "max      2024.000000  405000.000000  2.954083e+06"
      ]
     },
     "execution_count": 9,
     "metadata": {},
     "output_type": "execute_result"
    }
   ],
   "source": [
    "# Статистика \n",
    "df[numeric_col].describe()"
   ]
  },
  {
   "cell_type": "code",
   "execution_count": 10,
   "id": "4878b3c0-3f43-4ef4-90bf-901e88fde063",
   "metadata": {},
   "outputs": [
    {
     "data": {
      "image/png": "[encoded data removed]",
      "text/plain": [
       "<Figure size 800x400 with 4 Axes>"
      ]
     },
     "metadata": {},
     "output_type": "display_data"
    }
   ],
   "source": [
    "# Визуализация числовых значений\n",
    "df[numeric_col].hist(bins=30, figsize=(8, 4))\n",
    "plt.tight_layout()\n",
    "plt.show()"
   ]
  },
  {
   "cell_type": "markdown",
   "id": "b3aba7d0-6d33-45bd-a8f7-172a0c4c2f4e",
   "metadata": {},
   "source": [
    "model_year - график смещен влево. есть старые автомобли (1974 год). Заменим далее model_year на возраст автомобиля.\n",
    "milage - сильно искажено. Гистограмма пробега показывает, что у большинства автомобилей пробег невелик (менее 150 000 км).\r\n",
    "Крайние значения в столбце пробег (до 405 000 км) могут указывать на более старые автомобили или автомобили с очень интенсивным использованием.применим ле логаркк milageега, чтобы уменьшить перекос."
   ]
  },
  {
   "cell_type": "code",
   "execution_count": 11,
   "id": "59433cd7-3264-455b-b044-c6a4a51ff22d",
   "metadata": {},
   "outputs": [],
   "source": [
    "#Данные распределены ненормально. Применим логарифмическое преобразование к столбцам milage, price\n",
    "df['log_milage'] = np.log1p(df['milage'])"
   ]
  },
  {
   "cell_type": "markdown",
   "id": "9e4537f8-ec69-420d-bf59-6b2da79df348",
   "metadata": {},
   "source": [
    "#### Целевая переменная , выбросы и распределение\n",
    "После логарифмических преобразований целевой переменнй наблюдаем, что распределение нормальное, имеются выбросы, которые будут мешать прогнозу"
   ]
  },
  {
   "cell_type": "code",
   "execution_count": 12,
   "id": "6544bcc7-17ed-44bf-87d3-008f9207025e",
   "metadata": {},
   "outputs": [
    {
     "data": {
      "image/png": "[encoded data removed]",
      "text/plain": [
       "<Figure size 1000x300 with 2 Axes>"
      ]
     },
     "metadata": {},
     "output_type": "display_data"
    }
   ],
   "source": [
    "fig, ax = plt.subplots(1,2, figsize=(10, 3))\n",
    "sns.histplot( x = (df['price']),stat='count',  kde= True, bins = 30,line_kws={\"lw\": 3},ax = ax[0]).set_title('Распределение целевой переменной', fontsize=10)\n",
    "sns.boxplot(x = (df['price']), ax = ax[1]).set_title(\"Минимумы, максимумы, средняя, выбросы\", fontsize=10)\n",
    "plt.show()"
   ]
  },
  {
   "cell_type": "code",
   "execution_count": 13,
   "id": "cb4067cf-0181-43fa-8868-723cffab9fa9",
   "metadata": {},
   "outputs": [
    {
     "data": {
      "image/png": "[encoded data removed]",
      "text/plain": [
       "<Figure size 1500x500 with 1 Axes>"
      ]
     },
     "metadata": {},
     "output_type": "display_data"
    }
   ],
   "source": [
    "\n",
    "plt.figure(figsize=(15, 5))\n",
    "sns.barplot(x='brand', y='price', data=df, errorbar=None, palette='hls', legend=False, hue = 'brand')\n",
    "sns.color_palette(\"hls\", 8)\n",
    "plt.title('Средняя цена в разрезе брендов')\n",
    "plt.xlabel('Бренд')\n",
    "plt.ylabel('Средняя цена')\n",
    "plt.xticks(rotation=90)  \n",
    "plt.show()"
   ]
  },
  {
   "cell_type": "code",
   "execution_count": 14,
   "id": "19cfa113-aa10-48ae-a15e-2d50ece8cd1c",
   "metadata": {},
   "outputs": [
    {
     "name": "stderr",
     "output_type": "stream",
     "text": [
      "C:\\Users\\yuril\\AppData\\Local\\Temp\\ipykernel_21768\\3261872617.py:4: FutureWarning: \n",
      "\n",
      "Passing `palette` without assigning `hue` is deprecated and will be removed in v0.14.0. Assign the `x` variable to `hue` and set `legend=False` for the same effect.\n",
      "\n",
      "  sns.barplot(x=avg_price_by_brand.index, y=avg_price_by_brand.values, palette='hls', legend=False)\n"
     ]
    },
    {
     "data": {
      "text/plain": [
       "Text(0, 0.5, 'Средняя цена')"
      ]
     },
     "execution_count": 14,
     "metadata": {},
     "output_type": "execute_result"
    },
    {
     "data": {
      "image/png": "[encoded data removed]",
      "text/plain": [
       "<Figure size 500x200 with 1 Axes>"
      ]
     },
     "metadata": {},
     "output_type": "display_data"
    }
   ],
   "source": [
    "# Выберем 10 самых дорогих марок автомобилей\n",
    "avg_price_by_brand = df.groupby('brand')['price'].mean().sort_values(ascending=False).head(10) \n",
    "plt.figure(figsize=(5, 2))\n",
    "sns.barplot(x=avg_price_by_brand.index, y=avg_price_by_brand.values, palette='hls', legend=False)\n",
    "l_brands = avg_price_by_brand.index.tolist()\n",
    "l_brands = [s.lower() for s in l_brands]\n",
    "plt.title('Top 10 марок по цене')\n",
    "plt.xticks(rotation=90)\n",
    "plt.ylabel('Средняя цена')"
   ]
  },
  {
   "cell_type": "code",
   "execution_count": 15,
   "id": "861ed761-0c72-43e4-bf00-98a6e72d64ed",
   "metadata": {},
   "outputs": [
    {
     "name": "stdout",
     "output_type": "stream",
     "text": [
      "brand: 57 unique values\n",
      "model: 1897 unique values\n",
      "fuel_type: 7 unique values\n",
      "engine: 1117 unique values\n",
      "transmission: 52 unique values\n",
      "ext_col: 319 unique values\n",
      "int_col: 156 unique values\n",
      "accident: 3 unique values\n",
      "clean_title: 2 unique values\n"
     ]
    }
   ],
   "source": [
    "# посмотрим на уникальные значения категориальных переменных\n",
    "unique_values = {col: df[col].nunique() for col in object_col}\n",
    "for col, unique_count in unique_values.items():\n",
    "    print(f\"{col}: {unique_count} unique values\")"
   ]
  },
  {
   "cell_type": "code",
   "execution_count": 16,
   "id": "96a58d98-50ed-457f-bd14-997aad4a9eab",
   "metadata": {},
   "outputs": [],
   "source": [
    "def check_out(df, column):\n",
    "    Q1 = df[column].quantile(0.25)\n",
    "    Q3 = df[column].quantile(0.75)\n",
    "    IQR = Q3 - Q1   \n",
    "    lower_bound = Q1 - 1.5 * IQR\n",
    "    upper_bound = Q3 + 1.5 * IQR    \n",
    "    df_out = df[(df[column] >= lower_bound) & (df[column] <= upper_bound)]\n",
    "    return len(df)- len(df_out)"
   ]
  },
  {
   "cell_type": "code",
   "execution_count": 17,
   "id": "e3317c24-8911-4935-823b-950f967ad4a7",
   "metadata": {},
   "outputs": [
    {
     "name": "stdout",
     "output_type": "stream",
     "text": [
      "кол-во выбросов по милям:  1766\n",
      "кол-во выбросов по цене:  10880\n"
     ]
    }
   ],
   "source": [
    "print ('кол-во выбросов по милям: ',check_out(df,'milage'))\n",
    "print ('кол-во выбросов по цене: ',check_out(df,'price'))"
   ]
  },
  {
   "cell_type": "code",
   "execution_count": 18,
   "id": "2bc15d77-56b6-4ed4-8870-d8c66bfb4155",
   "metadata": {},
   "outputs": [
    {
     "data": {
      "text/html": [
       "<div>\n",
       "<style scoped>\n",
       "    .dataframe tbody tr th:only-of-type {\n",
       "        vertical-align: middle;\n",
       "    }\n",
       "\n",
       "    .dataframe tbody tr th {\n",
       "        vertical-align: top;\n",
       "    }\n",
       "\n",
       "    .dataframe thead th {\n",
       "        text-align: right;\n",
       "    }\n",
       "</style>\n",
       "<table border=\"1\" class=\"dataframe\">\n",
       "  <thead>\n",
       "    <tr style=\"text-align: right;\">\n",
       "      <th></th>\n",
       "      <th>model_year</th>\n",
       "      <th>milage</th>\n",
       "      <th>price</th>\n",
       "      <th>log_milage</th>\n",
       "    </tr>\n",
       "  </thead>\n",
       "  <tbody>\n",
       "    <tr>\n",
       "      <th>count</th>\n",
       "      <td>188533.000000</td>\n",
       "      <td>188533.000000</td>\n",
       "      <td>1.885330e+05</td>\n",
       "      <td>188533.000000</td>\n",
       "    </tr>\n",
       "    <tr>\n",
       "      <th>mean</th>\n",
       "      <td>2015.829998</td>\n",
       "      <td>65705.295174</td>\n",
       "      <td>4.387802e+04</td>\n",
       "      <td>10.656095</td>\n",
       "    </tr>\n",
       "    <tr>\n",
       "      <th>std</th>\n",
       "      <td>5.660967</td>\n",
       "      <td>49798.158076</td>\n",
       "      <td>7.881952e+04</td>\n",
       "      <td>1.150876</td>\n",
       "    </tr>\n",
       "    <tr>\n",
       "      <th>min</th>\n",
       "      <td>1974.000000</td>\n",
       "      <td>100.000000</td>\n",
       "      <td>2.000000e+03</td>\n",
       "      <td>4.615121</td>\n",
       "    </tr>\n",
       "    <tr>\n",
       "      <th>25%</th>\n",
       "      <td>2013.000000</td>\n",
       "      <td>24115.000000</td>\n",
       "      <td>1.700000e+04</td>\n",
       "      <td>10.090631</td>\n",
       "    </tr>\n",
       "    <tr>\n",
       "      <th>50%</th>\n",
       "      <td>2017.000000</td>\n",
       "      <td>57785.000000</td>\n",
       "      <td>3.082500e+04</td>\n",
       "      <td>10.964502</td>\n",
       "    </tr>\n",
       "    <tr>\n",
       "      <th>75%</th>\n",
       "      <td>2020.000000</td>\n",
       "      <td>95400.000000</td>\n",
       "      <td>4.990000e+04</td>\n",
       "      <td>11.465844</td>\n",
       "    </tr>\n",
       "    <tr>\n",
       "      <th>max</th>\n",
       "      <td>2024.000000</td>\n",
       "      <td>405000.000000</td>\n",
       "      <td>2.954083e+06</td>\n",
       "      <td>12.911645</td>\n",
       "    </tr>\n",
       "  </tbody>\n",
       "</table>\n",
       "</div>"
      ],
      "text/plain": [
       "          model_year         milage         price     log_milage\n",
       "count  188533.000000  188533.000000  1.885330e+05  188533.000000\n",
       "mean     2015.829998   65705.295174  4.387802e+04      10.656095\n",
       "std         5.660967   49798.158076  7.881952e+04       1.150876\n",
       "min      1974.000000     100.000000  2.000000e+03       4.615121\n",
       "25%      2013.000000   24115.000000  1.700000e+04      10.090631\n",
       "50%      2017.000000   57785.000000  3.082500e+04      10.964502\n",
       "75%      2020.000000   95400.000000  4.990000e+04      11.465844\n",
       "max      2024.000000  405000.000000  2.954083e+06      12.911645"
      ]
     },
     "execution_count": 18,
     "metadata": {},
     "output_type": "execute_result"
    }
   ],
   "source": [
    "df.describe()"
   ]
  },
  {
   "cell_type": "markdown",
   "id": "7acff869-b9e5-4502-9d7b-56d669e022cc",
   "metadata": {},
   "source": [
    "#### Выводы по данным:\n",
    "\n",
    "##### Категориальные переменные\n",
    "    - большое кол-во уникальных значений в моделях, типа трансмисии, цветов. Необходмо сокращать кол-во уникальных значений или формировать новые переменные из существующих.\n",
    "##### Выбросы :\n",
    "    - пробег 1766/188533 - 0,93%. Вариант - удалить выбросы \n",
    "    - цена 10880/188533 - 5,77%. Выбросы по ценам объясняются люксовыми брендами. Ввести доп метрику по люксовым брендам. Удалить выбросы из тренировачного набора\n"
   ]
  },
  {
   "cell_type": "markdown",
   "id": "4e03066e-6990-4d7b-b284-db6faa9fd1ed",
   "metadata": {},
   "source": [
    "#### Простая линейная модель зависимости цены от пробега "
   ]
  },
  {
   "cell_type": "code",
   "execution_count": 19,
   "id": "5a39f6de-3257-43e1-b4b0-101f35cfc388",
   "metadata": {},
   "outputs": [
    {
     "data": {
      "image/png": "[encoded data removed]",
      "text/plain": [
       "<Figure size 1500x500 with 1 Axes>"
      ]
     },
     "metadata": {},
     "output_type": "display_data"
    }
   ],
   "source": [
    "X = df[['milage']]\n",
    "y = df[['price']]\n",
    "reg_model = LinearRegression().fit(X, y)\n",
    "\n",
    "plt.figure(figsize=(15, 5))\n",
    "g = sns.regplot(x=X,y=y,scatter_kws={\"color\": \"orange\", \"s\": 9},ci=False,color=\"green\")\n",
    "g.set_title(f\" Модель : Цена автомобиля = {round(reg_model.intercept_[0], 2)} + мили*{round(reg_model.coef_[0][0], 2)}\")\n",
    "g.set_ylabel(\"Мили\")\n",
    "g.set_xlabel(\"Цена\")\n",
    "plt.show()"
   ]
  },
  {
   "cell_type": "markdown",
   "id": "d98bcee9-b1bb-44ef-8926-94334152e88f",
   "metadata": {},
   "source": [
    "## 3. Предобработка данных, удаление выбросов, заполнение пропусков"
   ]
  },
  {
   "cell_type": "code",
   "execution_count": 20,
   "id": "fb8ea391-95dd-4c89-aff1-9e4d88e579bc",
   "metadata": {},
   "outputs": [
    {
     "data": {
      "text/plain": [
       "brand              0\n",
       "model              0\n",
       "model_year         0\n",
       "milage             0\n",
       "fuel_type       5083\n",
       "engine             0\n",
       "transmission       0\n",
       "ext_col            0\n",
       "int_col            0\n",
       "accident           0\n",
       "clean_title        0\n",
       "price              0\n",
       "log_milage         0\n",
       "dtype: int64"
      ]
     },
     "execution_count": 20,
     "metadata": {},
     "output_type": "execute_result"
    }
   ],
   "source": [
    "# Пропуски в данных\n",
    "df.isnull().sum()"
   ]
  },
  {
   "cell_type": "code",
   "execution_count": 21,
   "id": "b084d8b3-97d2-4953-97ef-5e872de49bff",
   "metadata": {},
   "outputs": [],
   "source": [
    "# предобработка данных\n",
    "def prep_data(df):\n",
    "    current_year = datetime.datetime.now().year\n",
    "    df = df.copy()\n",
    "    df.loc[(df['engine'].str.contains(\"Electric|electric|Dual Motor|Standard Range Battery\")==True), 'fuel_type'] = 'Electric'\n",
    "    df.loc[(df['engine'].str.contains(\"Gasoline|DOHC|TFSI\")==True), 'fuel_type'] = 'Gasoline'\n",
    "    df.loc[(df['engine'].str.contains(\"Flex Fuel\")==True), 'fuel_type'] = 'Flex Fuel'\n",
    "    df.loc[(df['brand']=='Tesla'), 'fuel_type'] = 'Electric'\n",
    "    df['fuel_type'].fillna('Gasoline',inplace=True)\n",
    "    df['fuel_type'] = df['fuel_type'].replace ('Plug-In Hybrid', 'Hybrid')\n",
    "    df['fuel_type'] = df['fuel_type'].replace ('–', 'Gasoline')\n",
    "    \n",
    "    df['transmission'] = df['transmission'].str.lower()\n",
    "    # Извлекаем horsepower, engine size\n",
    "    df[\"hp\"] = df[\"engine\"].str.extract(r\"(\\d+\\.\\d+)HP\", expand=False).astype(float)\n",
    "    df['engine_size'] = df['engine'].str.extract(r'(\\d+\\.\\d+)(?=L)').astype(float)\n",
    "    #df['cyl'] = df['engine'].str.extract(r'(\\d+)\\s(Cylinder|V\\d|Straight)')[0].astype(float)\n",
    "    # Стандартизируем transmission\n",
    "    df['transmission_type'] = df['transmission'].apply(lambda x: \n",
    "                                                       'manual' if 'm/t' in x or 'manual' in x or  'mt' in x else \n",
    "                                                       'automatic' if 'a/t' in x or 'automatic' in x or  'at' in x else \n",
    "                                                       'CVT' if 'CVT' in x else \n",
    "                                                       'Other')\n",
    "    df['brand'] = df['brand'].str.lower()\n",
    "    df['Luxury_Brand'] = df['brand'].apply(lambda x: 1 if x in l_brands else 0)\n",
    "    df['Age'] = current_year - df['model_year']\n",
    "    \n",
    "    df[object_col] = df[object_col].astype(\"category\")\n",
    "    df.drop(['model_year', 'transmission','engine'], axis= 1 , inplace= True )   \n",
    "    return df"
   ]
  },
  {
   "cell_type": "code",
   "execution_count": 22,
   "id": "6676a7be-1fcf-423e-b621-2c49dad0388e",
   "metadata": {},
   "outputs": [],
   "source": [
    "# применяем предобработку данных\n",
    "df = prep_data(df)\n",
    "dtest = prep_data(dtest)"
   ]
  },
  {
   "cell_type": "code",
   "execution_count": 23,
   "id": "4fb927c9-d613-444d-ad18-b71333dd2f1b",
   "metadata": {},
   "outputs": [
    {
     "data": {
      "text/plain": [
       "(brand                    0\n",
       " model                    0\n",
       " milage                   0\n",
       " fuel_type                0\n",
       " ext_col                  0\n",
       " int_col                  0\n",
       " accident                 0\n",
       " clean_title              0\n",
       " price                    0\n",
       " log_milage               0\n",
       " hp                   33259\n",
       " engine_size          14214\n",
       " transmission_type        0\n",
       " Luxury_Brand             0\n",
       " Age                      0\n",
       " dtype: int64,\n",
       " brand                    0\n",
       " model                    0\n",
       " milage                   0\n",
       " fuel_type                0\n",
       " ext_col                  0\n",
       " int_col                  0\n",
       " accident                 0\n",
       " clean_title              0\n",
       " hp                   22181\n",
       " engine_size           9407\n",
       " transmission_type        0\n",
       " Luxury_Brand             0\n",
       " Age                      0\n",
       " dtype: int64)"
      ]
     },
     "execution_count": 23,
     "metadata": {},
     "output_type": "execute_result"
    }
   ],
   "source": [
    "df.isnull().sum(), dtest.isnull().sum()"
   ]
  },
  {
   "cell_type": "code",
   "execution_count": 24,
   "id": "3bc7d743-1f1e-40f1-820e-d4818def83ce",
   "metadata": {},
   "outputs": [],
   "source": [
    "# заполняем пропуски mode ( mode посмотрели заранее )\n",
    "df['hp'].fillna(300,inplace=True)\n",
    "dtest['hp'].fillna(300,inplace=True)\n",
    "df['engine_size'].fillna(3.0,inplace=True)\n",
    "dtest['engine_size'].fillna(3.0,inplace=True)"
   ]
  },
  {
   "cell_type": "code",
   "execution_count": 25,
   "id": "60c54a3a-e74f-42bd-ae24-d61dd7a8a6b2",
   "metadata": {},
   "outputs": [
    {
     "data": {
      "text/plain": [
       "(brand                0\n",
       " model                0\n",
       " milage               0\n",
       " fuel_type            0\n",
       " ext_col              0\n",
       " int_col              0\n",
       " accident             0\n",
       " clean_title          0\n",
       " price                0\n",
       " log_milage           0\n",
       " hp                   0\n",
       " engine_size          0\n",
       " transmission_type    0\n",
       " Luxury_Brand         0\n",
       " Age                  0\n",
       " dtype: int64,\n",
       " brand                0\n",
       " model                0\n",
       " milage               0\n",
       " fuel_type            0\n",
       " ext_col              0\n",
       " int_col              0\n",
       " accident             0\n",
       " clean_title          0\n",
       " hp                   0\n",
       " engine_size          0\n",
       " transmission_type    0\n",
       " Luxury_Brand         0\n",
       " Age                  0\n",
       " dtype: int64)"
      ]
     },
     "execution_count": 25,
     "metadata": {},
     "output_type": "execute_result"
    }
   ],
   "source": [
    "df.isnull().sum(), dtest.isnull().sum()"
   ]
  },
  {
   "cell_type": "code",
   "execution_count": 26,
   "id": "4eb23986-275e-47d5-bc71-ddf9df0f6433",
   "metadata": {},
   "outputs": [
    {
     "name": "stdout",
     "output_type": "stream",
     "text": [
      "<class 'pandas.core.frame.DataFrame'>\n",
      "RangeIndex: 188533 entries, 0 to 188532\n",
      "Data columns (total 15 columns):\n",
      " #   Column             Non-Null Count   Dtype   \n",
      "---  ------             --------------   -----   \n",
      " 0   brand              188533 non-null  category\n",
      " 1   model              188533 non-null  category\n",
      " 2   milage             188533 non-null  int64   \n",
      " 3   fuel_type          188533 non-null  category\n",
      " 4   ext_col            188533 non-null  category\n",
      " 5   int_col            188533 non-null  category\n",
      " 6   accident           188533 non-null  category\n",
      " 7   clean_title        188533 non-null  category\n",
      " 8   price              188533 non-null  int64   \n",
      " 9   log_milage         188533 non-null  float64 \n",
      " 10  hp                 188533 non-null  float64 \n",
      " 11  engine_size        188533 non-null  float64 \n",
      " 12  transmission_type  188533 non-null  object  \n",
      " 13  Luxury_Brand       188533 non-null  int64   \n",
      " 14  Age                188533 non-null  int64   \n",
      "dtypes: category(7), float64(3), int64(4), object(1)\n",
      "memory usage: 13.4+ MB\n"
     ]
    }
   ],
   "source": [
    "df.info()"
   ]
  },
  {
   "cell_type": "code",
   "execution_count": 27,
   "id": "fafd1a26-9aa9-46a8-8b45-2f9bfca1b2cb",
   "metadata": {},
   "outputs": [],
   "source": [
    "# удалим выбросы\n",
    "def remove_outliers_iqr(df, column):   \n",
    "    Q1 = df[column].quantile(0.25)\n",
    "    Q3 = df[column].quantile(0.75)\n",
    "    IQR = Q3 - Q1   \n",
    "    lower_bound = Q1 - 1.5 * IQR\n",
    "    upper_bound = Q3 + 1.5 * IQR    \n",
    "    df_out = df[(df[column] >= lower_bound) & (df[column] <= upper_bound)]\n",
    "    return df_out\n",
    "\n",
    "df_no_outliers = remove_outliers_iqr(df, 'milage')\n",
    "df_no_outliers = remove_outliers_iqr(df, 'log_milage')\n",
    "df_no_outliers = remove_outliers_iqr(df_no_outliers, 'price')\n",
    "df_no_outliers.reset_index(drop=True, inplace=True)"
   ]
  },
  {
   "cell_type": "code",
   "execution_count": 28,
   "id": "c6ac76fb-1c1c-45d6-9324-13118eb59515",
   "metadata": {},
   "outputs": [
    {
     "data": {
      "image/png": "[encoded data removed]",
      "text/plain": [
       "<Figure size 1500x500 with 2 Axes>"
      ]
     },
     "metadata": {},
     "output_type": "display_data"
    }
   ],
   "source": [
    "# смотрим еще раз выбросы и распределение\n",
    "fig, ax = plt.subplots(1,2, figsize=(15, 5))\n",
    "sns.histplot(\n",
    "    x = df_no_outliers['log_milage'],\n",
    "    stat='count',  \n",
    "    kde= True, \n",
    "    bins = 30,\n",
    "    line_kws={\"lw\": 3},\n",
    "    ax = ax[0]\n",
    "    ).set_title('Распределение milage', fontsize=10)\n",
    "sns.boxplot(\n",
    "    x = df_no_outliers['log_milage'], \n",
    "    ax = ax[1]).set_title(\"Минимумы, максимумы, средняя, выбросы milage\", fontsize=10)\n",
    "plt.show()"
   ]
  },
  {
   "cell_type": "code",
   "execution_count": 29,
   "id": "d661a9de-36ad-4882-91cd-97a290ada064",
   "metadata": {},
   "outputs": [
    {
     "name": "stdout",
     "output_type": "stream",
     "text": [
      "<class 'pandas.core.frame.DataFrame'>\n",
      "RangeIndex: 171112 entries, 0 to 171111\n",
      "Data columns (total 15 columns):\n",
      " #   Column             Non-Null Count   Dtype   \n",
      "---  ------             --------------   -----   \n",
      " 0   brand              171112 non-null  category\n",
      " 1   model              171112 non-null  category\n",
      " 2   milage             171112 non-null  int64   \n",
      " 3   fuel_type          171112 non-null  category\n",
      " 4   ext_col            171112 non-null  category\n",
      " 5   int_col            171112 non-null  category\n",
      " 6   accident           171112 non-null  category\n",
      " 7   clean_title        171112 non-null  category\n",
      " 8   price              171112 non-null  int64   \n",
      " 9   log_milage         171112 non-null  float64 \n",
      " 10  hp                 171112 non-null  float64 \n",
      " 11  engine_size        171112 non-null  float64 \n",
      " 12  transmission_type  171112 non-null  object  \n",
      " 13  Luxury_Brand       171112 non-null  int64   \n",
      " 14  Age                171112 non-null  int64   \n",
      "dtypes: category(7), float64(3), int64(4), object(1)\n",
      "memory usage: 12.2+ MB\n"
     ]
    }
   ],
   "source": [
    "df_no_outliers.info()"
   ]
  },
  {
   "cell_type": "markdown",
   "id": "710d66e7-1042-401b-8ade-1354ea1f4b41",
   "metadata": {},
   "source": [
    "#### Готовим данные, кодируем категориальные переменные "
   ]
  },
  {
   "cell_type": "code",
   "execution_count": 30,
   "id": "4f40bde0-4373-4166-a3f8-d8692982a85c",
   "metadata": {},
   "outputs": [],
   "source": [
    "# Готовим данные\n",
    "df_for_model = df_no_outliers.groupby('price').sample(frac=1, random_state= 1).reset_index(drop = True)\n",
    "X = df_for_model.drop(columns=[ 'price', 'milage',], axis =1)\n",
    "y = df_for_model['price']\n",
    "\n",
    "# Применяем StandardScaler к количественным колонкам\n",
    "from sklearn.preprocessing import StandardScaler\n",
    "numerical_columns = ['log_milage','hp', 'engine_size', 'Age', 'Luxury_Brand']\n",
    "categorical_columns = ['brand', 'model', 'fuel_type', 'ext_col', 'int_col', 'accident', 'clean_title', 'transmission_type' ]\n",
    "scaler = StandardScaler()\n",
    "X[numerical_columns] = scaler.fit_transform(X[numerical_columns])\n",
    "\n",
    "# кодируем категориальные переменные\n",
    "from sklearn.preprocessing import LabelEncoder\n",
    "label_encoders = {}\n",
    "for feature in categorical_columns:\n",
    "    le = LabelEncoder()\n",
    "    X[feature] = le.fit_transform(X[feature])\n",
    "    label_encoders[feature] = le  \n",
    "# разделяем данные на тренировачные и тестовые     \n",
    "X_train, X_test, y_train, y_test = train_test_split( X, y, test_size=0.25, random_state = 8)"
   ]
  },
  {
   "cell_type": "code",
   "execution_count": 31,
   "id": "3abff09f-493d-4892-8e51-aac23d56b578",
   "metadata": {},
   "outputs": [
    {
     "data": {
      "text/html": [
       "<style type=\"text/css\">\n",
       "#T_108a7_row0_col0, #T_108a7_row1_col1, #T_108a7_row2_col2, #T_108a7_row3_col3, #T_108a7_row4_col4, #T_108a7_row5_col5, #T_108a7_row6_col6, #T_108a7_row7_col7, #T_108a7_row8_col8, #T_108a7_row9_col9, #T_108a7_row10_col10, #T_108a7_row11_col11, #T_108a7_row12_col12 {\n",
       "  background-color: #b40426;\n",
       "  color: #f1f1f1;\n",
       "}\n",
       "#T_108a7_row0_col1, #T_108a7_row4_col11 {\n",
       "  background-color: #6282ea;\n",
       "  color: #f1f1f1;\n",
       "}\n",
       "#T_108a7_row0_col2, #T_108a7_row0_col4, #T_108a7_row1_col0, #T_108a7_row10_col6 {\n",
       "  background-color: #516ddb;\n",
       "  color: #f1f1f1;\n",
       "}\n",
       "#T_108a7_row0_col3, #T_108a7_row1_col3, #T_108a7_row12_col5 {\n",
       "  background-color: #455cce;\n",
       "  color: #f1f1f1;\n",
       "}\n",
       "#T_108a7_row0_col5, #T_108a7_row3_col8, #T_108a7_row10_col5 {\n",
       "  background-color: #82a6fb;\n",
       "  color: #f1f1f1;\n",
       "}\n",
       "#T_108a7_row0_col6 {\n",
       "  background-color: #506bda;\n",
       "  color: #f1f1f1;\n",
       "}\n",
       "#T_108a7_row0_col7, #T_108a7_row2_col7 {\n",
       "  background-color: #8badfd;\n",
       "  color: #000000;\n",
       "}\n",
       "#T_108a7_row0_col8 {\n",
       "  background-color: #7699f6;\n",
       "  color: #f1f1f1;\n",
       "}\n",
       "#T_108a7_row0_col9, #T_108a7_row2_col6, #T_108a7_row6_col3 {\n",
       "  background-color: #4961d2;\n",
       "  color: #f1f1f1;\n",
       "}\n",
       "#T_108a7_row0_col10, #T_108a7_row1_col10 {\n",
       "  background-color: #5e7de7;\n",
       "  color: #f1f1f1;\n",
       "}\n",
       "#T_108a7_row0_col11, #T_108a7_row5_col8 {\n",
       "  background-color: #b2ccfb;\n",
       "  color: #000000;\n",
       "}\n",
       "#T_108a7_row0_col12 {\n",
       "  background-color: #8db0fe;\n",
       "  color: #000000;\n",
       "}\n",
       "#T_108a7_row1_col2, #T_108a7_row3_col6, #T_108a7_row4_col2 {\n",
       "  background-color: #5b7ae5;\n",
       "  color: #f1f1f1;\n",
       "}\n",
       "#T_108a7_row1_col4, #T_108a7_row1_col9, #T_108a7_row3_col1, #T_108a7_row10_col11, #T_108a7_row12_col11 {\n",
       "  background-color: #6a8bef;\n",
       "  color: #f1f1f1;\n",
       "}\n",
       "#T_108a7_row1_col5, #T_108a7_row3_col5 {\n",
       "  background-color: #7ea1fa;\n",
       "  color: #f1f1f1;\n",
       "}\n",
       "#T_108a7_row1_col6, #T_108a7_row2_col4, #T_108a7_row7_col4 {\n",
       "  background-color: #465ecf;\n",
       "  color: #f1f1f1;\n",
       "}\n",
       "#T_108a7_row1_col7 {\n",
       "  background-color: #90b2fe;\n",
       "  color: #000000;\n",
       "}\n",
       "#T_108a7_row1_col8, #T_108a7_row2_col5, #T_108a7_row4_col12 {\n",
       "  background-color: #84a7fc;\n",
       "  color: #f1f1f1;\n",
       "}\n",
       "#T_108a7_row1_col11, #T_108a7_row2_col9, #T_108a7_row5_col6, #T_108a7_row6_col4, #T_108a7_row7_col5, #T_108a7_row7_col8, #T_108a7_row8_col3, #T_108a7_row8_col7, #T_108a7_row8_col10, #T_108a7_row8_col12, #T_108a7_row9_col0, #T_108a7_row9_col2, #T_108a7_row11_col1 {\n",
       "  background-color: #3b4cc0;\n",
       "  color: #f1f1f1;\n",
       "}\n",
       "#T_108a7_row1_col12, #T_108a7_row9_col5, #T_108a7_row9_col7 {\n",
       "  background-color: #85a8fc;\n",
       "  color: #f1f1f1;\n",
       "}\n",
       "#T_108a7_row2_col0, #T_108a7_row5_col7, #T_108a7_row10_col3 {\n",
       "  background-color: #4358cb;\n",
       "  color: #f1f1f1;\n",
       "}\n",
       "#T_108a7_row2_col1 {\n",
       "  background-color: #5d7ce6;\n",
       "  color: #f1f1f1;\n",
       "}\n",
       "#T_108a7_row2_col3 {\n",
       "  background-color: #3c4ec2;\n",
       "  color: #f1f1f1;\n",
       "}\n",
       "#T_108a7_row2_col8, #T_108a7_row7_col1, #T_108a7_row7_col10, #T_108a7_row8_col6, #T_108a7_row10_col1 {\n",
       "  background-color: #6e90f2;\n",
       "  color: #f1f1f1;\n",
       "}\n",
       "#T_108a7_row2_col10, #T_108a7_row7_col9, #T_108a7_row8_col1 {\n",
       "  background-color: #6180e9;\n",
       "  color: #f1f1f1;\n",
       "}\n",
       "#T_108a7_row2_col11 {\n",
       "  background-color: #6c8ff1;\n",
       "  color: #f1f1f1;\n",
       "}\n",
       "#T_108a7_row2_col12 {\n",
       "  background-color: #96b7ff;\n",
       "  color: #000000;\n",
       "}\n",
       "#T_108a7_row3_col0, #T_108a7_row6_col1, #T_108a7_row6_col2 {\n",
       "  background-color: #5977e3;\n",
       "  color: #f1f1f1;\n",
       "}\n",
       "#T_108a7_row3_col2, #T_108a7_row10_col0, #T_108a7_row12_col0 {\n",
       "  background-color: #5f7fe8;\n",
       "  color: #f1f1f1;\n",
       "}\n",
       "#T_108a7_row3_col4, #T_108a7_row3_col11, #T_108a7_row6_col11, #T_108a7_row7_col2, #T_108a7_row10_col9, #T_108a7_row11_col9, #T_108a7_row12_col1 {\n",
       "  background-color: #6687ed;\n",
       "  color: #f1f1f1;\n",
       "}\n",
       "#T_108a7_row3_col7 {\n",
       "  background-color: #93b5fe;\n",
       "  color: #000000;\n",
       "}\n",
       "#T_108a7_row3_col9, #T_108a7_row4_col9, #T_108a7_row5_col1 {\n",
       "  background-color: #6384eb;\n",
       "  color: #f1f1f1;\n",
       "}\n",
       "#T_108a7_row3_col10, #T_108a7_row4_col0, #T_108a7_row4_col3, #T_108a7_row5_col0, #T_108a7_row5_col10, #T_108a7_row7_col0, #T_108a7_row9_col10 {\n",
       "  background-color: #5875e1;\n",
       "  color: #f1f1f1;\n",
       "}\n",
       "#T_108a7_row3_col12, #T_108a7_row11_col5 {\n",
       "  background-color: #8fb1fe;\n",
       "  color: #000000;\n",
       "}\n",
       "#T_108a7_row4_col1 {\n",
       "  background-color: #80a3fa;\n",
       "  color: #f1f1f1;\n",
       "}\n",
       "#T_108a7_row4_col5, #T_108a7_row4_col7, #T_108a7_row6_col9 {\n",
       "  background-color: #81a4fb;\n",
       "  color: #f1f1f1;\n",
       "}\n",
       "#T_108a7_row4_col6, #T_108a7_row5_col3, #T_108a7_row9_col3 {\n",
       "  background-color: #3f53c6;\n",
       "  color: #f1f1f1;\n",
       "}\n",
       "#T_108a7_row4_col8, #T_108a7_row11_col12 {\n",
       "  background-color: #89acfd;\n",
       "  color: #000000;\n",
       "}\n",
       "#T_108a7_row4_col10 {\n",
       "  background-color: #5673e0;\n",
       "  color: #f1f1f1;\n",
       "}\n",
       "#T_108a7_row5_col2, #T_108a7_row5_col9 {\n",
       "  background-color: #688aef;\n",
       "  color: #f1f1f1;\n",
       "}\n",
       "#T_108a7_row5_col4, #T_108a7_row8_col4, #T_108a7_row9_col4, #T_108a7_row10_col4 {\n",
       "  background-color: #4f69d9;\n",
       "  color: #f1f1f1;\n",
       "}\n",
       "#T_108a7_row5_col11 {\n",
       "  background-color: #7597f6;\n",
       "  color: #f1f1f1;\n",
       "}\n",
       "#T_108a7_row5_col12 {\n",
       "  background-color: #4a63d3;\n",
       "  color: #f1f1f1;\n",
       "}\n",
       "#T_108a7_row6_col0, #T_108a7_row6_col10 {\n",
       "  background-color: #536edd;\n",
       "  color: #f1f1f1;\n",
       "}\n",
       "#T_108a7_row6_col5, #T_108a7_row9_col11 {\n",
       "  background-color: #6788ee;\n",
       "  color: #f1f1f1;\n",
       "}\n",
       "#T_108a7_row6_col7 {\n",
       "  background-color: #cedaeb;\n",
       "  color: #000000;\n",
       "}\n",
       "#T_108a7_row6_col8, #T_108a7_row10_col7 {\n",
       "  background-color: #9fbfff;\n",
       "  color: #000000;\n",
       "}\n",
       "#T_108a7_row6_col12 {\n",
       "  background-color: #cbd8ee;\n",
       "  color: #000000;\n",
       "}\n",
       "#T_108a7_row7_col3, #T_108a7_row12_col3 {\n",
       "  background-color: #4c66d6;\n",
       "  color: #f1f1f1;\n",
       "}\n",
       "#T_108a7_row7_col6, #T_108a7_row12_col6 {\n",
       "  background-color: #a9c6fd;\n",
       "  color: #000000;\n",
       "}\n",
       "#T_108a7_row7_col11, #T_108a7_row11_col4 {\n",
       "  background-color: #4b64d5;\n",
       "  color: #f1f1f1;\n",
       "}\n",
       "#T_108a7_row7_col12 {\n",
       "  background-color: #f7ad90;\n",
       "  color: #000000;\n",
       "}\n",
       "#T_108a7_row8_col0, #T_108a7_row11_col3 {\n",
       "  background-color: #4257c9;\n",
       "  color: #f1f1f1;\n",
       "}\n",
       "#T_108a7_row8_col2 {\n",
       "  background-color: #485fd1;\n",
       "  color: #f1f1f1;\n",
       "}\n",
       "#T_108a7_row8_col5 {\n",
       "  background-color: #abc8fd;\n",
       "  color: #000000;\n",
       "}\n",
       "#T_108a7_row8_col9 {\n",
       "  background-color: #f1ccb8;\n",
       "  color: #000000;\n",
       "}\n",
       "#T_108a7_row8_col11 {\n",
       "  background-color: #97b8ff;\n",
       "  color: #000000;\n",
       "}\n",
       "#T_108a7_row9_col1, #T_108a7_row11_col2 {\n",
       "  background-color: #6b8df0;\n",
       "  color: #f1f1f1;\n",
       "}\n",
       "#T_108a7_row9_col6 {\n",
       "  background-color: #7093f3;\n",
       "  color: #f1f1f1;\n",
       "}\n",
       "#T_108a7_row9_col8 {\n",
       "  background-color: #f6bea4;\n",
       "  color: #000000;\n",
       "}\n",
       "#T_108a7_row9_col12 {\n",
       "  background-color: #92b4fe;\n",
       "  color: #000000;\n",
       "}\n",
       "#T_108a7_row10_col2, #T_108a7_row10_col8, #T_108a7_row11_col7 {\n",
       "  background-color: #6f92f3;\n",
       "  color: #f1f1f1;\n",
       "}\n",
       "#T_108a7_row10_col12 {\n",
       "  background-color: #bed2f6;\n",
       "  color: #000000;\n",
       "}\n",
       "#T_108a7_row11_col0 {\n",
       "  background-color: #a6c4fe;\n",
       "  color: #000000;\n",
       "}\n",
       "#T_108a7_row11_col6 {\n",
       "  background-color: #5470de;\n",
       "  color: #f1f1f1;\n",
       "}\n",
       "#T_108a7_row11_col8 {\n",
       "  background-color: #b3cdfb;\n",
       "  color: #000000;\n",
       "}\n",
       "#T_108a7_row11_col10 {\n",
       "  background-color: #5a78e4;\n",
       "  color: #f1f1f1;\n",
       "}\n",
       "#T_108a7_row12_col2 {\n",
       "  background-color: #779af7;\n",
       "  color: #f1f1f1;\n",
       "}\n",
       "#T_108a7_row12_col4 {\n",
       "  background-color: #4e68d8;\n",
       "  color: #f1f1f1;\n",
       "}\n",
       "#T_108a7_row12_col7 {\n",
       "  background-color: #f7aa8c;\n",
       "  color: #000000;\n",
       "}\n",
       "#T_108a7_row12_col8 {\n",
       "  background-color: #3e51c5;\n",
       "  color: #f1f1f1;\n",
       "}\n",
       "#T_108a7_row12_col9 {\n",
       "  background-color: #7396f5;\n",
       "  color: #f1f1f1;\n",
       "}\n",
       "#T_108a7_row12_col10 {\n",
       "  background-color: #98b9ff;\n",
       "  color: #000000;\n",
       "}\n",
       "</style>\n",
       "<table id=\"T_108a7\">\n",
       "  <thead>\n",
       "    <tr>\n",
       "      <th class=\"blank level0\" >&nbsp;</th>\n",
       "      <th id=\"T_108a7_level0_col0\" class=\"col_heading level0 col0\" >brand</th>\n",
       "      <th id=\"T_108a7_level0_col1\" class=\"col_heading level0 col1\" >model</th>\n",
       "      <th id=\"T_108a7_level0_col2\" class=\"col_heading level0 col2\" >fuel_type</th>\n",
       "      <th id=\"T_108a7_level0_col3\" class=\"col_heading level0 col3\" >ext_col</th>\n",
       "      <th id=\"T_108a7_level0_col4\" class=\"col_heading level0 col4\" >int_col</th>\n",
       "      <th id=\"T_108a7_level0_col5\" class=\"col_heading level0 col5\" >accident</th>\n",
       "      <th id=\"T_108a7_level0_col6\" class=\"col_heading level0 col6\" >clean_title</th>\n",
       "      <th id=\"T_108a7_level0_col7\" class=\"col_heading level0 col7\" >log_milage</th>\n",
       "      <th id=\"T_108a7_level0_col8\" class=\"col_heading level0 col8\" >hp</th>\n",
       "      <th id=\"T_108a7_level0_col9\" class=\"col_heading level0 col9\" >engine_size</th>\n",
       "      <th id=\"T_108a7_level0_col10\" class=\"col_heading level0 col10\" >transmission_type</th>\n",
       "      <th id=\"T_108a7_level0_col11\" class=\"col_heading level0 col11\" >Luxury_Brand</th>\n",
       "      <th id=\"T_108a7_level0_col12\" class=\"col_heading level0 col12\" >Age</th>\n",
       "    </tr>\n",
       "  </thead>\n",
       "  <tbody>\n",
       "    <tr>\n",
       "      <th id=\"T_108a7_level0_row0\" class=\"row_heading level0 row0\" >brand</th>\n",
       "      <td id=\"T_108a7_row0_col0\" class=\"data row0 col0\" >1.000000</td>\n",
       "      <td id=\"T_108a7_row0_col1\" class=\"data row0 col1\" >-0.021782</td>\n",
       "      <td id=\"T_108a7_row0_col2\" class=\"data row0 col2\" >-0.075351</td>\n",
       "      <td id=\"T_108a7_row0_col3\" class=\"data row0 col3\" >0.005863</td>\n",
       "      <td id=\"T_108a7_row0_col4\" class=\"data row0 col4\" >0.000383</td>\n",
       "      <td id=\"T_108a7_row0_col5\" class=\"data row0 col5\" >-0.001778</td>\n",
       "      <td id=\"T_108a7_row0_col6\" class=\"data row0 col6\" >-0.019388</td>\n",
       "      <td id=\"T_108a7_row0_col7\" class=\"data row0 col7\" >-0.001935</td>\n",
       "      <td id=\"T_108a7_row0_col8\" class=\"data row0 col8\" >-0.078364</td>\n",
       "      <td id=\"T_108a7_row0_col9\" class=\"data row0 col9\" >-0.106130</td>\n",
       "      <td id=\"T_108a7_row0_col10\" class=\"data row0 col10\" >0.023994</td>\n",
       "      <td id=\"T_108a7_row0_col11\" class=\"data row0 col11\" >0.251430</td>\n",
       "      <td id=\"T_108a7_row0_col12\" class=\"data row0 col12\" >0.024919</td>\n",
       "    </tr>\n",
       "    <tr>\n",
       "      <th id=\"T_108a7_level0_row1\" class=\"row_heading level0 row1\" >model</th>\n",
       "      <td id=\"T_108a7_row1_col0\" class=\"data row1 col0\" >-0.021782</td>\n",
       "      <td id=\"T_108a7_row1_col1\" class=\"data row1 col1\" >1.000000</td>\n",
       "      <td id=\"T_108a7_row1_col2\" class=\"data row1 col2\" >-0.039730</td>\n",
       "      <td id=\"T_108a7_row1_col3\" class=\"data row1 col3\" >0.008152</td>\n",
       "      <td id=\"T_108a7_row1_col4\" class=\"data row1 col4\" >0.080187</td>\n",
       "      <td id=\"T_108a7_row1_col5\" class=\"data row1 col5\" >-0.013828</td>\n",
       "      <td id=\"T_108a7_row1_col6\" class=\"data row1 col6\" >-0.052144</td>\n",
       "      <td id=\"T_108a7_row1_col7\" class=\"data row1 col7\" >0.020303</td>\n",
       "      <td id=\"T_108a7_row1_col8\" class=\"data row1 col8\" >-0.026345</td>\n",
       "      <td id=\"T_108a7_row1_col9\" class=\"data row1 col9\" >0.014281</td>\n",
       "      <td id=\"T_108a7_row1_col10\" class=\"data row1 col10\" >0.023282</td>\n",
       "      <td id=\"T_108a7_row1_col11\" class=\"data row1 col11\" >-0.167854</td>\n",
       "      <td id=\"T_108a7_row1_col12\" class=\"data row1 col12\" >-0.006066</td>\n",
       "    </tr>\n",
       "    <tr>\n",
       "      <th id=\"T_108a7_level0_row2\" class=\"row_heading level0 row2\" >fuel_type</th>\n",
       "      <td id=\"T_108a7_row2_col0\" class=\"data row2 col0\" >-0.075351</td>\n",
       "      <td id=\"T_108a7_row2_col1\" class=\"data row2 col1\" >-0.039730</td>\n",
       "      <td id=\"T_108a7_row2_col2\" class=\"data row2 col2\" >1.000000</td>\n",
       "      <td id=\"T_108a7_row2_col3\" class=\"data row2 col3\" >-0.025140</td>\n",
       "      <td id=\"T_108a7_row2_col4\" class=\"data row2 col4\" >-0.036983</td>\n",
       "      <td id=\"T_108a7_row2_col5\" class=\"data row2 col5\" >0.006287</td>\n",
       "      <td id=\"T_108a7_row2_col6\" class=\"data row2 col6\" >-0.044854</td>\n",
       "      <td id=\"T_108a7_row2_col7\" class=\"data row2 col7\" >0.000166</td>\n",
       "      <td id=\"T_108a7_row2_col8\" class=\"data row2 col8\" >-0.109734</td>\n",
       "      <td id=\"T_108a7_row2_col9\" class=\"data row2 col9\" >-0.162517</td>\n",
       "      <td id=\"T_108a7_row2_col10\" class=\"data row2 col10\" >0.029611</td>\n",
       "      <td id=\"T_108a7_row2_col11\" class=\"data row2 col11\" >0.018147</td>\n",
       "      <td id=\"T_108a7_row2_col12\" class=\"data row2 col12\" >0.057606</td>\n",
       "    </tr>\n",
       "    <tr>\n",
       "      <th id=\"T_108a7_level0_row3\" class=\"row_heading level0 row3\" >ext_col</th>\n",
       "      <td id=\"T_108a7_row3_col0\" class=\"data row3 col0\" >0.005863</td>\n",
       "      <td id=\"T_108a7_row3_col1\" class=\"data row3 col1\" >0.008152</td>\n",
       "      <td id=\"T_108a7_row3_col2\" class=\"data row3 col2\" >-0.025140</td>\n",
       "      <td id=\"T_108a7_row3_col3\" class=\"data row3 col3\" >1.000000</td>\n",
       "      <td id=\"T_108a7_row3_col4\" class=\"data row3 col4\" >0.068162</td>\n",
       "      <td id=\"T_108a7_row3_col5\" class=\"data row3 col5\" >-0.014258</td>\n",
       "      <td id=\"T_108a7_row3_col6\" class=\"data row3 col6\" >0.017137</td>\n",
       "      <td id=\"T_108a7_row3_col7\" class=\"data row3 col7\" >0.031565</td>\n",
       "      <td id=\"T_108a7_row3_col8\" class=\"data row3 col8\" >-0.031843</td>\n",
       "      <td id=\"T_108a7_row3_col9\" class=\"data row3 col9\" >-0.012242</td>\n",
       "      <td id=\"T_108a7_row3_col10\" class=\"data row3 col10\" >-0.000194</td>\n",
       "      <td id=\"T_108a7_row3_col11\" class=\"data row3 col11\" >-0.004812</td>\n",
       "      <td id=\"T_108a7_row3_col12\" class=\"data row3 col12\" >0.028736</td>\n",
       "    </tr>\n",
       "    <tr>\n",
       "      <th id=\"T_108a7_level0_row4\" class=\"row_heading level0 row4\" >int_col</th>\n",
       "      <td id=\"T_108a7_row4_col0\" class=\"data row4 col0\" >0.000383</td>\n",
       "      <td id=\"T_108a7_row4_col1\" class=\"data row4 col1\" >0.080187</td>\n",
       "      <td id=\"T_108a7_row4_col2\" class=\"data row4 col2\" >-0.036983</td>\n",
       "      <td id=\"T_108a7_row4_col3\" class=\"data row4 col3\" >0.068162</td>\n",
       "      <td id=\"T_108a7_row4_col4\" class=\"data row4 col4\" >1.000000</td>\n",
       "      <td id=\"T_108a7_row4_col5\" class=\"data row4 col5\" >-0.006959</td>\n",
       "      <td id=\"T_108a7_row4_col6\" class=\"data row4 col6\" >-0.080754</td>\n",
       "      <td id=\"T_108a7_row4_col7\" class=\"data row4 col7\" >-0.037686</td>\n",
       "      <td id=\"T_108a7_row4_col8\" class=\"data row4 col8\" >-0.006064</td>\n",
       "      <td id=\"T_108a7_row4_col9\" class=\"data row4 col9\" >-0.008693</td>\n",
       "      <td id=\"T_108a7_row4_col10\" class=\"data row4 col10\" >-0.005368</td>\n",
       "      <td id=\"T_108a7_row4_col11\" class=\"data row4 col11\" >-0.019637</td>\n",
       "      <td id=\"T_108a7_row4_col12\" class=\"data row4 col12\" >-0.012152</td>\n",
       "    </tr>\n",
       "    <tr>\n",
       "      <th id=\"T_108a7_level0_row5\" class=\"row_heading level0 row5\" >accident</th>\n",
       "      <td id=\"T_108a7_row5_col0\" class=\"data row5 col0\" >-0.001778</td>\n",
       "      <td id=\"T_108a7_row5_col1\" class=\"data row5 col1\" >-0.013828</td>\n",
       "      <td id=\"T_108a7_row5_col2\" class=\"data row5 col2\" >0.006287</td>\n",
       "      <td id=\"T_108a7_row5_col3\" class=\"data row5 col3\" >-0.014258</td>\n",
       "      <td id=\"T_108a7_row5_col4\" class=\"data row5 col4\" >-0.006959</td>\n",
       "      <td id=\"T_108a7_row5_col5\" class=\"data row5 col5\" >1.000000</td>\n",
       "      <td id=\"T_108a7_row5_col6\" class=\"data row5 col6\" >-0.099080</td>\n",
       "      <td id=\"T_108a7_row5_col7\" class=\"data row5 col7\" >-0.282786</td>\n",
       "      <td id=\"T_108a7_row5_col8\" class=\"data row5 col8\" >0.150289</td>\n",
       "      <td id=\"T_108a7_row5_col9\" class=\"data row5 col9\" >0.007856</td>\n",
       "      <td id=\"T_108a7_row5_col10\" class=\"data row5 col10\" >0.000962</td>\n",
       "      <td id=\"T_108a7_row5_col11\" class=\"data row5 col11\" >0.045490</td>\n",
       "      <td id=\"T_108a7_row5_col12\" class=\"data row5 col12\" >-0.232986</td>\n",
       "    </tr>\n",
       "    <tr>\n",
       "      <th id=\"T_108a7_level0_row6\" class=\"row_heading level0 row6\" >clean_title</th>\n",
       "      <td id=\"T_108a7_row6_col0\" class=\"data row6 col0\" >-0.019388</td>\n",
       "      <td id=\"T_108a7_row6_col1\" class=\"data row6 col1\" >-0.052144</td>\n",
       "      <td id=\"T_108a7_row6_col2\" class=\"data row6 col2\" >-0.044854</td>\n",
       "      <td id=\"T_108a7_row6_col3\" class=\"data row6 col3\" >0.017137</td>\n",
       "      <td id=\"T_108a7_row6_col4\" class=\"data row6 col4\" >-0.080754</td>\n",
       "      <td id=\"T_108a7_row6_col5\" class=\"data row6 col5\" >-0.099080</td>\n",
       "      <td id=\"T_108a7_row6_col6\" class=\"data row6 col6\" >1.000000</td>\n",
       "      <td id=\"T_108a7_row6_col7\" class=\"data row6 col7\" >0.265750</td>\n",
       "      <td id=\"T_108a7_row6_col8\" class=\"data row6 col8\" >0.078996</td>\n",
       "      <td id=\"T_108a7_row6_col9\" class=\"data row6 col9\" >0.088802</td>\n",
       "      <td id=\"T_108a7_row6_col10\" class=\"data row6 col10\" >-0.014693</td>\n",
       "      <td id=\"T_108a7_row6_col11\" class=\"data row6 col11\" >-0.008043</td>\n",
       "      <td id=\"T_108a7_row6_col12\" class=\"data row6 col12\" >0.262637</td>\n",
       "    </tr>\n",
       "    <tr>\n",
       "      <th id=\"T_108a7_level0_row7\" class=\"row_heading level0 row7\" >log_milage</th>\n",
       "      <td id=\"T_108a7_row7_col0\" class=\"data row7 col0\" >-0.001935</td>\n",
       "      <td id=\"T_108a7_row7_col1\" class=\"data row7 col1\" >0.020303</td>\n",
       "      <td id=\"T_108a7_row7_col2\" class=\"data row7 col2\" >0.000166</td>\n",
       "      <td id=\"T_108a7_row7_col3\" class=\"data row7 col3\" >0.031565</td>\n",
       "      <td id=\"T_108a7_row7_col4\" class=\"data row7 col4\" >-0.037686</td>\n",
       "      <td id=\"T_108a7_row7_col5\" class=\"data row7 col5\" >-0.282786</td>\n",
       "      <td id=\"T_108a7_row7_col6\" class=\"data row7 col6\" >0.265750</td>\n",
       "      <td id=\"T_108a7_row7_col7\" class=\"data row7 col7\" >1.000000</td>\n",
       "      <td id=\"T_108a7_row7_col8\" class=\"data row7 col8\" >-0.323777</td>\n",
       "      <td id=\"T_108a7_row7_col9\" class=\"data row7 col9\" >-0.019219</td>\n",
       "      <td id=\"T_108a7_row7_col10\" class=\"data row7 col10\" >0.075969</td>\n",
       "      <td id=\"T_108a7_row7_col11\" class=\"data row7 col11\" >-0.102191</td>\n",
       "      <td id=\"T_108a7_row7_col12\" class=\"data row7 col12\" >0.607310</td>\n",
       "    </tr>\n",
       "    <tr>\n",
       "      <th id=\"T_108a7_level0_row8\" class=\"row_heading level0 row8\" >hp</th>\n",
       "      <td id=\"T_108a7_row8_col0\" class=\"data row8 col0\" >-0.078364</td>\n",
       "      <td id=\"T_108a7_row8_col1\" class=\"data row8 col1\" >-0.026345</td>\n",
       "      <td id=\"T_108a7_row8_col2\" class=\"data row8 col2\" >-0.109734</td>\n",
       "      <td id=\"T_108a7_row8_col3\" class=\"data row8 col3\" >-0.031843</td>\n",
       "      <td id=\"T_108a7_row8_col4\" class=\"data row8 col4\" >-0.006064</td>\n",
       "      <td id=\"T_108a7_row8_col5\" class=\"data row8 col5\" >0.150289</td>\n",
       "      <td id=\"T_108a7_row8_col6\" class=\"data row8 col6\" >0.078996</td>\n",
       "      <td id=\"T_108a7_row8_col7\" class=\"data row8 col7\" >-0.323777</td>\n",
       "      <td id=\"T_108a7_row8_col8\" class=\"data row8 col8\" >1.000000</td>\n",
       "      <td id=\"T_108a7_row8_col9\" class=\"data row8 col9\" >0.529510</td>\n",
       "      <td id=\"T_108a7_row8_col10\" class=\"data row8 col10\" >-0.105349</td>\n",
       "      <td id=\"T_108a7_row8_col11\" class=\"data row8 col11\" >0.156290</td>\n",
       "      <td id=\"T_108a7_row8_col12\" class=\"data row8 col12\" >-0.303542</td>\n",
       "    </tr>\n",
       "    <tr>\n",
       "      <th id=\"T_108a7_level0_row9\" class=\"row_heading level0 row9\" >engine_size</th>\n",
       "      <td id=\"T_108a7_row9_col0\" class=\"data row9 col0\" >-0.106130</td>\n",
       "      <td id=\"T_108a7_row9_col1\" class=\"data row9 col1\" >0.014281</td>\n",
       "      <td id=\"T_108a7_row9_col2\" class=\"data row9 col2\" >-0.162517</td>\n",
       "      <td id=\"T_108a7_row9_col3\" class=\"data row9 col3\" >-0.012242</td>\n",
       "      <td id=\"T_108a7_row9_col4\" class=\"data row9 col4\" >-0.008693</td>\n",
       "      <td id=\"T_108a7_row9_col5\" class=\"data row9 col5\" >0.007856</td>\n",
       "      <td id=\"T_108a7_row9_col6\" class=\"data row9 col6\" >0.088802</td>\n",
       "      <td id=\"T_108a7_row9_col7\" class=\"data row9 col7\" >-0.019219</td>\n",
       "      <td id=\"T_108a7_row9_col8\" class=\"data row9 col8\" >0.529510</td>\n",
       "      <td id=\"T_108a7_row9_col9\" class=\"data row9 col9\" >1.000000</td>\n",
       "      <td id=\"T_108a7_row9_col10\" class=\"data row9 col10\" >-0.000847</td>\n",
       "      <td id=\"T_108a7_row9_col11\" class=\"data row9 col11\" >-0.000487</td>\n",
       "      <td id=\"T_108a7_row9_col12\" class=\"data row9 col12\" >0.042660</td>\n",
       "    </tr>\n",
       "    <tr>\n",
       "      <th id=\"T_108a7_level0_row10\" class=\"row_heading level0 row10\" >transmission_type</th>\n",
       "      <td id=\"T_108a7_row10_col0\" class=\"data row10 col0\" >0.023994</td>\n",
       "      <td id=\"T_108a7_row10_col1\" class=\"data row10 col1\" >0.023282</td>\n",
       "      <td id=\"T_108a7_row10_col2\" class=\"data row10 col2\" >0.029611</td>\n",
       "      <td id=\"T_108a7_row10_col3\" class=\"data row10 col3\" >-0.000194</td>\n",
       "      <td id=\"T_108a7_row10_col4\" class=\"data row10 col4\" >-0.005368</td>\n",
       "      <td id=\"T_108a7_row10_col5\" class=\"data row10 col5\" >0.000962</td>\n",
       "      <td id=\"T_108a7_row10_col6\" class=\"data row10 col6\" >-0.014693</td>\n",
       "      <td id=\"T_108a7_row10_col7\" class=\"data row10 col7\" >0.075969</td>\n",
       "      <td id=\"T_108a7_row10_col8\" class=\"data row10 col8\" >-0.105349</td>\n",
       "      <td id=\"T_108a7_row10_col9\" class=\"data row10 col9\" >-0.000847</td>\n",
       "      <td id=\"T_108a7_row10_col10\" class=\"data row10 col10\" >1.000000</td>\n",
       "      <td id=\"T_108a7_row10_col11\" class=\"data row10 col11\" >0.009738</td>\n",
       "      <td id=\"T_108a7_row10_col12\" class=\"data row10 col12\" >0.206719</td>\n",
       "    </tr>\n",
       "    <tr>\n",
       "      <th id=\"T_108a7_level0_row11\" class=\"row_heading level0 row11\" >Luxury_Brand</th>\n",
       "      <td id=\"T_108a7_row11_col0\" class=\"data row11 col0\" >0.251430</td>\n",
       "      <td id=\"T_108a7_row11_col1\" class=\"data row11 col1\" >-0.167854</td>\n",
       "      <td id=\"T_108a7_row11_col2\" class=\"data row11 col2\" >0.018147</td>\n",
       "      <td id=\"T_108a7_row11_col3\" class=\"data row11 col3\" >-0.004812</td>\n",
       "      <td id=\"T_108a7_row11_col4\" class=\"data row11 col4\" >-0.019637</td>\n",
       "      <td id=\"T_108a7_row11_col5\" class=\"data row11 col5\" >0.045490</td>\n",
       "      <td id=\"T_108a7_row11_col6\" class=\"data row11 col6\" >-0.008043</td>\n",
       "      <td id=\"T_108a7_row11_col7\" class=\"data row11 col7\" >-0.102191</td>\n",
       "      <td id=\"T_108a7_row11_col8\" class=\"data row11 col8\" >0.156290</td>\n",
       "      <td id=\"T_108a7_row11_col9\" class=\"data row11 col9\" >-0.000487</td>\n",
       "      <td id=\"T_108a7_row11_col10\" class=\"data row11 col10\" >0.009738</td>\n",
       "      <td id=\"T_108a7_row11_col11\" class=\"data row11 col11\" >1.000000</td>\n",
       "      <td id=\"T_108a7_row11_col12\" class=\"data row11 col12\" >0.009319</td>\n",
       "    </tr>\n",
       "    <tr>\n",
       "      <th id=\"T_108a7_level0_row12\" class=\"row_heading level0 row12\" >Age</th>\n",
       "      <td id=\"T_108a7_row12_col0\" class=\"data row12 col0\" >0.024919</td>\n",
       "      <td id=\"T_108a7_row12_col1\" class=\"data row12 col1\" >-0.006066</td>\n",
       "      <td id=\"T_108a7_row12_col2\" class=\"data row12 col2\" >0.057606</td>\n",
       "      <td id=\"T_108a7_row12_col3\" class=\"data row12 col3\" >0.028736</td>\n",
       "      <td id=\"T_108a7_row12_col4\" class=\"data row12 col4\" >-0.012152</td>\n",
       "      <td id=\"T_108a7_row12_col5\" class=\"data row12 col5\" >-0.232986</td>\n",
       "      <td id=\"T_108a7_row12_col6\" class=\"data row12 col6\" >0.262637</td>\n",
       "      <td id=\"T_108a7_row12_col7\" class=\"data row12 col7\" >0.607310</td>\n",
       "      <td id=\"T_108a7_row12_col8\" class=\"data row12 col8\" >-0.303542</td>\n",
       "      <td id=\"T_108a7_row12_col9\" class=\"data row12 col9\" >0.042660</td>\n",
       "      <td id=\"T_108a7_row12_col10\" class=\"data row12 col10\" >0.206719</td>\n",
       "      <td id=\"T_108a7_row12_col11\" class=\"data row12 col11\" >0.009319</td>\n",
       "      <td id=\"T_108a7_row12_col12\" class=\"data row12 col12\" >1.000000</td>\n",
       "    </tr>\n",
       "  </tbody>\n",
       "</table>\n"
      ],
      "text/plain": [
       "<pandas.io.formats.style.Styler at 0x216908d0510>"
      ]
     },
     "execution_count": 31,
     "metadata": {},
     "output_type": "execute_result"
    }
   ],
   "source": [
    "X_train.corr().style.background_gradient(cmap = 'coolwarm')"
   ]
  },
  {
   "cell_type": "markdown",
   "id": "48961e6c-7c5d-4714-902f-8b4426145c14",
   "metadata": {},
   "source": [
    "#### Выводы\n",
    "##### Есть корреляция между engine_size и hp, между Age и log_milage. Они обяснимы, не удаляем пока никакие столбцы\n"
   ]
  },
  {
   "cell_type": "markdown",
   "id": "8add50a0-6f34-46fb-863c-46a2c8a0ba61",
   "metadata": {},
   "source": [
    "#### Polynomial Regression"
   ]
  },
  {
   "cell_type": "code",
   "execution_count": 32,
   "id": "5f6c2dc9-b3d5-429c-8ff1-9d424572eb26",
   "metadata": {},
   "outputs": [
    {
     "name": "stdout",
     "output_type": "stream",
     "text": [
      "Root Mean squared error:  12731.7527302211\n"
     ]
    }
   ],
   "source": [
    "from sklearn.preprocessing import PolynomialFeatures\n",
    "from sklearn.metrics import root_mean_squared_error\n",
    "\n",
    "poly = PolynomialFeatures(degree=4)\n",
    "\n",
    "X_poly_train = poly.fit_transform(X_train)\n",
    "X_poly_test = poly.fit_transform(X_test)\n",
    "# Fit the model to the data\n",
    "poly.fit(X_poly_train, y_train)\n",
    "lin = LinearRegression()\n",
    "lin.fit(X_poly_train, y_train)\n",
    "\n",
    "y_pred = lin.predict(X_poly_test)\n",
    "\n",
    "print(\"Root Mean squared error: \", root_mean_squared_error(y_test, y_pred))"
   ]
  },
  {
   "cell_type": "markdown",
   "id": "e3566ede-4b72-4d26-b0aa-531bff8ea491",
   "metadata": {},
   "source": [
    "#### Stepwise Regression"
   ]
  },
  {
   "cell_type": "code",
   "execution_count": 33,
   "id": "7052c430-1c51-4018-a1af-1d472fd19862",
   "metadata": {},
   "outputs": [
    {
     "name": "stdout",
     "output_type": "stream",
     "text": [
      "Index(['brand', 'fuel_type', 'accident', 'clean_title', 'log_milage', 'hp',\n",
      "       'engine_size', 'transmission_type', 'Luxury_Brand', 'Age'],\n",
      "      dtype='object')\n",
      "Root Mean squared error:  13409.743247556724\n"
     ]
    }
   ],
   "source": [
    "from sklearn.feature_selection import RFE\n",
    "\n",
    "estimator = LinearRegression()\n",
    "selector = RFE(estimator, n_features_to_select=10)\n",
    "selector = selector.fit(X, y)\n",
    "\n",
    "# Print the selected features\n",
    "print(X.columns[selector.support_])\n",
    "lst = X.columns[selector.support_]\n",
    "\n",
    "# Выберем, только предложенные столбцы для модели \n",
    "Xs = X[lst]\n",
    "Xs_train, Xs_test, ys_train, ys_test = train_test_split( X, y, test_size=0.25, random_state = 8)\n",
    "# Create a decision tree regression model\n",
    "model = LinearRegression()\n",
    "# Fit the model to the data\n",
    "model.fit(Xs_train, ys_train)\n",
    "\n",
    "# Predict the response for a new data point\n",
    "ys_pred = model.predict(Xs_test)\n",
    "\n",
    "print(\"Root Mean squared error: \", root_mean_squared_error(ys_test, ys_pred))"
   ]
  },
  {
   "cell_type": "markdown",
   "id": "f84194dc-7c18-439f-b7ed-e1d21f838550",
   "metadata": {},
   "source": [
    "#### Decision Tree Regression"
   ]
  },
  {
   "cell_type": "code",
   "execution_count": 34,
   "id": "7d7166e1-e61d-4bb4-b96f-7556056f1913",
   "metadata": {},
   "outputs": [
    {
     "name": "stdout",
     "output_type": "stream",
     "text": [
      "Root Mean squared error:  17538.176276684502\n"
     ]
    }
   ],
   "source": [
    "# DecisionTreeRegressor\n",
    "from sklearn.tree import DecisionTreeRegressor\n",
    " \n",
    "# Create a decision tree regression model\n",
    "model = DecisionTreeRegressor()\n",
    "# Fit the model to the data\n",
    "model.fit(X_train, y_train)\n",
    "\n",
    "# Predict the response for a new data point\n",
    "y_pred = model.predict(X_test)\n",
    "print(\"Root Mean squared error: \", root_mean_squared_error(y_test, y_pred))"
   ]
  },
  {
   "cell_type": "code",
   "execution_count": 35,
   "id": "41c3d64e-9a32-456b-bc8a-1bd1149bda1e",
   "metadata": {},
   "outputs": [
    {
     "data": {
      "application/javascript": [
       "\n",
       "        if (window._pyforest_update_imports_cell) { window._pyforest_update_imports_cell('from sklearn.model_selection import GridSearchCV'); }\n",
       "    "
      ],
      "text/plain": [
       "<IPython.core.display.Javascript object>"
      ]
     },
     "metadata": {},
     "output_type": "display_data"
    },
    {
     "name": "stdout",
     "output_type": "stream",
     "text": [
      "Fitting 10 folds for each of 135 candidates, totalling 1350 fits\n",
      "Best parameters: {'max_depth': 30, 'max_features': 'sqrt', 'min_samples_leaf': 5, 'min_samples_split': 4}\n",
      "Root Mean squared error:  13797.400986426495\n"
     ]
    }
   ],
   "source": [
    "# Попробуем подобрать гиперпараметры для Decision Tree Regression\n",
    "param_grid = {\n",
    " 'max_depth': [30, 50, 70, 100, None],\n",
    " 'max_features': [\"sqrt\", \"log2\", None],\n",
    " 'min_samples_leaf': [1, 3, 5],\n",
    " 'min_samples_split': [2, 3, 4]\n",
    " }\n",
    "\n",
    "dtr = DecisionTreeRegressor()\n",
    "\n",
    "grid_search = GridSearchCV(estimator = dtr, param_grid = param_grid, cv = 10, verbose =2, scoring='neg_mean_squared_error', n_jobs = -1)\n",
    "grid_search.fit(X_train, y_train)\n",
    "best_dtree_reg = grid_search.best_estimator_\n",
    "y_pred = best_dtree_reg.predict(X_test)\n",
    "best_params = grid_search.best_params_\n",
    "\n",
    "print(f\"Best parameters: {best_params}\")\n",
    "print(\"Root Mean squared error: \", root_mean_squared_error(y_test, y_pred))"
   ]
  },
  {
   "cell_type": "markdown",
   "id": "0efb43fa-66fd-4983-bfe6-58f2f1ed0a3a",
   "metadata": {},
   "source": [
    "#### Random Forest Regression"
   ]
  },
  {
   "cell_type": "code",
   "execution_count": 36,
   "id": "70568f90-4d36-4c04-bb1b-96419aad121e",
   "metadata": {},
   "outputs": [
    {
     "name": "stderr",
     "output_type": "stream",
     "text": [
      "[Parallel(n_jobs=1)]: Using backend SequentialBackend with 1 concurrent workers.\n",
      "[Parallel(n_jobs=1)]: Done  50 out of  50 | elapsed:   30.9s finished\n",
      "[Parallel(n_jobs=1)]: Using backend SequentialBackend with 1 concurrent workers.\n"
     ]
    },
    {
     "name": "stdout",
     "output_type": "stream",
     "text": [
      "Root Mean squared error:  12882.951577238644\n"
     ]
    },
    {
     "name": "stderr",
     "output_type": "stream",
     "text": [
      "[Parallel(n_jobs=1)]: Done  50 out of  50 | elapsed:    0.8s finished\n"
     ]
    }
   ],
   "source": [
    "# RandomForestRegressor\n",
    "from sklearn.ensemble import RandomForestRegressor\n",
    " \n",
    "model = RandomForestRegressor(n_estimators=50, verbose=True)\n",
    "model.fit(X_train, y_train)\n",
    "y_pred = model.predict(X_test)\n",
    "print(\"Root Mean squared error: \", root_mean_squared_error(y_test, y_pred))"
   ]
  },
  {
   "cell_type": "code",
   "execution_count": 37,
   "id": "6423dffe-ffac-4691-884e-31a547431834",
   "metadata": {},
   "outputs": [
    {
     "data": {
      "application/javascript": [
       "\n",
       "        if (window._pyforest_update_imports_cell) { window._pyforest_update_imports_cell('from sklearn.model_selection import GridSearchCV'); }\n",
       "    "
      ],
      "text/plain": [
       "<IPython.core.display.Javascript object>"
      ]
     },
     "metadata": {},
     "output_type": "display_data"
    },
    {
     "name": "stdout",
     "output_type": "stream",
     "text": [
      "Fitting 5 folds for each of 16 candidates, totalling 80 fits\n",
      "[CV] END criterion=squared_error, max_depth=None, max_leaf_nodes=None; total time=  57.2s\n",
      "[CV] END criterion=squared_error, max_depth=None, max_leaf_nodes=None; total time=  49.9s\n",
      "[CV] END criterion=squared_error, max_depth=None, max_leaf_nodes=None; total time=  49.6s\n",
      "[CV] END criterion=squared_error, max_depth=None, max_leaf_nodes=None; total time=  49.5s\n",
      "[CV] END criterion=squared_error, max_depth=None, max_leaf_nodes=None; total time=  49.6s\n",
      "[CV] END criterion=squared_error, max_depth=None, max_leaf_nodes=2; total time=   4.4s\n",
      "[CV] END criterion=squared_error, max_depth=None, max_leaf_nodes=2; total time=   4.3s\n",
      "[CV] END criterion=squared_error, max_depth=None, max_leaf_nodes=2; total time=   4.6s\n",
      "[CV] END criterion=squared_error, max_depth=None, max_leaf_nodes=2; total time=   4.4s\n",
      "[CV] END criterion=squared_error, max_depth=None, max_leaf_nodes=2; total time=   4.4s\n",
      "[CV] END criterion=squared_error, max_depth=None, max_leaf_nodes=5; total time=   7.1s\n",
      "[CV] END criterion=squared_error, max_depth=None, max_leaf_nodes=5; total time=   7.1s\n",
      "[CV] END criterion=squared_error, max_depth=None, max_leaf_nodes=5; total time=   7.1s\n",
      "[CV] END criterion=squared_error, max_depth=None, max_leaf_nodes=5; total time=   7.1s\n",
      "[CV] END criterion=squared_error, max_depth=None, max_leaf_nodes=5; total time=   7.9s\n",
      "[CV] END criterion=squared_error, max_depth=None, max_leaf_nodes=10; total time=   9.5s\n",
      "[CV] END criterion=squared_error, max_depth=None, max_leaf_nodes=10; total time=   9.3s\n",
      "[CV] END criterion=squared_error, max_depth=None, max_leaf_nodes=10; total time=   9.2s\n",
      "[CV] END criterion=squared_error, max_depth=None, max_leaf_nodes=10; total time=   9.2s\n",
      "[CV] END criterion=squared_error, max_depth=None, max_leaf_nodes=10; total time=   9.2s\n",
      "[CV] END criterion=squared_error, max_depth=2, max_leaf_nodes=None; total time=   4.4s\n",
      "[CV] END criterion=squared_error, max_depth=2, max_leaf_nodes=None; total time=   4.4s\n",
      "[CV] END criterion=squared_error, max_depth=2, max_leaf_nodes=None; total time=   4.5s\n",
      "[CV] END criterion=squared_error, max_depth=2, max_leaf_nodes=None; total time=   4.7s\n",
      "[CV] END criterion=squared_error, max_depth=2, max_leaf_nodes=None; total time=   4.4s\n",
      "[CV] END criterion=squared_error, max_depth=2, max_leaf_nodes=2; total time=   4.4s\n",
      "[CV] END criterion=squared_error, max_depth=2, max_leaf_nodes=2; total time=   4.3s\n",
      "[CV] END criterion=squared_error, max_depth=2, max_leaf_nodes=2; total time=   4.4s\n",
      "[CV] END criterion=squared_error, max_depth=2, max_leaf_nodes=2; total time=   4.4s\n",
      "[CV] END criterion=squared_error, max_depth=2, max_leaf_nodes=2; total time=   4.4s\n",
      "[CV] END criterion=squared_error, max_depth=2, max_leaf_nodes=5; total time=   4.4s\n",
      "[CV] END criterion=squared_error, max_depth=2, max_leaf_nodes=5; total time=   4.4s\n",
      "[CV] END criterion=squared_error, max_depth=2, max_leaf_nodes=5; total time=   4.5s\n",
      "[CV] END criterion=squared_error, max_depth=2, max_leaf_nodes=5; total time=   4.4s\n",
      "[CV] END criterion=squared_error, max_depth=2, max_leaf_nodes=5; total time=   4.5s\n",
      "[CV] END criterion=squared_error, max_depth=2, max_leaf_nodes=10; total time=   4.4s\n",
      "[CV] END criterion=squared_error, max_depth=2, max_leaf_nodes=10; total time=   4.4s\n",
      "[CV] END criterion=squared_error, max_depth=2, max_leaf_nodes=10; total time=   4.5s\n",
      "[CV] END criterion=squared_error, max_depth=2, max_leaf_nodes=10; total time=   4.4s\n",
      "[CV] END criterion=squared_error, max_depth=2, max_leaf_nodes=10; total time=   4.5s\n",
      "[CV] END criterion=squared_error, max_depth=5, max_leaf_nodes=None; total time=  10.9s\n",
      "[CV] END criterion=squared_error, max_depth=5, max_leaf_nodes=None; total time=  10.8s\n",
      "[CV] END criterion=squared_error, max_depth=5, max_leaf_nodes=None; total time=  10.8s\n",
      "[CV] END criterion=squared_error, max_depth=5, max_leaf_nodes=None; total time=  11.0s\n",
      "[CV] END criterion=squared_error, max_depth=5, max_leaf_nodes=None; total time=  10.9s\n",
      "[CV] END criterion=squared_error, max_depth=5, max_leaf_nodes=2; total time=   4.4s\n",
      "[CV] END criterion=squared_error, max_depth=5, max_leaf_nodes=2; total time=   4.4s\n",
      "[CV] END criterion=squared_error, max_depth=5, max_leaf_nodes=2; total time=   4.4s\n",
      "[CV] END criterion=squared_error, max_depth=5, max_leaf_nodes=2; total time=   4.4s\n",
      "[CV] END criterion=squared_error, max_depth=5, max_leaf_nodes=2; total time=   4.5s\n",
      "[CV] END criterion=squared_error, max_depth=5, max_leaf_nodes=5; total time=   7.1s\n",
      "[CV] END criterion=squared_error, max_depth=5, max_leaf_nodes=5; total time=   7.3s\n",
      "[CV] END criterion=squared_error, max_depth=5, max_leaf_nodes=5; total time=   7.3s\n",
      "[CV] END criterion=squared_error, max_depth=5, max_leaf_nodes=5; total time=   7.2s\n",
      "[CV] END criterion=squared_error, max_depth=5, max_leaf_nodes=5; total time=   7.1s\n",
      "[CV] END criterion=squared_error, max_depth=5, max_leaf_nodes=10; total time=   9.4s\n",
      "[CV] END criterion=squared_error, max_depth=5, max_leaf_nodes=10; total time=   9.5s\n",
      "[CV] END criterion=squared_error, max_depth=5, max_leaf_nodes=10; total time=   9.2s\n",
      "[CV] END criterion=squared_error, max_depth=5, max_leaf_nodes=10; total time=   9.2s\n",
      "[CV] END criterion=squared_error, max_depth=5, max_leaf_nodes=10; total time=   9.3s\n",
      "[CV] END criterion=squared_error, max_depth=10, max_leaf_nodes=None; total time=  20.2s\n",
      "[CV] END criterion=squared_error, max_depth=10, max_leaf_nodes=None; total time=  20.5s\n",
      "[CV] END criterion=squared_error, max_depth=10, max_leaf_nodes=None; total time=  20.2s\n",
      "[CV] END criterion=squared_error, max_depth=10, max_leaf_nodes=None; total time=  20.1s\n",
      "[CV] END criterion=squared_error, max_depth=10, max_leaf_nodes=None; total time=  20.7s\n",
      "[CV] END criterion=squared_error, max_depth=10, max_leaf_nodes=2; total time=   4.5s\n",
      "[CV] END criterion=squared_error, max_depth=10, max_leaf_nodes=2; total time=   4.7s\n",
      "[CV] END criterion=squared_error, max_depth=10, max_leaf_nodes=2; total time=   4.4s\n",
      "[CV] END criterion=squared_error, max_depth=10, max_leaf_nodes=2; total time=   4.6s\n",
      "[CV] END criterion=squared_error, max_depth=10, max_leaf_nodes=2; total time=   5.6s\n",
      "[CV] END criterion=squared_error, max_depth=10, max_leaf_nodes=5; total time=   7.2s\n",
      "[CV] END criterion=squared_error, max_depth=10, max_leaf_nodes=5; total time=   7.2s\n",
      "[CV] END criterion=squared_error, max_depth=10, max_leaf_nodes=5; total time=   7.1s\n",
      "[CV] END criterion=squared_error, max_depth=10, max_leaf_nodes=5; total time=   7.1s\n",
      "[CV] END criterion=squared_error, max_depth=10, max_leaf_nodes=5; total time=   7.0s\n",
      "[CV] END criterion=squared_error, max_depth=10, max_leaf_nodes=10; total time=   9.3s\n",
      "[CV] END criterion=squared_error, max_depth=10, max_leaf_nodes=10; total time=   9.1s\n",
      "[CV] END criterion=squared_error, max_depth=10, max_leaf_nodes=10; total time=   9.5s\n",
      "[CV] END criterion=squared_error, max_depth=10, max_leaf_nodes=10; total time=   9.1s\n",
      "[CV] END criterion=squared_error, max_depth=10, max_leaf_nodes=10; total time=   9.2s\n",
      "Best parameters: {'criterion': 'squared_error', 'max_depth': 10, 'max_leaf_nodes': None}\n",
      "Root Mean squared error:  12486.913774857097\n"
     ]
    }
   ],
   "source": [
    "# Попробуем подобрать гиперпараметры для RandomForestRegressor\n",
    "param_grid = [\n",
    "    {'criterion':['squared_error'], 'max_depth':[None, 2,5,10], 'max_leaf_nodes':[None,2,5,10]}]\n",
    "rfr = RandomForestRegressor()\n",
    "grid_search = GridSearchCV(rfr, param_grid, cv=5, scoring = 'neg_mean_squared_error', verbose=2)\n",
    "grid_search.fit(X_train, y_train)\n",
    "best_rfr = grid_search.best_estimator_\n",
    "y_pred = best_rfr.predict(X_test)\n",
    "best_params = grid_search.best_params_\n",
    "\n",
    "print(f\"Best parameters: {best_params}\")\n",
    "print(\"Root Mean squared error: \", root_mean_squared_error(y_test, y_pred))"
   ]
  },
  {
   "cell_type": "markdown",
   "id": "48f9f3d3-edaf-4bc8-bf00-7775637f6188",
   "metadata": {},
   "source": [
    "#### Ridge Regression"
   ]
  },
  {
   "cell_type": "code",
   "execution_count": 38,
   "id": "b722fe3f-8dec-4a32-9d55-4ab0e99981b7",
   "metadata": {},
   "outputs": [
    {
     "name": "stdout",
     "output_type": "stream",
     "text": [
      "Root Mean squared error:  13409.743190678468\n"
     ]
    }
   ],
   "source": [
    "# Ridge\n",
    "from sklearn.linear_model import Ridge\n",
    "\n",
    "model = Ridge(alpha=5)\n",
    "model.fit(X_train, y_train)\n",
    "y_pred = model.predict(X_test)\n",
    "print(\"Root Mean squared error: \", root_mean_squared_error(y_test, y_pred))"
   ]
  },
  {
   "cell_type": "code",
   "execution_count": 39,
   "id": "8fa11808-3d7a-4cba-b46b-81bc81c5321f",
   "metadata": {},
   "outputs": [
    {
     "data": {
      "application/javascript": [
       "\n",
       "        if (window._pyforest_update_imports_cell) { window._pyforest_update_imports_cell('from sklearn.model_selection import GridSearchCV'); }\n",
       "    "
      ],
      "text/plain": [
       "<IPython.core.display.Javascript object>"
      ]
     },
     "metadata": {},
     "output_type": "display_data"
    },
    {
     "name": "stdout",
     "output_type": "stream",
     "text": [
      "Best parameters: {'alpha': 11}\n",
      "Root Mean squared error:  13409.743132475902\n"
     ]
    }
   ],
   "source": [
    "# Попробуем подобрать гиперпараметры для Ridge\n",
    "\n",
    "alpha_values = {'alpha':[0.001, 0.01, 0.02, 0.03, 0.05, 0.1, 1, 2, 3,5, 7, 9, 11]}\n",
    "\n",
    "ridge = Ridge()\n",
    "grid_search = GridSearchCV(ridge, alpha_values, scoring = 'neg_mean_squared_error', cv=10)\n",
    "grid_search.fit(X_train, y_train)\n",
    "best_ridge = grid_search.best_estimator_\n",
    "\n",
    "y_pred = best_ridge.predict(X_test)\n",
    "best_params = grid_search.best_params_\n",
    "\n",
    "print(f\"Best parameters: {best_params}\")\n",
    "print(\"Root Mean squared error: \", root_mean_squared_error(y_test, y_pred))"
   ]
  },
  {
   "cell_type": "markdown",
   "id": "973f74d0-b4af-4d8d-9030-ce7ed4660eee",
   "metadata": {},
   "source": [
    "#### Lasso Regression"
   ]
  },
  {
   "cell_type": "code",
   "execution_count": 40,
   "id": "3a8f5360-8783-4ede-a9fd-a0672a6c6431",
   "metadata": {},
   "outputs": [
    {
     "name": "stdout",
     "output_type": "stream",
     "text": [
      "Root Mean squared error:  13409.807904689356\n"
     ]
    }
   ],
   "source": [
    "# Lasso   \n",
    "from sklearn.linear_model import Lasso\n",
    " \n",
    "model = Lasso(alpha=7)\n",
    "model.fit(X_train, y_train)\n",
    "\n",
    "y_pred = model.predict(X_test)\n",
    "print(\"Root Mean squared error: \", root_mean_squared_error(y_test, y_pred))"
   ]
  },
  {
   "cell_type": "markdown",
   "id": "fb8ecc9e-d555-4ea6-be53-5b7700b20ce1",
   "metadata": {},
   "source": [
    "#### ElasticNet Regression"
   ]
  },
  {
   "cell_type": "code",
   "execution_count": 41,
   "id": "63f772ba-9261-46a6-a11b-418f4f4e0498",
   "metadata": {},
   "outputs": [
    {
     "name": "stdout",
     "output_type": "stream",
     "text": [
      "Root Mean squared error:  13415.416847595305\n"
     ]
    }
   ],
   "source": [
    "# ElasticNet\n",
    "from sklearn.linear_model import ElasticNet\n",
    " \n",
    "# Create an elastic net regression model\n",
    "model = ElasticNet(alpha=0.1, l1_ratio=0.5)\n",
    " \n",
    "model.fit(X_train, y_train)\n",
    "y_pred = model.predict(X_test)\n",
    "\n",
    "print(\"Root Mean squared error: \", root_mean_squared_error(y_test, y_pred))"
   ]
  },
  {
   "cell_type": "code",
   "execution_count": 42,
   "id": "a0e73825-7568-4692-9186-f97a60ff6f1b",
   "metadata": {},
   "outputs": [
    {
     "name": "stdout",
     "output_type": "stream",
     "text": [
      "Root Mean squared error:  15166.428275502336\n"
     ]
    }
   ],
   "source": [
    "from sklearn.neighbors import KNeighborsRegressor\n",
    "\n",
    "knn_model = KNeighborsRegressor(n_neighbors=5)\n",
    "knn_model.fit(X_train, y_train)\n",
    "\n",
    "y_pred = knn_model.predict(X_test)\n",
    "print(\"Root Mean squared error: \", root_mean_squared_error(y_test, y_pred))"
   ]
  },
  {
   "cell_type": "code",
   "execution_count": 43,
   "id": "a92eaf68-729d-420c-b140-75117e8afee6",
   "metadata": {},
   "outputs": [
    {
     "name": "stdout",
     "output_type": "stream",
     "text": [
      "Root Mean squared error:  12314.398261749364\n"
     ]
    }
   ],
   "source": [
    "from catboost import CatBoostRegressor\n",
    "\n",
    "# Initialize and train CatBoost Regressor\n",
    "catboost_model = CatBoostRegressor(iterations=1000, learning_rate=0.2, depth=4, verbose=0, loss_function='RMSE')  \n",
    "catboost_model.fit(X_train, y_train)\n",
    "\n",
    "y_pred = catboost_model.predict(X_test)\n",
    "print(\"Root Mean squared error: \", root_mean_squared_error(y_test, y_pred))"
   ]
  },
  {
   "cell_type": "code",
   "execution_count": 44,
   "id": "901edf4c-b8a8-4d37-858a-2090b4fa4f97",
   "metadata": {},
   "outputs": [],
   "source": [
    "def cat_opt(trial):\n",
    "    params = {\n",
    "        \"iterations\": 1000,\n",
    "        \"learning_rate\": trial.suggest_float(\"learning_rate\", 1e-3, 0.2, log=True),\n",
    "        \"depth\": trial.suggest_int(\"depth\", 1, 10),\n",
    "        \"subsample\": trial.suggest_float(\"subsample\", 0.05, 1.0),\n",
    "        \"colsample_bylevel\": trial.suggest_float(\"colsample_bylevel\", 0.05, 1.0),\n",
    "        \"min_data_in_leaf\": trial.suggest_int(\"min_data_in_leaf\", 1, 100),\n",
    "    }\n",
    "    model = CatBoostRegressor(**params, silent=True)\n",
    "    model.fit(X_train, y_train)\n",
    "    predictions = model.predict(X_test)\n",
    "    rmse = mean_squared_error(y_test, predictions, squared=False)\n",
    "    return rmse"
   ]
  },
  {
   "cell_type": "code",
   "execution_count": 45,
   "id": "896da44f-3f60-4239-b26d-bd7eab228dc4",
   "metadata": {},
   "outputs": [
    {
     "name": "stderr",
     "output_type": "stream",
     "text": [
      "[I 2025-01-19 18:56:27,030] A new study created in memory with name: no-name-ad559bca-6fc7-47ea-8040-c0131739fba0\n",
      "C:\\Users\\yuril\\anaconda3\\Lib\\site-packages\\sklearn\\metrics\\_regression.py:492: FutureWarning: 'squared' is deprecated in version 1.4 and will be removed in 1.6. To calculate the root mean squared error, use the function'root_mean_squared_error'.\n",
      "  warnings.warn(\n",
      "[I 2025-01-19 18:56:34,448] Trial 0 finished with value: 13862.284858526406 and parameters: {'learning_rate': 0.0014664204125291653, 'depth': 3, 'subsample': 0.5335717897553427, 'colsample_bylevel': 0.8806539308880275, 'min_data_in_leaf': 27}. Best is trial 0 with value: 13862.284858526406.\n",
      "C:\\Users\\yuril\\anaconda3\\Lib\\site-packages\\sklearn\\metrics\\_regression.py:492: FutureWarning: 'squared' is deprecated in version 1.4 and will be removed in 1.6. To calculate the root mean squared error, use the function'root_mean_squared_error'.\n",
      "  warnings.warn(\n",
      "[I 2025-01-19 18:56:39,869] Trial 1 finished with value: 12807.202376862504 and parameters: {'learning_rate': 0.011086221773016844, 'depth': 3, 'subsample': 0.7221411291396139, 'colsample_bylevel': 0.11433870113842688, 'min_data_in_leaf': 46}. Best is trial 1 with value: 12807.202376862504.\n",
      "C:\\Users\\yuril\\anaconda3\\Lib\\site-packages\\sklearn\\metrics\\_regression.py:492: FutureWarning: 'squared' is deprecated in version 1.4 and will be removed in 1.6. To calculate the root mean squared error, use the function'root_mean_squared_error'.\n",
      "  warnings.warn(\n",
      "[I 2025-01-19 18:56:53,245] Trial 2 finished with value: 12380.309572505397 and parameters: {'learning_rate': 0.01792709335269339, 'depth': 8, 'subsample': 0.32830651473334593, 'colsample_bylevel': 0.47184047796817263, 'min_data_in_leaf': 99}. Best is trial 2 with value: 12380.309572505397.\n",
      "C:\\Users\\yuril\\anaconda3\\Lib\\site-packages\\sklearn\\metrics\\_regression.py:492: FutureWarning: 'squared' is deprecated in version 1.4 and will be removed in 1.6. To calculate the root mean squared error, use the function'root_mean_squared_error'.\n",
      "  warnings.warn(\n",
      "[I 2025-01-19 18:57:03,531] Trial 3 finished with value: 12439.899921232594 and parameters: {'learning_rate': 0.0197349144646577, 'depth': 5, 'subsample': 0.7533567152053838, 'colsample_bylevel': 0.7564844703804282, 'min_data_in_leaf': 20}. Best is trial 2 with value: 12380.309572505397.\n",
      "C:\\Users\\yuril\\anaconda3\\Lib\\site-packages\\sklearn\\metrics\\_regression.py:492: FutureWarning: 'squared' is deprecated in version 1.4 and will be removed in 1.6. To calculate the root mean squared error, use the function'root_mean_squared_error'.\n",
      "  warnings.warn(\n",
      "[I 2025-01-19 18:57:12,519] Trial 4 finished with value: 12699.887342382139 and parameters: {'learning_rate': 0.004006162335270388, 'depth': 5, 'subsample': 0.4018612865007206, 'colsample_bylevel': 0.7169986714379635, 'min_data_in_leaf': 76}. Best is trial 2 with value: 12380.309572505397.\n",
      "C:\\Users\\yuril\\anaconda3\\Lib\\site-packages\\sklearn\\metrics\\_regression.py:492: FutureWarning: 'squared' is deprecated in version 1.4 and will be removed in 1.6. To calculate the root mean squared error, use the function'root_mean_squared_error'.\n",
      "  warnings.warn(\n",
      "[I 2025-01-19 18:57:16,478] Trial 5 finished with value: 12870.814339335877 and parameters: {'learning_rate': 0.06277720861696685, 'depth': 1, 'subsample': 0.9941105395428093, 'colsample_bylevel': 0.06298043007743043, 'min_data_in_leaf': 66}. Best is trial 2 with value: 12380.309572505397.\n",
      "C:\\Users\\yuril\\anaconda3\\Lib\\site-packages\\sklearn\\metrics\\_regression.py:492: FutureWarning: 'squared' is deprecated in version 1.4 and will be removed in 1.6. To calculate the root mean squared error, use the function'root_mean_squared_error'.\n",
      "  warnings.warn(\n",
      "[I 2025-01-19 18:57:20,934] Trial 6 finished with value: 12774.920322915434 and parameters: {'learning_rate': 0.035949522435739685, 'depth': 1, 'subsample': 0.5002154313118115, 'colsample_bylevel': 0.520912512814106, 'min_data_in_leaf': 47}. Best is trial 2 with value: 12380.309572505397.\n",
      "C:\\Users\\yuril\\anaconda3\\Lib\\site-packages\\sklearn\\metrics\\_regression.py:492: FutureWarning: 'squared' is deprecated in version 1.4 and will be removed in 1.6. To calculate the root mean squared error, use the function'root_mean_squared_error'.\n",
      "  warnings.warn(\n",
      "[I 2025-01-19 18:57:37,818] Trial 7 finished with value: 12327.954769229304 and parameters: {'learning_rate': 0.10148470983870247, 'depth': 8, 'subsample': 0.780271431329813, 'colsample_bylevel': 0.8945179663532767, 'min_data_in_leaf': 44}. Best is trial 7 with value: 12327.954769229304.\n",
      "C:\\Users\\yuril\\anaconda3\\Lib\\site-packages\\sklearn\\metrics\\_regression.py:492: FutureWarning: 'squared' is deprecated in version 1.4 and will be removed in 1.6. To calculate the root mean squared error, use the function'root_mean_squared_error'.\n",
      "  warnings.warn(\n",
      "[I 2025-01-19 18:57:53,020] Trial 8 finished with value: 12332.094642860078 and parameters: {'learning_rate': 0.040432353919228725, 'depth': 7, 'subsample': 0.9789339157507319, 'colsample_bylevel': 0.34334756493210533, 'min_data_in_leaf': 16}. Best is trial 7 with value: 12327.954769229304.\n",
      "C:\\Users\\yuril\\anaconda3\\Lib\\site-packages\\sklearn\\metrics\\_regression.py:492: FutureWarning: 'squared' is deprecated in version 1.4 and will be removed in 1.6. To calculate the root mean squared error, use the function'root_mean_squared_error'.\n",
      "  warnings.warn(\n",
      "[I 2025-01-19 18:57:58,050] Trial 9 finished with value: 17102.500129460197 and parameters: {'learning_rate': 0.0011847390555963667, 'depth': 8, 'subsample': 0.28659740926554994, 'colsample_bylevel': 0.08172676122698269, 'min_data_in_leaf': 23}. Best is trial 7 with value: 12327.954769229304.\n",
      "C:\\Users\\yuril\\anaconda3\\Lib\\site-packages\\sklearn\\metrics\\_regression.py:492: FutureWarning: 'squared' is deprecated in version 1.4 and will be removed in 1.6. To calculate the root mean squared error, use the function'root_mean_squared_error'.\n",
      "  warnings.warn(\n",
      "[I 2025-01-19 18:58:19,281] Trial 10 finished with value: 12733.591399050627 and parameters: {'learning_rate': 0.17153660518259117, 'depth': 10, 'subsample': 0.08369859699222365, 'colsample_bylevel': 0.9602708382284952, 'min_data_in_leaf': 5}. Best is trial 7 with value: 12327.954769229304.\n",
      "C:\\Users\\yuril\\anaconda3\\Lib\\site-packages\\sklearn\\metrics\\_regression.py:492: FutureWarning: 'squared' is deprecated in version 1.4 and will be removed in 1.6. To calculate the root mean squared error, use the function'root_mean_squared_error'.\n",
      "  warnings.warn(\n",
      "[I 2025-01-19 18:58:36,019] Trial 11 finished with value: 12369.390852688128 and parameters: {'learning_rate': 0.15031945389484208, 'depth': 8, 'subsample': 0.9957976466490368, 'colsample_bylevel': 0.2909370121747314, 'min_data_in_leaf': 3}. Best is trial 7 with value: 12327.954769229304.\n",
      "C:\\Users\\yuril\\anaconda3\\Lib\\site-packages\\sklearn\\metrics\\_regression.py:492: FutureWarning: 'squared' is deprecated in version 1.4 and will be removed in 1.6. To calculate the root mean squared error, use the function'root_mean_squared_error'.\n",
      "  warnings.warn(\n",
      "[I 2025-01-19 18:58:50,146] Trial 12 finished with value: 12307.935271422297 and parameters: {'learning_rate': 0.06368839677815254, 'depth': 7, 'subsample': 0.8082589928465302, 'colsample_bylevel': 0.3786889494334802, 'min_data_in_leaf': 37}. Best is trial 12 with value: 12307.935271422297.\n",
      "C:\\Users\\yuril\\anaconda3\\Lib\\site-packages\\sklearn\\metrics\\_regression.py:492: FutureWarning: 'squared' is deprecated in version 1.4 and will be removed in 1.6. To calculate the root mean squared error, use the function'root_mean_squared_error'.\n",
      "  warnings.warn(\n",
      "[I 2025-01-19 18:59:15,261] Trial 13 finished with value: 12389.89106506914 and parameters: {'learning_rate': 0.0820364451338654, 'depth': 10, 'subsample': 0.7753314222907577, 'colsample_bylevel': 0.6720692320213003, 'min_data_in_leaf': 36}. Best is trial 12 with value: 12307.935271422297.\n",
      "C:\\Users\\yuril\\anaconda3\\Lib\\site-packages\\sklearn\\metrics\\_regression.py:492: FutureWarning: 'squared' is deprecated in version 1.4 and will be removed in 1.6. To calculate the root mean squared error, use the function'root_mean_squared_error'.\n",
      "  warnings.warn(\n",
      "[I 2025-01-19 18:59:26,854] Trial 14 finished with value: 12305.650020234798 and parameters: {'learning_rate': 0.09940883279204718, 'depth': 6, 'subsample': 0.8380756063920893, 'colsample_bylevel': 0.34532544940235055, 'min_data_in_leaf': 63}. Best is trial 14 with value: 12305.650020234798.\n",
      "C:\\Users\\yuril\\anaconda3\\Lib\\site-packages\\sklearn\\metrics\\_regression.py:492: FutureWarning: 'squared' is deprecated in version 1.4 and will be removed in 1.6. To calculate the root mean squared error, use the function'root_mean_squared_error'.\n",
      "  warnings.warn(\n",
      "[I 2025-01-19 18:59:36,374] Trial 15 finished with value: 12561.127322806207 and parameters: {'learning_rate': 0.008228597330113406, 'depth': 6, 'subsample': 0.6389794850166888, 'colsample_bylevel': 0.24691600220295332, 'min_data_in_leaf': 66}. Best is trial 14 with value: 12305.650020234798.\n",
      "C:\\Users\\yuril\\anaconda3\\Lib\\site-packages\\sklearn\\metrics\\_regression.py:492: FutureWarning: 'squared' is deprecated in version 1.4 and will be removed in 1.6. To calculate the root mean squared error, use the function'root_mean_squared_error'.\n",
      "  warnings.warn(\n",
      "[I 2025-01-19 18:59:45,190] Trial 16 finished with value: 12427.725388460876 and parameters: {'learning_rate': 0.03752666556958119, 'depth': 4, 'subsample': 0.8771242557432809, 'colsample_bylevel': 0.4140741558479558, 'min_data_in_leaf': 59}. Best is trial 14 with value: 12305.650020234798.\n",
      "C:\\Users\\yuril\\anaconda3\\Lib\\site-packages\\sklearn\\metrics\\_regression.py:492: FutureWarning: 'squared' is deprecated in version 1.4 and will be removed in 1.6. To calculate the root mean squared error, use the function'root_mean_squared_error'.\n",
      "  warnings.warn(\n",
      "[I 2025-01-19 18:59:55,988] Trial 17 finished with value: 12332.760408408845 and parameters: {'learning_rate': 0.06405854924517973, 'depth': 6, 'subsample': 0.8656215372367994, 'colsample_bylevel': 0.2570433306760118, 'min_data_in_leaf': 86}. Best is trial 14 with value: 12305.650020234798.\n",
      "C:\\Users\\yuril\\anaconda3\\Lib\\site-packages\\sklearn\\metrics\\_regression.py:492: FutureWarning: 'squared' is deprecated in version 1.4 and will be removed in 1.6. To calculate the root mean squared error, use the function'root_mean_squared_error'.\n",
      "  warnings.warn(\n",
      "[I 2025-01-19 19:00:08,436] Trial 18 finished with value: 12367.690289286744 and parameters: {'learning_rate': 0.19660335175508703, 'depth': 7, 'subsample': 0.6385833508696217, 'colsample_bylevel': 0.5801666147553656, 'min_data_in_leaf': 35}. Best is trial 14 with value: 12305.650020234798.\n",
      "C:\\Users\\yuril\\anaconda3\\Lib\\site-packages\\sklearn\\metrics\\_regression.py:492: FutureWarning: 'squared' is deprecated in version 1.4 and will be removed in 1.6. To calculate the root mean squared error, use the function'root_mean_squared_error'.\n",
      "  warnings.warn(\n",
      "[I 2025-01-19 19:00:20,939] Trial 19 finished with value: 12325.241739524481 and parameters: {'learning_rate': 0.0943202811369562, 'depth': 9, 'subsample': 0.8849267035206075, 'colsample_bylevel': 0.1780419982475247, 'min_data_in_leaf': 58}. Best is trial 14 with value: 12305.650020234798.\n",
      "C:\\Users\\yuril\\anaconda3\\Lib\\site-packages\\sklearn\\metrics\\_regression.py:492: FutureWarning: 'squared' is deprecated in version 1.4 and will be removed in 1.6. To calculate the root mean squared error, use the function'root_mean_squared_error'.\n",
      "  warnings.warn(\n",
      "[I 2025-01-19 19:00:27,934] Trial 20 finished with value: 12717.068279276556 and parameters: {'learning_rate': 0.005052877095388323, 'depth': 4, 'subsample': 0.5364891176358028, 'colsample_bylevel': 0.3917654675567893, 'min_data_in_leaf': 83}. Best is trial 14 with value: 12305.650020234798.\n",
      "C:\\Users\\yuril\\anaconda3\\Lib\\site-packages\\sklearn\\metrics\\_regression.py:492: FutureWarning: 'squared' is deprecated in version 1.4 and will be removed in 1.6. To calculate the root mean squared error, use the function'root_mean_squared_error'.\n",
      "  warnings.warn(\n",
      "[I 2025-01-19 19:00:40,599] Trial 21 finished with value: 12352.892040600607 and parameters: {'learning_rate': 0.1150215989108696, 'depth': 9, 'subsample': 0.8767171798298539, 'colsample_bylevel': 0.18367479760060967, 'min_data_in_leaf': 56}. Best is trial 14 with value: 12305.650020234798.\n",
      "C:\\Users\\yuril\\anaconda3\\Lib\\site-packages\\sklearn\\metrics\\_regression.py:492: FutureWarning: 'squared' is deprecated in version 1.4 and will be removed in 1.6. To calculate the root mean squared error, use the function'root_mean_squared_error'.\n",
      "  warnings.warn(\n",
      "[I 2025-01-19 19:00:51,986] Trial 22 finished with value: 12340.083790803264 and parameters: {'learning_rate': 0.05303420542932897, 'depth': 7, 'subsample': 0.8933795117869069, 'colsample_bylevel': 0.2167447332470518, 'min_data_in_leaf': 69}. Best is trial 14 with value: 12305.650020234798.\n",
      "C:\\Users\\yuril\\anaconda3\\Lib\\site-packages\\sklearn\\metrics\\_regression.py:492: FutureWarning: 'squared' is deprecated in version 1.4 and will be removed in 1.6. To calculate the root mean squared error, use the function'root_mean_squared_error'.\n",
      "  warnings.warn(\n",
      "[I 2025-01-19 19:01:09,435] Trial 23 finished with value: 12361.449464376927 and parameters: {'learning_rate': 0.09611626453061388, 'depth': 9, 'subsample': 0.6503004602816794, 'colsample_bylevel': 0.34240057327255896, 'min_data_in_leaf': 37}. Best is trial 14 with value: 12305.650020234798.\n",
      "C:\\Users\\yuril\\anaconda3\\Lib\\site-packages\\sklearn\\metrics\\_regression.py:492: FutureWarning: 'squared' is deprecated in version 1.4 and will be removed in 1.6. To calculate the root mean squared error, use the function'root_mean_squared_error'.\n",
      "  warnings.warn(\n",
      "[I 2025-01-19 19:01:19,965] Trial 24 finished with value: 12409.797210568237 and parameters: {'learning_rate': 0.02555866906848336, 'depth': 9, 'subsample': 0.8107149429333871, 'colsample_bylevel': 0.15587883505494246, 'min_data_in_leaf': 56}. Best is trial 14 with value: 12305.650020234798.\n",
      "C:\\Users\\yuril\\anaconda3\\Lib\\site-packages\\sklearn\\metrics\\_regression.py:492: FutureWarning: 'squared' is deprecated in version 1.4 and will be removed in 1.6. To calculate the root mean squared error, use the function'root_mean_squared_error'.\n",
      "  warnings.warn(\n",
      "[I 2025-01-19 19:01:31,427] Trial 25 finished with value: 12304.780645845694 and parameters: {'learning_rate': 0.12776374167850918, 'depth': 6, 'subsample': 0.6903339659490021, 'colsample_bylevel': 0.44842923190158185, 'min_data_in_leaf': 75}. Best is trial 25 with value: 12304.780645845694.\n",
      "C:\\Users\\yuril\\anaconda3\\Lib\\site-packages\\sklearn\\metrics\\_regression.py:492: FutureWarning: 'squared' is deprecated in version 1.4 and will be removed in 1.6. To calculate the root mean squared error, use the function'root_mean_squared_error'.\n",
      "  warnings.warn(\n",
      "[I 2025-01-19 19:01:42,809] Trial 26 finished with value: 12301.996115970702 and parameters: {'learning_rate': 0.12582054509614002, 'depth': 6, 'subsample': 0.6852113411710901, 'colsample_bylevel': 0.57505442380677, 'min_data_in_leaf': 86}. Best is trial 26 with value: 12301.996115970702.\n",
      "C:\\Users\\yuril\\anaconda3\\Lib\\site-packages\\sklearn\\metrics\\_regression.py:492: FutureWarning: 'squared' is deprecated in version 1.4 and will be removed in 1.6. To calculate the root mean squared error, use the function'root_mean_squared_error'.\n",
      "  warnings.warn(\n",
      "[I 2025-01-19 19:01:54,449] Trial 27 finished with value: 12304.147042765435 and parameters: {'learning_rate': 0.1418428312868913, 'depth': 6, 'subsample': 0.6987884493590871, 'colsample_bylevel': 0.60169319727175, 'min_data_in_leaf': 99}. Best is trial 26 with value: 12301.996115970702.\n",
      "C:\\Users\\yuril\\anaconda3\\Lib\\site-packages\\sklearn\\metrics\\_regression.py:492: FutureWarning: 'squared' is deprecated in version 1.4 and will be removed in 1.6. To calculate the root mean squared error, use the function'root_mean_squared_error'.\n",
      "  warnings.warn(\n",
      "[I 2025-01-19 19:02:05,225] Trial 28 finished with value: 12303.938008844505 and parameters: {'learning_rate': 0.1463937992535196, 'depth': 5, 'subsample': 0.7021602676999603, 'colsample_bylevel': 0.6178359512365903, 'min_data_in_leaf': 100}. Best is trial 26 with value: 12301.996115970702.\n",
      "C:\\Users\\yuril\\anaconda3\\Lib\\site-packages\\sklearn\\metrics\\_regression.py:492: FutureWarning: 'squared' is deprecated in version 1.4 and will be removed in 1.6. To calculate the root mean squared error, use the function'root_mean_squared_error'.\n",
      "  warnings.warn(\n",
      "[I 2025-01-19 19:02:13,251] Trial 29 finished with value: 12319.178300058675 and parameters: {'learning_rate': 0.19037033426408095, 'depth': 4, 'subsample': 0.5370372062379718, 'colsample_bylevel': 0.617339123872236, 'min_data_in_leaf': 98}. Best is trial 26 with value: 12301.996115970702.\n",
      "C:\\Users\\yuril\\anaconda3\\Lib\\site-packages\\sklearn\\metrics\\_regression.py:492: FutureWarning: 'squared' is deprecated in version 1.4 and will be removed in 1.6. To calculate the root mean squared error, use the function'root_mean_squared_error'.\n",
      "  warnings.warn(\n",
      "[I 2025-01-19 19:02:23,547] Trial 30 finished with value: 12791.650283645598 and parameters: {'learning_rate': 0.003086824599359828, 'depth': 5, 'subsample': 0.5704850533408989, 'colsample_bylevel': 0.78291749588374, 'min_data_in_leaf': 94}. Best is trial 26 with value: 12301.996115970702.\n",
      "C:\\Users\\yuril\\anaconda3\\Lib\\site-packages\\sklearn\\metrics\\_regression.py:492: FutureWarning: 'squared' is deprecated in version 1.4 and will be removed in 1.6. To calculate the root mean squared error, use the function'root_mean_squared_error'.\n",
      "  warnings.warn(\n",
      "[I 2025-01-19 19:02:35,516] Trial 31 finished with value: 12305.619978864319 and parameters: {'learning_rate': 0.13362331220934873, 'depth': 6, 'subsample': 0.6978370294476699, 'colsample_bylevel': 0.5491405640451644, 'min_data_in_leaf': 90}. Best is trial 26 with value: 12301.996115970702.\n",
      "C:\\Users\\yuril\\anaconda3\\Lib\\site-packages\\sklearn\\metrics\\_regression.py:492: FutureWarning: 'squared' is deprecated in version 1.4 and will be removed in 1.6. To calculate the root mean squared error, use the function'root_mean_squared_error'.\n",
      "  warnings.warn(\n",
      "[I 2025-01-19 19:02:43,274] Trial 32 finished with value: 12367.50041890712 and parameters: {'learning_rate': 0.13714398246390094, 'depth': 3, 'subsample': 0.687747657717832, 'colsample_bylevel': 0.4748032084419279, 'min_data_in_leaf': 79}. Best is trial 26 with value: 12301.996115970702.\n",
      "C:\\Users\\yuril\\anaconda3\\Lib\\site-packages\\sklearn\\metrics\\_regression.py:492: FutureWarning: 'squared' is deprecated in version 1.4 and will be removed in 1.6. To calculate the root mean squared error, use the function'root_mean_squared_error'.\n",
      "  warnings.warn(\n",
      "[I 2025-01-19 19:02:53,939] Trial 33 finished with value: 12356.80023101041 and parameters: {'learning_rate': 0.04717558504244953, 'depth': 5, 'subsample': 0.6001250135438689, 'colsample_bylevel': 0.6508628877229647, 'min_data_in_leaf': 100}. Best is trial 26 with value: 12301.996115970702.\n",
      "C:\\Users\\yuril\\anaconda3\\Lib\\site-packages\\sklearn\\metrics\\_regression.py:492: FutureWarning: 'squared' is deprecated in version 1.4 and will be removed in 1.6. To calculate the root mean squared error, use the function'root_mean_squared_error'.\n",
      "  warnings.warn(\n",
      "[I 2025-01-19 19:03:03,314] Trial 34 finished with value: 12363.127176249092 and parameters: {'learning_rate': 0.07580933744252326, 'depth': 4, 'subsample': 0.7258127205727832, 'colsample_bylevel': 0.4816866161797772, 'min_data_in_leaf': 90}. Best is trial 26 with value: 12301.996115970702.\n",
      "C:\\Users\\yuril\\anaconda3\\Lib\\site-packages\\sklearn\\metrics\\_regression.py:492: FutureWarning: 'squared' is deprecated in version 1.4 and will be removed in 1.6. To calculate the root mean squared error, use the function'root_mean_squared_error'.\n",
      "  warnings.warn(\n",
      "[I 2025-01-19 19:03:12,197] Trial 35 finished with value: 12415.344771971373 and parameters: {'learning_rate': 0.024980486695134765, 'depth': 5, 'subsample': 0.5047434363213696, 'colsample_bylevel': 0.7427441956796507, 'min_data_in_leaf': 78}. Best is trial 26 with value: 12301.996115970702.\n",
      "C:\\Users\\yuril\\anaconda3\\Lib\\site-packages\\sklearn\\metrics\\_regression.py:492: FutureWarning: 'squared' is deprecated in version 1.4 and will be removed in 1.6. To calculate the root mean squared error, use the function'root_mean_squared_error'.\n",
      "  warnings.warn(\n",
      "[I 2025-01-19 19:03:18,485] Trial 36 finished with value: 12626.317177436196 and parameters: {'learning_rate': 0.012750333723589295, 'depth': 3, 'subsample': 0.44881865539739296, 'colsample_bylevel': 0.8266195494569082, 'min_data_in_leaf': 74}. Best is trial 26 with value: 12301.996115970702.\n",
      "C:\\Users\\yuril\\anaconda3\\Lib\\site-packages\\sklearn\\metrics\\_regression.py:492: FutureWarning: 'squared' is deprecated in version 1.4 and will be removed in 1.6. To calculate the root mean squared error, use the function'root_mean_squared_error'.\n",
      "  warnings.warn(\n",
      "[I 2025-01-19 19:03:30,690] Trial 37 finished with value: 13059.47368368457 and parameters: {'learning_rate': 0.0019698043101238866, 'depth': 6, 'subsample': 0.7276196425817282, 'colsample_bylevel': 0.593114963239375, 'min_data_in_leaf': 93}. Best is trial 26 with value: 12301.996115970702.\n",
      "C:\\Users\\yuril\\anaconda3\\Lib\\site-packages\\sklearn\\metrics\\_regression.py:492: FutureWarning: 'squared' is deprecated in version 1.4 and will be removed in 1.6. To calculate the root mean squared error, use the function'root_mean_squared_error'.\n",
      "  warnings.warn(\n",
      "[I 2025-01-19 19:03:36,120] Trial 38 finished with value: 12470.516888652404 and parameters: {'learning_rate': 0.1292256035380993, 'depth': 2, 'subsample': 0.596351629385154, 'colsample_bylevel': 0.6733278654331278, 'min_data_in_leaf': 84}. Best is trial 26 with value: 12301.996115970702.\n",
      "C:\\Users\\yuril\\anaconda3\\Lib\\site-packages\\sklearn\\metrics\\_regression.py:492: FutureWarning: 'squared' is deprecated in version 1.4 and will be removed in 1.6. To calculate the root mean squared error, use the function'root_mean_squared_error'.\n",
      "  warnings.warn(\n",
      "[I 2025-01-19 19:03:47,891] Trial 39 finished with value: 12360.703957635213 and parameters: {'learning_rate': 0.027550271320192797, 'depth': 7, 'subsample': 0.38474782027064347, 'colsample_bylevel': 0.541028626722794, 'min_data_in_leaf': 95}. Best is trial 26 with value: 12301.996115970702.\n"
     ]
    }
   ],
   "source": [
    "study = optuna.create_study(direction='minimize')\n",
    "study.optimize(cat_opt, n_trials=40)"
   ]
  },
  {
   "cell_type": "code",
   "execution_count": 46,
   "id": "b6c9e6ad-1b3f-45df-a5bd-678a26912c3c",
   "metadata": {},
   "outputs": [],
   "source": [
    "# попробуем подобрать параметры с помощью GridSearchCV\n",
    "# from catboost import CatBoostRegressor\n",
    "# cat_reg = CatBoostRegressor(random_state=42)\n",
    "\n",
    "# catBoostRegressor параметры\n",
    "# params_grid = {\n",
    "#    'num_leaves': [7, 14, 21, 28, 31, 50],\n",
    "#    'learning_rate': [0.5, 0.2, 0.1, 0.01, 0.001],\n",
    "#    'max_depth': [-1, 3, 5],\n",
    "#    'n_estimators': [50, 100, 200, 500]\n",
    "#    }\n",
    "# Create instance of GridSearchCV Model\n",
    "# grid_search = GridSearchCV(cat_reg, params_grid, scoring='neg_mean_squared_error', cv=5)\n",
    "# grid_search.fit(X_train, y_train)"
   ]
  },
  {
   "cell_type": "code",
   "execution_count": 47,
   "id": "efacb6a8-d5de-4147-939d-2a2eff2958fc",
   "metadata": {},
   "outputs": [
    {
     "data": {
      "text/plain": [
       "{'alpha': 11}"
      ]
     },
     "execution_count": 47,
     "metadata": {},
     "output_type": "execute_result"
    }
   ],
   "source": [
    "#grid_search.best_params_"
   ]
  },
  {
   "cell_type": "code",
   "execution_count": 48,
   "id": "914f7d6e-95d4-4f4e-aac0-1d0ac80df01b",
   "metadata": {},
   "outputs": [
    {
     "name": "stdout",
     "output_type": "stream",
     "text": [
      "0:\tlearn: 18082.0682769\ttotal: 17.7ms\tremaining: 8.86s\n",
      "1:\tlearn: 16579.7898556\ttotal: 32.9ms\tremaining: 8.19s\n",
      "2:\tlearn: 15465.1312316\ttotal: 46.1ms\tremaining: 7.63s\n",
      "3:\tlearn: 14664.9404179\ttotal: 58.6ms\tremaining: 7.27s\n",
      "4:\tlearn: 14086.1143025\ttotal: 70.1ms\tremaining: 6.94s\n",
      "5:\tlearn: 13698.0445004\ttotal: 81.6ms\tremaining: 6.72s\n",
      "6:\tlearn: 13414.2505244\ttotal: 93.6ms\tremaining: 6.59s\n",
      "7:\tlearn: 13206.4716575\ttotal: 105ms\tremaining: 6.44s\n",
      "8:\tlearn: 13054.6940820\ttotal: 116ms\tremaining: 6.31s\n",
      "9:\tlearn: 12943.3668066\ttotal: 126ms\tremaining: 6.18s\n",
      "10:\tlearn: 12860.4271747\ttotal: 137ms\tremaining: 6.1s\n",
      "11:\tlearn: 12801.7321406\ttotal: 148ms\tremaining: 6.03s\n",
      "12:\tlearn: 12752.7800797\ttotal: 160ms\tremaining: 5.98s\n",
      "13:\tlearn: 12715.9563824\ttotal: 174ms\tremaining: 6.03s\n",
      "14:\tlearn: 12686.0523562\ttotal: 190ms\tremaining: 6.15s\n",
      "15:\tlearn: 12662.7458803\ttotal: 201ms\tremaining: 6.09s\n",
      "16:\tlearn: 12637.3408498\ttotal: 212ms\tremaining: 6.03s\n",
      "17:\tlearn: 12622.1901747\ttotal: 224ms\tremaining: 5.99s\n",
      "18:\tlearn: 12609.4579037\ttotal: 237ms\tremaining: 6s\n",
      "19:\tlearn: 12597.7973287\ttotal: 248ms\tremaining: 5.95s\n",
      "20:\tlearn: 12590.6386822\ttotal: 259ms\tremaining: 5.9s\n",
      "21:\tlearn: 12575.7673336\ttotal: 270ms\tremaining: 5.87s\n",
      "22:\tlearn: 12563.6163806\ttotal: 281ms\tremaining: 5.83s\n",
      "23:\tlearn: 12552.7074434\ttotal: 292ms\tremaining: 5.79s\n",
      "24:\tlearn: 12544.6086193\ttotal: 302ms\tremaining: 5.73s\n",
      "25:\tlearn: 12538.9418312\ttotal: 310ms\tremaining: 5.66s\n",
      "26:\tlearn: 12531.6880558\ttotal: 320ms\tremaining: 5.6s\n",
      "27:\tlearn: 12516.3842265\ttotal: 330ms\tremaining: 5.55s\n",
      "28:\tlearn: 12505.1182295\ttotal: 340ms\tremaining: 5.52s\n",
      "29:\tlearn: 12500.5878610\ttotal: 349ms\tremaining: 5.47s\n",
      "30:\tlearn: 12497.5093475\ttotal: 359ms\tremaining: 5.43s\n",
      "31:\tlearn: 12489.7686869\ttotal: 371ms\tremaining: 5.42s\n",
      "32:\tlearn: 12482.3895891\ttotal: 379ms\tremaining: 5.37s\n",
      "33:\tlearn: 12478.7190258\ttotal: 389ms\tremaining: 5.33s\n",
      "34:\tlearn: 12473.3305589\ttotal: 398ms\tremaining: 5.29s\n",
      "35:\tlearn: 12470.7063657\ttotal: 408ms\tremaining: 5.26s\n",
      "36:\tlearn: 12467.2307852\ttotal: 418ms\tremaining: 5.23s\n",
      "37:\tlearn: 12462.1259415\ttotal: 427ms\tremaining: 5.19s\n",
      "38:\tlearn: 12458.3439937\ttotal: 439ms\tremaining: 5.19s\n",
      "39:\tlearn: 12452.6005444\ttotal: 452ms\tremaining: 5.2s\n",
      "40:\tlearn: 12447.3040180\ttotal: 465ms\tremaining: 5.2s\n",
      "41:\tlearn: 12442.3965569\ttotal: 475ms\tremaining: 5.18s\n",
      "42:\tlearn: 12437.5555914\ttotal: 489ms\tremaining: 5.19s\n",
      "43:\tlearn: 12432.0823791\ttotal: 501ms\tremaining: 5.2s\n",
      "44:\tlearn: 12429.0661715\ttotal: 513ms\tremaining: 5.19s\n",
      "45:\tlearn: 12425.1794721\ttotal: 524ms\tremaining: 5.17s\n",
      "46:\tlearn: 12422.4088208\ttotal: 534ms\tremaining: 5.15s\n",
      "47:\tlearn: 12419.1481989\ttotal: 545ms\tremaining: 5.13s\n",
      "48:\tlearn: 12414.8518530\ttotal: 555ms\tremaining: 5.11s\n",
      "49:\tlearn: 12411.5872500\ttotal: 566ms\tremaining: 5.09s\n",
      "50:\tlearn: 12407.3243169\ttotal: 577ms\tremaining: 5.08s\n",
      "51:\tlearn: 12403.3841222\ttotal: 588ms\tremaining: 5.06s\n",
      "52:\tlearn: 12401.2768968\ttotal: 598ms\tremaining: 5.05s\n",
      "53:\tlearn: 12397.9133306\ttotal: 609ms\tremaining: 5.03s\n",
      "54:\tlearn: 12393.5295239\ttotal: 621ms\tremaining: 5.03s\n",
      "55:\tlearn: 12387.1176316\ttotal: 632ms\tremaining: 5.01s\n",
      "56:\tlearn: 12383.1802540\ttotal: 641ms\tremaining: 4.98s\n",
      "57:\tlearn: 12380.8276655\ttotal: 652ms\tremaining: 4.97s\n",
      "58:\tlearn: 12376.0113018\ttotal: 664ms\tremaining: 4.96s\n",
      "59:\tlearn: 12371.9499055\ttotal: 675ms\tremaining: 4.95s\n",
      "60:\tlearn: 12369.3147735\ttotal: 687ms\tremaining: 4.94s\n",
      "61:\tlearn: 12367.2266906\ttotal: 700ms\tremaining: 4.94s\n",
      "62:\tlearn: 12362.3146987\ttotal: 714ms\tremaining: 4.95s\n",
      "63:\tlearn: 12360.1106838\ttotal: 725ms\tremaining: 4.94s\n",
      "64:\tlearn: 12356.9443301\ttotal: 736ms\tremaining: 4.92s\n",
      "65:\tlearn: 12353.7044009\ttotal: 747ms\tremaining: 4.91s\n",
      "66:\tlearn: 12350.6999766\ttotal: 757ms\tremaining: 4.89s\n",
      "67:\tlearn: 12347.0692197\ttotal: 768ms\tremaining: 4.88s\n",
      "68:\tlearn: 12345.1737476\ttotal: 778ms\tremaining: 4.86s\n",
      "69:\tlearn: 12342.3273326\ttotal: 788ms\tremaining: 4.84s\n",
      "70:\tlearn: 12338.3786243\ttotal: 800ms\tremaining: 4.83s\n",
      "71:\tlearn: 12334.6358553\ttotal: 811ms\tremaining: 4.82s\n",
      "72:\tlearn: 12331.2050525\ttotal: 822ms\tremaining: 4.81s\n",
      "73:\tlearn: 12327.4571805\ttotal: 832ms\tremaining: 4.79s\n",
      "74:\tlearn: 12324.6231778\ttotal: 843ms\tremaining: 4.78s\n",
      "75:\tlearn: 12322.2039667\ttotal: 853ms\tremaining: 4.76s\n",
      "76:\tlearn: 12319.1660609\ttotal: 866ms\tremaining: 4.76s\n",
      "77:\tlearn: 12315.9569419\ttotal: 877ms\tremaining: 4.74s\n",
      "78:\tlearn: 12314.4091782\ttotal: 889ms\tremaining: 4.74s\n",
      "79:\tlearn: 12311.8154350\ttotal: 900ms\tremaining: 4.72s\n",
      "80:\tlearn: 12309.4952044\ttotal: 912ms\tremaining: 4.72s\n",
      "81:\tlearn: 12305.8330751\ttotal: 926ms\tremaining: 4.72s\n",
      "82:\tlearn: 12302.9179337\ttotal: 939ms\tremaining: 4.71s\n",
      "83:\tlearn: 12300.0129592\ttotal: 948ms\tremaining: 4.69s\n",
      "84:\tlearn: 12298.7746329\ttotal: 957ms\tremaining: 4.67s\n",
      "85:\tlearn: 12295.5078549\ttotal: 967ms\tremaining: 4.65s\n",
      "86:\tlearn: 12293.0105983\ttotal: 977ms\tremaining: 4.64s\n",
      "87:\tlearn: 12290.6576405\ttotal: 988ms\tremaining: 4.63s\n",
      "88:\tlearn: 12288.7176880\ttotal: 999ms\tremaining: 4.61s\n",
      "89:\tlearn: 12285.5295778\ttotal: 1.01s\tremaining: 4.6s\n",
      "90:\tlearn: 12282.2335773\ttotal: 1.02s\tremaining: 4.58s\n",
      "91:\tlearn: 12278.9275411\ttotal: 1.03s\tremaining: 4.56s\n",
      "92:\tlearn: 12277.7392187\ttotal: 1.04s\tremaining: 4.54s\n",
      "93:\tlearn: 12274.9631843\ttotal: 1.05s\tremaining: 4.52s\n",
      "94:\tlearn: 12273.0229729\ttotal: 1.06s\tremaining: 4.51s\n",
      "95:\tlearn: 12270.7170789\ttotal: 1.07s\tremaining: 4.5s\n",
      "96:\tlearn: 12268.5614105\ttotal: 1.08s\tremaining: 4.48s\n",
      "97:\tlearn: 12266.3789662\ttotal: 1.09s\tremaining: 4.46s\n",
      "98:\tlearn: 12264.3997405\ttotal: 1.1s\tremaining: 4.45s\n",
      "99:\tlearn: 12263.0085248\ttotal: 1.11s\tremaining: 4.44s\n",
      "100:\tlearn: 12260.7130987\ttotal: 1.12s\tremaining: 4.42s\n",
      "101:\tlearn: 12258.3488027\ttotal: 1.13s\tremaining: 4.41s\n",
      "102:\tlearn: 12255.8810946\ttotal: 1.14s\tremaining: 4.39s\n",
      "103:\tlearn: 12253.7230195\ttotal: 1.15s\tremaining: 4.37s\n",
      "104:\tlearn: 12251.7279021\ttotal: 1.16s\tremaining: 4.35s\n",
      "105:\tlearn: 12249.9026273\ttotal: 1.17s\tremaining: 4.33s\n",
      "106:\tlearn: 12247.7945937\ttotal: 1.17s\tremaining: 4.31s\n",
      "107:\tlearn: 12246.0572614\ttotal: 1.18s\tremaining: 4.29s\n",
      "108:\tlearn: 12244.8835815\ttotal: 1.19s\tremaining: 4.27s\n",
      "109:\tlearn: 12242.9361546\ttotal: 1.2s\tremaining: 4.25s\n",
      "110:\tlearn: 12241.3700349\ttotal: 1.21s\tremaining: 4.23s\n",
      "111:\tlearn: 12239.9660456\ttotal: 1.22s\tremaining: 4.21s\n",
      "112:\tlearn: 12237.7338600\ttotal: 1.23s\tremaining: 4.2s\n",
      "113:\tlearn: 12236.3651727\ttotal: 1.24s\tremaining: 4.18s\n",
      "114:\tlearn: 12234.8749005\ttotal: 1.24s\tremaining: 4.16s\n",
      "115:\tlearn: 12233.6188681\ttotal: 1.25s\tremaining: 4.14s\n",
      "116:\tlearn: 12232.3631534\ttotal: 1.26s\tremaining: 4.13s\n",
      "117:\tlearn: 12231.2358706\ttotal: 1.27s\tremaining: 4.11s\n",
      "118:\tlearn: 12229.3705966\ttotal: 1.28s\tremaining: 4.1s\n",
      "119:\tlearn: 12228.2188021\ttotal: 1.3s\tremaining: 4.11s\n",
      "120:\tlearn: 12226.4729607\ttotal: 1.31s\tremaining: 4.1s\n",
      "121:\tlearn: 12224.8113819\ttotal: 1.32s\tremaining: 4.08s\n",
      "122:\tlearn: 12222.7476022\ttotal: 1.33s\tremaining: 4.07s\n",
      "123:\tlearn: 12221.6613540\ttotal: 1.34s\tremaining: 4.05s\n",
      "124:\tlearn: 12220.3985785\ttotal: 1.35s\tremaining: 4.04s\n",
      "125:\tlearn: 12218.2990140\ttotal: 1.35s\tremaining: 4.02s\n",
      "126:\tlearn: 12215.9356470\ttotal: 1.37s\tremaining: 4.01s\n",
      "127:\tlearn: 12214.1064933\ttotal: 1.38s\tremaining: 4s\n",
      "128:\tlearn: 12212.7985633\ttotal: 1.38s\tremaining: 3.98s\n",
      "129:\tlearn: 12210.8752427\ttotal: 1.39s\tremaining: 3.97s\n",
      "130:\tlearn: 12209.0725033\ttotal: 1.4s\tremaining: 3.95s\n",
      "131:\tlearn: 12207.0100525\ttotal: 1.41s\tremaining: 3.93s\n",
      "132:\tlearn: 12205.7657474\ttotal: 1.42s\tremaining: 3.92s\n",
      "133:\tlearn: 12203.9252355\ttotal: 1.43s\tremaining: 3.9s\n",
      "134:\tlearn: 12202.7147163\ttotal: 1.44s\tremaining: 3.89s\n",
      "135:\tlearn: 12201.3740463\ttotal: 1.45s\tremaining: 3.87s\n",
      "136:\tlearn: 12199.7455396\ttotal: 1.45s\tremaining: 3.85s\n",
      "137:\tlearn: 12198.5405842\ttotal: 1.46s\tremaining: 3.83s\n",
      "138:\tlearn: 12197.0482008\ttotal: 1.47s\tremaining: 3.82s\n",
      "139:\tlearn: 12194.9232665\ttotal: 1.48s\tremaining: 3.81s\n",
      "140:\tlearn: 12193.4155383\ttotal: 1.49s\tremaining: 3.79s\n",
      "141:\tlearn: 12192.4758863\ttotal: 1.5s\tremaining: 3.78s\n",
      "142:\tlearn: 12191.3595953\ttotal: 1.51s\tremaining: 3.77s\n",
      "143:\tlearn: 12190.1213986\ttotal: 1.52s\tremaining: 3.76s\n",
      "144:\tlearn: 12189.1853098\ttotal: 1.53s\tremaining: 3.74s\n",
      "145:\tlearn: 12187.7871810\ttotal: 1.54s\tremaining: 3.73s\n",
      "146:\tlearn: 12185.8600932\ttotal: 1.55s\tremaining: 3.72s\n",
      "147:\tlearn: 12184.2709605\ttotal: 1.55s\tremaining: 3.7s\n",
      "148:\tlearn: 12183.4515110\ttotal: 1.56s\tremaining: 3.69s\n",
      "149:\tlearn: 12181.5891766\ttotal: 1.57s\tremaining: 3.67s\n",
      "150:\tlearn: 12179.6653462\ttotal: 1.58s\tremaining: 3.66s\n",
      "151:\tlearn: 12177.4865429\ttotal: 1.59s\tremaining: 3.64s\n",
      "152:\tlearn: 12175.9080700\ttotal: 1.6s\tremaining: 3.63s\n",
      "153:\tlearn: 12174.4529397\ttotal: 1.61s\tremaining: 3.62s\n",
      "154:\tlearn: 12172.6012884\ttotal: 1.62s\tremaining: 3.61s\n",
      "155:\tlearn: 12171.4402522\ttotal: 1.63s\tremaining: 3.59s\n",
      "156:\tlearn: 12170.0555620\ttotal: 1.64s\tremaining: 3.58s\n",
      "157:\tlearn: 12169.0369910\ttotal: 1.65s\tremaining: 3.56s\n",
      "158:\tlearn: 12167.9802312\ttotal: 1.65s\tremaining: 3.55s\n",
      "159:\tlearn: 12166.1159544\ttotal: 1.66s\tremaining: 3.53s\n",
      "160:\tlearn: 12165.0086780\ttotal: 1.67s\tremaining: 3.52s\n",
      "161:\tlearn: 12163.4993293\ttotal: 1.68s\tremaining: 3.51s\n",
      "162:\tlearn: 12161.4573821\ttotal: 1.69s\tremaining: 3.49s\n",
      "163:\tlearn: 12159.4841587\ttotal: 1.7s\tremaining: 3.49s\n",
      "164:\tlearn: 12158.4238514\ttotal: 1.71s\tremaining: 3.47s\n",
      "165:\tlearn: 12157.4797107\ttotal: 1.72s\tremaining: 3.46s\n",
      "166:\tlearn: 12155.4672021\ttotal: 1.73s\tremaining: 3.45s\n",
      "167:\tlearn: 12154.7805843\ttotal: 1.74s\tremaining: 3.44s\n",
      "168:\tlearn: 12153.1988693\ttotal: 1.75s\tremaining: 3.42s\n",
      "169:\tlearn: 12151.4682435\ttotal: 1.76s\tremaining: 3.41s\n",
      "170:\tlearn: 12150.0325571\ttotal: 1.77s\tremaining: 3.4s\n",
      "171:\tlearn: 12149.0810257\ttotal: 1.77s\tremaining: 3.38s\n",
      "172:\tlearn: 12147.1020013\ttotal: 1.78s\tremaining: 3.37s\n",
      "173:\tlearn: 12146.1372210\ttotal: 1.79s\tremaining: 3.36s\n",
      "174:\tlearn: 12145.3519205\ttotal: 1.8s\tremaining: 3.34s\n",
      "175:\tlearn: 12143.7788110\ttotal: 1.81s\tremaining: 3.33s\n",
      "176:\tlearn: 12142.4716870\ttotal: 1.82s\tremaining: 3.32s\n",
      "177:\tlearn: 12141.4190829\ttotal: 1.83s\tremaining: 3.31s\n",
      "178:\tlearn: 12140.4754184\ttotal: 1.84s\tremaining: 3.29s\n",
      "179:\tlearn: 12139.0686599\ttotal: 1.84s\tremaining: 3.28s\n",
      "180:\tlearn: 12137.9822485\ttotal: 1.85s\tremaining: 3.27s\n",
      "181:\tlearn: 12136.2158344\ttotal: 1.86s\tremaining: 3.25s\n",
      "182:\tlearn: 12135.1256537\ttotal: 1.87s\tremaining: 3.24s\n",
      "183:\tlearn: 12134.3070818\ttotal: 1.88s\tremaining: 3.23s\n",
      "184:\tlearn: 12132.5514089\ttotal: 1.89s\tremaining: 3.21s\n",
      "185:\tlearn: 12131.0518020\ttotal: 1.9s\tremaining: 3.2s\n",
      "186:\tlearn: 12129.5148647\ttotal: 1.9s\tremaining: 3.19s\n",
      "187:\tlearn: 12128.5724196\ttotal: 1.92s\tremaining: 3.18s\n",
      "188:\tlearn: 12127.0988486\ttotal: 1.93s\tremaining: 3.17s\n",
      "189:\tlearn: 12125.6074513\ttotal: 1.94s\tremaining: 3.16s\n",
      "190:\tlearn: 12124.5835495\ttotal: 1.95s\tremaining: 3.15s\n",
      "191:\tlearn: 12122.6771858\ttotal: 1.95s\tremaining: 3.13s\n",
      "192:\tlearn: 12121.0447391\ttotal: 1.96s\tremaining: 3.12s\n",
      "193:\tlearn: 12118.9077872\ttotal: 1.97s\tremaining: 3.11s\n",
      "194:\tlearn: 12117.6298801\ttotal: 1.98s\tremaining: 3.1s\n",
      "195:\tlearn: 12116.4970566\ttotal: 1.99s\tremaining: 3.09s\n",
      "196:\tlearn: 12115.3178866\ttotal: 2s\tremaining: 3.08s\n",
      "197:\tlearn: 12114.2878341\ttotal: 2.01s\tremaining: 3.07s\n",
      "198:\tlearn: 12112.8484474\ttotal: 2.02s\tremaining: 3.06s\n",
      "199:\tlearn: 12112.0459262\ttotal: 2.03s\tremaining: 3.04s\n",
      "200:\tlearn: 12110.8241140\ttotal: 2.04s\tremaining: 3.03s\n",
      "201:\tlearn: 12109.4640805\ttotal: 2.05s\tremaining: 3.02s\n",
      "202:\tlearn: 12107.9372510\ttotal: 2.06s\tremaining: 3.01s\n",
      "203:\tlearn: 12106.5113613\ttotal: 2.06s\tremaining: 2.99s\n",
      "204:\tlearn: 12105.6860966\ttotal: 2.07s\tremaining: 2.98s\n",
      "205:\tlearn: 12104.4989481\ttotal: 2.08s\tremaining: 2.97s\n",
      "206:\tlearn: 12103.9065586\ttotal: 2.09s\tremaining: 2.96s\n",
      "207:\tlearn: 12102.8145081\ttotal: 2.1s\tremaining: 2.94s\n",
      "208:\tlearn: 12101.9437721\ttotal: 2.11s\tremaining: 2.93s\n",
      "209:\tlearn: 12100.6069306\ttotal: 2.12s\tremaining: 2.92s\n",
      "210:\tlearn: 12099.7382251\ttotal: 2.13s\tremaining: 2.91s\n",
      "211:\tlearn: 12098.9108126\ttotal: 2.13s\tremaining: 2.9s\n",
      "212:\tlearn: 12097.8095417\ttotal: 2.15s\tremaining: 2.89s\n",
      "213:\tlearn: 12097.2000264\ttotal: 2.15s\tremaining: 2.88s\n",
      "214:\tlearn: 12095.9468178\ttotal: 2.16s\tremaining: 2.87s\n",
      "215:\tlearn: 12094.8064986\ttotal: 2.17s\tremaining: 2.85s\n",
      "216:\tlearn: 12093.3230554\ttotal: 2.18s\tremaining: 2.84s\n",
      "217:\tlearn: 12092.0750923\ttotal: 2.19s\tremaining: 2.83s\n",
      "218:\tlearn: 12091.3732026\ttotal: 2.19s\tremaining: 2.82s\n",
      "219:\tlearn: 12090.2992017\ttotal: 2.2s\tremaining: 2.81s\n",
      "220:\tlearn: 12089.5099021\ttotal: 2.21s\tremaining: 2.79s\n",
      "221:\tlearn: 12088.0142333\ttotal: 2.22s\tremaining: 2.78s\n",
      "222:\tlearn: 12086.8879899\ttotal: 2.23s\tremaining: 2.77s\n",
      "223:\tlearn: 12085.4890541\ttotal: 2.24s\tremaining: 2.76s\n",
      "224:\tlearn: 12084.3456714\ttotal: 2.25s\tremaining: 2.75s\n",
      "225:\tlearn: 12083.5709411\ttotal: 2.26s\tremaining: 2.73s\n",
      "226:\tlearn: 12082.3581338\ttotal: 2.27s\tremaining: 2.73s\n",
      "227:\tlearn: 12081.4560266\ttotal: 2.27s\tremaining: 2.71s\n",
      "228:\tlearn: 12080.2201981\ttotal: 2.29s\tremaining: 2.7s\n",
      "229:\tlearn: 12079.6361155\ttotal: 2.29s\tremaining: 2.69s\n",
      "230:\tlearn: 12078.5937647\ttotal: 2.3s\tremaining: 2.68s\n",
      "231:\tlearn: 12077.3624850\ttotal: 2.31s\tremaining: 2.67s\n",
      "232:\tlearn: 12076.4610491\ttotal: 2.32s\tremaining: 2.66s\n",
      "233:\tlearn: 12075.3630726\ttotal: 2.33s\tremaining: 2.65s\n",
      "234:\tlearn: 12073.9705366\ttotal: 2.34s\tremaining: 2.63s\n",
      "235:\tlearn: 12072.9696976\ttotal: 2.35s\tremaining: 2.63s\n",
      "236:\tlearn: 12071.7566448\ttotal: 2.36s\tremaining: 2.62s\n",
      "237:\tlearn: 12070.8963256\ttotal: 2.37s\tremaining: 2.61s\n",
      "238:\tlearn: 12070.3389890\ttotal: 2.38s\tremaining: 2.6s\n",
      "239:\tlearn: 12069.5618304\ttotal: 2.4s\tremaining: 2.59s\n",
      "240:\tlearn: 12068.3050401\ttotal: 2.4s\tremaining: 2.58s\n",
      "241:\tlearn: 12067.4241956\ttotal: 2.41s\tremaining: 2.57s\n",
      "242:\tlearn: 12066.6319292\ttotal: 2.42s\tremaining: 2.56s\n",
      "243:\tlearn: 12065.2999414\ttotal: 2.43s\tremaining: 2.55s\n",
      "244:\tlearn: 12064.2542494\ttotal: 2.44s\tremaining: 2.54s\n",
      "245:\tlearn: 12063.5332176\ttotal: 2.45s\tremaining: 2.53s\n",
      "246:\tlearn: 12062.3800373\ttotal: 2.46s\tremaining: 2.52s\n",
      "247:\tlearn: 12060.9018374\ttotal: 2.47s\tremaining: 2.51s\n",
      "248:\tlearn: 12060.1451774\ttotal: 2.48s\tremaining: 2.5s\n",
      "249:\tlearn: 12059.2492677\ttotal: 2.49s\tremaining: 2.49s\n",
      "250:\tlearn: 12058.6315745\ttotal: 2.49s\tremaining: 2.47s\n",
      "251:\tlearn: 12058.2133892\ttotal: 2.5s\tremaining: 2.46s\n",
      "252:\tlearn: 12057.5790222\ttotal: 2.51s\tremaining: 2.45s\n",
      "253:\tlearn: 12056.4257245\ttotal: 2.52s\tremaining: 2.44s\n",
      "254:\tlearn: 12055.4211288\ttotal: 2.53s\tremaining: 2.43s\n",
      "255:\tlearn: 12054.6806062\ttotal: 2.54s\tremaining: 2.42s\n",
      "256:\tlearn: 12053.8235424\ttotal: 2.55s\tremaining: 2.41s\n",
      "257:\tlearn: 12052.9832914\ttotal: 2.56s\tremaining: 2.4s\n",
      "258:\tlearn: 12052.3540404\ttotal: 2.57s\tremaining: 2.39s\n",
      "259:\tlearn: 12051.5846123\ttotal: 2.58s\tremaining: 2.38s\n",
      "260:\tlearn: 12051.0313061\ttotal: 2.59s\tremaining: 2.37s\n",
      "261:\tlearn: 12050.2495564\ttotal: 2.6s\tremaining: 2.36s\n",
      "262:\tlearn: 12049.2689339\ttotal: 2.6s\tremaining: 2.35s\n",
      "263:\tlearn: 12048.6838623\ttotal: 2.61s\tremaining: 2.33s\n",
      "264:\tlearn: 12048.0522751\ttotal: 2.62s\tremaining: 2.33s\n",
      "265:\tlearn: 12047.0838042\ttotal: 2.63s\tremaining: 2.31s\n",
      "266:\tlearn: 12045.6712725\ttotal: 2.64s\tremaining: 2.3s\n",
      "267:\tlearn: 12045.1304847\ttotal: 2.65s\tremaining: 2.29s\n",
      "268:\tlearn: 12043.9896981\ttotal: 2.66s\tremaining: 2.28s\n",
      "269:\tlearn: 12042.7316470\ttotal: 2.67s\tremaining: 2.27s\n",
      "270:\tlearn: 12040.8201956\ttotal: 2.68s\tremaining: 2.26s\n",
      "271:\tlearn: 12040.0899117\ttotal: 2.69s\tremaining: 2.25s\n",
      "272:\tlearn: 12038.5325502\ttotal: 2.69s\tremaining: 2.24s\n",
      "273:\tlearn: 12037.9153735\ttotal: 2.7s\tremaining: 2.23s\n",
      "274:\tlearn: 12036.8849118\ttotal: 2.71s\tremaining: 2.22s\n",
      "275:\tlearn: 12036.3417091\ttotal: 2.72s\tremaining: 2.21s\n",
      "276:\tlearn: 12035.7647888\ttotal: 2.73s\tremaining: 2.2s\n",
      "277:\tlearn: 12034.2897226\ttotal: 2.74s\tremaining: 2.19s\n",
      "278:\tlearn: 12033.3534420\ttotal: 2.75s\tremaining: 2.18s\n",
      "279:\tlearn: 12032.3345373\ttotal: 2.76s\tremaining: 2.17s\n",
      "280:\tlearn: 12031.8684211\ttotal: 2.79s\tremaining: 2.17s\n",
      "281:\tlearn: 12030.7965063\ttotal: 2.8s\tremaining: 2.16s\n",
      "282:\tlearn: 12029.8665575\ttotal: 2.81s\tremaining: 2.16s\n",
      "283:\tlearn: 12027.8114115\ttotal: 2.83s\tremaining: 2.15s\n",
      "284:\tlearn: 12027.2159644\ttotal: 2.84s\tremaining: 2.14s\n",
      "285:\tlearn: 12026.1428041\ttotal: 2.85s\tremaining: 2.13s\n",
      "286:\tlearn: 12025.4932516\ttotal: 2.85s\tremaining: 2.12s\n",
      "287:\tlearn: 12023.9185646\ttotal: 2.86s\tremaining: 2.11s\n",
      "288:\tlearn: 12023.2956365\ttotal: 2.87s\tremaining: 2.1s\n",
      "289:\tlearn: 12022.7279645\ttotal: 2.88s\tremaining: 2.08s\n",
      "290:\tlearn: 12021.9249416\ttotal: 2.89s\tremaining: 2.07s\n",
      "291:\tlearn: 12021.0393296\ttotal: 2.9s\tremaining: 2.06s\n",
      "292:\tlearn: 12020.1501690\ttotal: 2.91s\tremaining: 2.05s\n",
      "293:\tlearn: 12019.3424961\ttotal: 2.92s\tremaining: 2.04s\n",
      "294:\tlearn: 12018.5500894\ttotal: 2.92s\tremaining: 2.03s\n",
      "295:\tlearn: 12018.1286869\ttotal: 2.93s\tremaining: 2.02s\n",
      "296:\tlearn: 12016.4236474\ttotal: 2.94s\tremaining: 2.01s\n",
      "297:\tlearn: 12015.4184261\ttotal: 2.95s\tremaining: 2s\n",
      "298:\tlearn: 12014.6369591\ttotal: 2.96s\tremaining: 1.99s\n",
      "299:\tlearn: 12013.6327150\ttotal: 2.97s\tremaining: 1.98s\n",
      "300:\tlearn: 12013.2379476\ttotal: 2.98s\tremaining: 1.97s\n",
      "301:\tlearn: 12012.1066435\ttotal: 2.99s\tremaining: 1.96s\n",
      "302:\tlearn: 12011.1115972\ttotal: 3s\tremaining: 1.95s\n",
      "303:\tlearn: 12010.8036254\ttotal: 3.01s\tremaining: 1.94s\n",
      "304:\tlearn: 12009.7235875\ttotal: 3.02s\tremaining: 1.93s\n",
      "305:\tlearn: 12008.5452563\ttotal: 3.02s\tremaining: 1.92s\n",
      "306:\tlearn: 12007.4199482\ttotal: 3.03s\tremaining: 1.91s\n",
      "307:\tlearn: 12005.8667403\ttotal: 3.04s\tremaining: 1.9s\n",
      "308:\tlearn: 12005.5360904\ttotal: 3.05s\tremaining: 1.89s\n",
      "309:\tlearn: 12004.5516506\ttotal: 3.06s\tremaining: 1.88s\n",
      "310:\tlearn: 12003.5104429\ttotal: 3.07s\tremaining: 1.86s\n",
      "311:\tlearn: 12002.3924885\ttotal: 3.08s\tremaining: 1.85s\n",
      "312:\tlearn: 12001.1744698\ttotal: 3.09s\tremaining: 1.84s\n",
      "313:\tlearn: 12000.4963265\ttotal: 3.1s\tremaining: 1.83s\n",
      "314:\tlearn: 11999.9852055\ttotal: 3.11s\tremaining: 1.82s\n",
      "315:\tlearn: 11999.2157115\ttotal: 3.12s\tremaining: 1.82s\n",
      "316:\tlearn: 11997.6154594\ttotal: 3.13s\tremaining: 1.81s\n",
      "317:\tlearn: 11996.4224468\ttotal: 3.14s\tremaining: 1.8s\n",
      "318:\tlearn: 11995.6557420\ttotal: 3.15s\tremaining: 1.79s\n",
      "319:\tlearn: 11994.8496786\ttotal: 3.16s\tremaining: 1.78s\n",
      "320:\tlearn: 11993.7611761\ttotal: 3.17s\tremaining: 1.77s\n",
      "321:\tlearn: 11992.0279509\ttotal: 3.18s\tremaining: 1.76s\n",
      "322:\tlearn: 11990.4014837\ttotal: 3.19s\tremaining: 1.75s\n",
      "323:\tlearn: 11989.2763922\ttotal: 3.2s\tremaining: 1.74s\n",
      "324:\tlearn: 11988.2185650\ttotal: 3.21s\tremaining: 1.73s\n",
      "325:\tlearn: 11987.4203131\ttotal: 3.22s\tremaining: 1.72s\n",
      "326:\tlearn: 11986.4965725\ttotal: 3.23s\tremaining: 1.71s\n",
      "327:\tlearn: 11985.5973352\ttotal: 3.24s\tremaining: 1.7s\n",
      "328:\tlearn: 11984.5440423\ttotal: 3.25s\tremaining: 1.69s\n",
      "329:\tlearn: 11983.9096141\ttotal: 3.25s\tremaining: 1.68s\n",
      "330:\tlearn: 11983.0944832\ttotal: 3.26s\tremaining: 1.67s\n",
      "331:\tlearn: 11981.8403634\ttotal: 3.27s\tremaining: 1.66s\n",
      "332:\tlearn: 11980.9739814\ttotal: 3.28s\tremaining: 1.65s\n",
      "333:\tlearn: 11980.0349675\ttotal: 3.29s\tremaining: 1.64s\n",
      "334:\tlearn: 11979.2929851\ttotal: 3.3s\tremaining: 1.63s\n",
      "335:\tlearn: 11978.5191113\ttotal: 3.31s\tremaining: 1.61s\n",
      "336:\tlearn: 11977.9695619\ttotal: 3.32s\tremaining: 1.6s\n",
      "337:\tlearn: 11977.0714546\ttotal: 3.33s\tremaining: 1.59s\n",
      "338:\tlearn: 11976.2183628\ttotal: 3.34s\tremaining: 1.58s\n",
      "339:\tlearn: 11975.1878149\ttotal: 3.35s\tremaining: 1.57s\n",
      "340:\tlearn: 11974.4269333\ttotal: 3.35s\tremaining: 1.56s\n",
      "341:\tlearn: 11973.3852782\ttotal: 3.36s\tremaining: 1.55s\n",
      "342:\tlearn: 11972.6196306\ttotal: 3.37s\tremaining: 1.54s\n",
      "343:\tlearn: 11971.4666567\ttotal: 3.38s\tremaining: 1.53s\n",
      "344:\tlearn: 11970.5307074\ttotal: 3.4s\tremaining: 1.52s\n",
      "345:\tlearn: 11969.7524869\ttotal: 3.41s\tremaining: 1.52s\n",
      "346:\tlearn: 11968.8289824\ttotal: 3.42s\tremaining: 1.5s\n",
      "347:\tlearn: 11967.6496382\ttotal: 3.42s\tremaining: 1.5s\n",
      "348:\tlearn: 11966.7047942\ttotal: 3.43s\tremaining: 1.49s\n",
      "349:\tlearn: 11965.6786464\ttotal: 3.44s\tremaining: 1.47s\n",
      "350:\tlearn: 11964.9634388\ttotal: 3.45s\tremaining: 1.46s\n",
      "351:\tlearn: 11964.1768142\ttotal: 3.46s\tremaining: 1.45s\n",
      "352:\tlearn: 11963.6316273\ttotal: 3.47s\tremaining: 1.44s\n",
      "353:\tlearn: 11963.4254525\ttotal: 3.48s\tremaining: 1.43s\n",
      "354:\tlearn: 11962.9784269\ttotal: 3.48s\tremaining: 1.42s\n",
      "355:\tlearn: 11962.0046905\ttotal: 3.49s\tremaining: 1.41s\n",
      "356:\tlearn: 11960.7986315\ttotal: 3.5s\tremaining: 1.4s\n",
      "357:\tlearn: 11959.8332945\ttotal: 3.51s\tremaining: 1.39s\n",
      "358:\tlearn: 11958.9158275\ttotal: 3.52s\tremaining: 1.38s\n",
      "359:\tlearn: 11958.1873919\ttotal: 3.53s\tremaining: 1.37s\n",
      "360:\tlearn: 11957.1326764\ttotal: 3.54s\tremaining: 1.36s\n",
      "361:\tlearn: 11956.4654182\ttotal: 3.55s\tremaining: 1.35s\n",
      "362:\tlearn: 11955.8622349\ttotal: 3.56s\tremaining: 1.34s\n",
      "363:\tlearn: 11954.7684415\ttotal: 3.56s\tremaining: 1.33s\n",
      "364:\tlearn: 11954.0790710\ttotal: 3.57s\tremaining: 1.32s\n",
      "365:\tlearn: 11953.2224060\ttotal: 3.58s\tremaining: 1.31s\n",
      "366:\tlearn: 11952.4718252\ttotal: 3.59s\tremaining: 1.3s\n",
      "367:\tlearn: 11951.3521947\ttotal: 3.6s\tremaining: 1.29s\n",
      "368:\tlearn: 11950.6890126\ttotal: 3.61s\tremaining: 1.28s\n",
      "369:\tlearn: 11949.8616025\ttotal: 3.62s\tremaining: 1.27s\n",
      "370:\tlearn: 11948.9448921\ttotal: 3.63s\tremaining: 1.26s\n",
      "371:\tlearn: 11948.2489393\ttotal: 3.64s\tremaining: 1.25s\n",
      "372:\tlearn: 11947.5774081\ttotal: 3.65s\tremaining: 1.24s\n",
      "373:\tlearn: 11946.8165758\ttotal: 3.66s\tremaining: 1.23s\n",
      "374:\tlearn: 11946.4121830\ttotal: 3.66s\tremaining: 1.22s\n",
      "375:\tlearn: 11945.2350489\ttotal: 3.67s\tremaining: 1.21s\n",
      "376:\tlearn: 11943.6341727\ttotal: 3.68s\tremaining: 1.2s\n",
      "377:\tlearn: 11942.7433882\ttotal: 3.69s\tremaining: 1.19s\n",
      "378:\tlearn: 11942.0041016\ttotal: 3.7s\tremaining: 1.18s\n",
      "379:\tlearn: 11940.9282441\ttotal: 3.71s\tremaining: 1.17s\n",
      "380:\tlearn: 11939.9570430\ttotal: 3.72s\tremaining: 1.16s\n",
      "381:\tlearn: 11939.4819876\ttotal: 3.73s\tremaining: 1.15s\n",
      "382:\tlearn: 11939.0590431\ttotal: 3.73s\tremaining: 1.14s\n",
      "383:\tlearn: 11938.2231881\ttotal: 3.74s\tremaining: 1.13s\n",
      "384:\tlearn: 11937.5656422\ttotal: 3.75s\tremaining: 1.12s\n",
      "385:\tlearn: 11937.0390774\ttotal: 3.76s\tremaining: 1.11s\n",
      "386:\tlearn: 11936.4182632\ttotal: 3.77s\tremaining: 1.1s\n",
      "387:\tlearn: 11935.6489984\ttotal: 3.78s\tremaining: 1.09s\n",
      "388:\tlearn: 11934.9486821\ttotal: 3.79s\tremaining: 1.08s\n",
      "389:\tlearn: 11933.7975676\ttotal: 3.8s\tremaining: 1.07s\n",
      "390:\tlearn: 11932.9837246\ttotal: 3.81s\tremaining: 1.06s\n",
      "391:\tlearn: 11932.3356843\ttotal: 3.82s\tremaining: 1.05s\n",
      "392:\tlearn: 11931.4348756\ttotal: 3.83s\tremaining: 1.04s\n",
      "393:\tlearn: 11930.7238534\ttotal: 3.84s\tremaining: 1.03s\n",
      "394:\tlearn: 11929.5411266\ttotal: 3.85s\tremaining: 1.02s\n",
      "395:\tlearn: 11928.6825524\ttotal: 3.86s\tremaining: 1.01s\n",
      "396:\tlearn: 11927.8285171\ttotal: 3.87s\tremaining: 1s\n",
      "397:\tlearn: 11927.4232785\ttotal: 3.87s\tremaining: 993ms\n",
      "398:\tlearn: 11926.3272077\ttotal: 3.88s\tremaining: 983ms\n",
      "399:\tlearn: 11925.5170874\ttotal: 3.89s\tremaining: 973ms\n",
      "400:\tlearn: 11924.6414530\ttotal: 3.9s\tremaining: 963ms\n",
      "401:\tlearn: 11924.1375526\ttotal: 3.91s\tremaining: 953ms\n",
      "402:\tlearn: 11923.3981632\ttotal: 3.92s\tremaining: 943ms\n",
      "403:\tlearn: 11922.7612427\ttotal: 3.93s\tremaining: 933ms\n",
      "404:\tlearn: 11922.4637661\ttotal: 3.94s\tremaining: 923ms\n",
      "405:\tlearn: 11921.7898164\ttotal: 3.94s\tremaining: 913ms\n",
      "406:\tlearn: 11921.0382785\ttotal: 3.96s\tremaining: 904ms\n",
      "407:\tlearn: 11920.1104961\ttotal: 3.96s\tremaining: 894ms\n",
      "408:\tlearn: 11919.1882370\ttotal: 3.98s\tremaining: 885ms\n",
      "409:\tlearn: 11918.3921346\ttotal: 3.98s\tremaining: 875ms\n",
      "410:\tlearn: 11917.0880767\ttotal: 3.99s\tremaining: 865ms\n",
      "411:\tlearn: 11916.2809728\ttotal: 4s\tremaining: 855ms\n",
      "412:\tlearn: 11914.9997994\ttotal: 4.01s\tremaining: 845ms\n",
      "413:\tlearn: 11914.5827213\ttotal: 4.02s\tremaining: 835ms\n",
      "414:\tlearn: 11914.1018781\ttotal: 4.03s\tremaining: 826ms\n",
      "415:\tlearn: 11913.0082104\ttotal: 4.06s\tremaining: 820ms\n",
      "416:\tlearn: 11912.5016120\ttotal: 4.07s\tremaining: 811ms\n",
      "417:\tlearn: 11911.5243395\ttotal: 4.08s\tremaining: 801ms\n",
      "418:\tlearn: 11909.9310496\ttotal: 4.09s\tremaining: 791ms\n",
      "419:\tlearn: 11909.4996431\ttotal: 4.1s\tremaining: 781ms\n",
      "420:\tlearn: 11908.2066654\ttotal: 4.11s\tremaining: 771ms\n",
      "421:\tlearn: 11907.6835374\ttotal: 4.12s\tremaining: 761ms\n",
      "422:\tlearn: 11906.9898949\ttotal: 4.13s\tremaining: 751ms\n",
      "423:\tlearn: 11906.2644216\ttotal: 4.13s\tremaining: 741ms\n",
      "424:\tlearn: 11905.6717940\ttotal: 4.14s\tremaining: 731ms\n",
      "425:\tlearn: 11904.8468162\ttotal: 4.15s\tremaining: 721ms\n",
      "426:\tlearn: 11903.7243799\ttotal: 4.16s\tremaining: 711ms\n",
      "427:\tlearn: 11902.9198070\ttotal: 4.17s\tremaining: 701ms\n",
      "428:\tlearn: 11901.6620636\ttotal: 4.18s\tremaining: 692ms\n",
      "429:\tlearn: 11901.1714221\ttotal: 4.19s\tremaining: 682ms\n",
      "430:\tlearn: 11899.5520048\ttotal: 4.2s\tremaining: 672ms\n",
      "431:\tlearn: 11898.8607126\ttotal: 4.21s\tremaining: 662ms\n",
      "432:\tlearn: 11897.9629838\ttotal: 4.22s\tremaining: 652ms\n",
      "433:\tlearn: 11896.8124355\ttotal: 4.22s\tremaining: 643ms\n",
      "434:\tlearn: 11896.3945588\ttotal: 4.24s\tremaining: 633ms\n",
      "435:\tlearn: 11895.6854020\ttotal: 4.25s\tremaining: 623ms\n",
      "436:\tlearn: 11895.1632286\ttotal: 4.26s\tremaining: 614ms\n",
      "437:\tlearn: 11894.2929789\ttotal: 4.27s\tremaining: 604ms\n",
      "438:\tlearn: 11893.2960799\ttotal: 4.28s\tremaining: 595ms\n",
      "439:\tlearn: 11892.3410840\ttotal: 4.29s\tremaining: 585ms\n",
      "440:\tlearn: 11891.6555961\ttotal: 4.3s\tremaining: 575ms\n",
      "441:\tlearn: 11890.7166516\ttotal: 4.31s\tremaining: 565ms\n",
      "442:\tlearn: 11890.1762348\ttotal: 4.32s\tremaining: 556ms\n",
      "443:\tlearn: 11889.4767147\ttotal: 4.33s\tremaining: 546ms\n",
      "444:\tlearn: 11888.7646588\ttotal: 4.33s\tremaining: 536ms\n",
      "445:\tlearn: 11887.9952537\ttotal: 4.34s\tremaining: 526ms\n",
      "446:\tlearn: 11887.3543980\ttotal: 4.35s\tremaining: 516ms\n",
      "447:\tlearn: 11886.3105612\ttotal: 4.36s\tremaining: 506ms\n",
      "448:\tlearn: 11885.4745501\ttotal: 4.37s\tremaining: 496ms\n",
      "449:\tlearn: 11884.8608447\ttotal: 4.38s\tremaining: 487ms\n",
      "450:\tlearn: 11884.3074605\ttotal: 4.39s\tremaining: 477ms\n",
      "451:\tlearn: 11883.5582176\ttotal: 4.4s\tremaining: 467ms\n",
      "452:\tlearn: 11882.7734069\ttotal: 4.41s\tremaining: 457ms\n",
      "453:\tlearn: 11881.9536288\ttotal: 4.42s\tremaining: 448ms\n",
      "454:\tlearn: 11880.8145480\ttotal: 4.43s\tremaining: 438ms\n",
      "455:\tlearn: 11879.9047707\ttotal: 4.43s\tremaining: 428ms\n",
      "456:\tlearn: 11879.1061107\ttotal: 4.44s\tremaining: 418ms\n",
      "457:\tlearn: 11878.6490101\ttotal: 4.45s\tremaining: 408ms\n",
      "458:\tlearn: 11877.4077719\ttotal: 4.46s\tremaining: 399ms\n",
      "459:\tlearn: 11876.7085667\ttotal: 4.47s\tremaining: 389ms\n",
      "460:\tlearn: 11876.0617861\ttotal: 4.48s\tremaining: 379ms\n",
      "461:\tlearn: 11875.4353409\ttotal: 4.49s\tremaining: 369ms\n",
      "462:\tlearn: 11874.5519180\ttotal: 4.5s\tremaining: 360ms\n",
      "463:\tlearn: 11873.7664767\ttotal: 4.51s\tremaining: 350ms\n",
      "464:\tlearn: 11872.9941594\ttotal: 4.52s\tremaining: 340ms\n",
      "465:\tlearn: 11872.4617456\ttotal: 4.53s\tremaining: 330ms\n",
      "466:\tlearn: 11871.9091181\ttotal: 4.54s\tremaining: 321ms\n",
      "467:\tlearn: 11870.6977981\ttotal: 4.55s\tremaining: 311ms\n",
      "468:\tlearn: 11870.2398539\ttotal: 4.55s\tremaining: 301ms\n",
      "469:\tlearn: 11869.6865636\ttotal: 4.56s\tremaining: 291ms\n",
      "470:\tlearn: 11868.7195348\ttotal: 4.57s\tremaining: 282ms\n",
      "471:\tlearn: 11868.3544114\ttotal: 4.58s\tremaining: 272ms\n",
      "472:\tlearn: 11867.6157330\ttotal: 4.59s\tremaining: 262ms\n",
      "473:\tlearn: 11867.0114022\ttotal: 4.6s\tremaining: 252ms\n",
      "474:\tlearn: 11866.6172679\ttotal: 4.61s\tremaining: 243ms\n",
      "475:\tlearn: 11866.0597732\ttotal: 4.62s\tremaining: 233ms\n",
      "476:\tlearn: 11865.6869046\ttotal: 4.63s\tremaining: 223ms\n",
      "477:\tlearn: 11865.2845859\ttotal: 4.63s\tremaining: 213ms\n",
      "478:\tlearn: 11864.3032308\ttotal: 4.64s\tremaining: 204ms\n",
      "479:\tlearn: 11863.4516589\ttotal: 4.65s\tremaining: 194ms\n",
      "480:\tlearn: 11862.6212753\ttotal: 4.66s\tremaining: 184ms\n",
      "481:\tlearn: 11861.7307722\ttotal: 4.67s\tremaining: 175ms\n",
      "482:\tlearn: 11861.0751370\ttotal: 4.68s\tremaining: 165ms\n",
      "483:\tlearn: 11860.3043074\ttotal: 4.69s\tremaining: 155ms\n",
      "484:\tlearn: 11859.3010711\ttotal: 4.7s\tremaining: 145ms\n",
      "485:\tlearn: 11858.5084670\ttotal: 4.71s\tremaining: 136ms\n",
      "486:\tlearn: 11857.9149118\ttotal: 4.72s\tremaining: 126ms\n",
      "487:\tlearn: 11856.9854950\ttotal: 4.73s\tremaining: 116ms\n",
      "488:\tlearn: 11855.9314499\ttotal: 4.74s\tremaining: 107ms\n",
      "489:\tlearn: 11855.3890058\ttotal: 4.75s\tremaining: 96.9ms\n",
      "490:\tlearn: 11854.4124755\ttotal: 4.76s\tremaining: 87.2ms\n",
      "491:\tlearn: 11853.7722855\ttotal: 4.77s\tremaining: 77.5ms\n",
      "492:\tlearn: 11852.8544264\ttotal: 4.78s\tremaining: 67.8ms\n",
      "493:\tlearn: 11852.2250745\ttotal: 4.79s\tremaining: 58.1ms\n",
      "494:\tlearn: 11851.3667387\ttotal: 4.8s\tremaining: 48.5ms\n",
      "495:\tlearn: 11850.7819794\ttotal: 4.81s\tremaining: 38.8ms\n",
      "496:\tlearn: 11850.2444052\ttotal: 4.82s\tremaining: 29.1ms\n",
      "497:\tlearn: 11849.3435872\ttotal: 4.82s\tremaining: 19.4ms\n",
      "498:\tlearn: 11848.7903319\ttotal: 4.83s\tremaining: 9.68ms\n",
      "499:\tlearn: 11848.0352995\ttotal: 4.84s\tremaining: 0us\n",
      "Root Mean squared error:  12313.595312123116\n"
     ]
    }
   ],
   "source": [
    "catboost_model = CatBoostRegressor( learning_rate=0.2, max_depth=5, n_estimators=500, loss_function='RMSE', num_leaves=31, min_data_in_leaf = 81 )  \n",
    "catboost_model.fit(X_train, y_train)\n",
    "\n",
    "y_pred = catboost_model.predict(X_test)\n",
    "print(\"Root Mean squared error: \", root_mean_squared_error(y_test, y_pred))\n"
   ]
  },
  {
   "cell_type": "markdown",
   "id": "59cf06b5-609e-4bca-a34f-4174bc2a47e5",
   "metadata": {},
   "source": [
    "#### Support Vector Regression"
   ]
  },
  {
   "cell_type": "code",
   "execution_count": 49,
   "id": "f23517a1-26b8-4077-83f7-9aa0ada1a05f",
   "metadata": {},
   "outputs": [
    {
     "name": "stdout",
     "output_type": "stream",
     "text": [
      "Root Mean squared error:  20491.850817813858\n"
     ]
    }
   ],
   "source": [
    "# SVR\n",
    "from sklearn.svm import SVR\n",
    " \n",
    "\n",
    "model = SVR(kernel='poly')\n",
    "model.fit(X_train, y_train)\n",
    "\n",
    "y_pred = model.predict(X_test)\n",
    "print(\"Root Mean squared error: \", root_mean_squared_error(y_test, y_pred))"
   ]
  },
  {
   "cell_type": "markdown",
   "id": "283f55ff-14a7-407d-a5a1-7668bdde2ad8",
   "metadata": {},
   "source": [
    "#### Построим простую сеть на Keras"
   ]
  },
  {
   "cell_type": "code",
   "execution_count": 50,
   "id": "dfb46d1e-3611-45fd-8a8b-b3bcf377b1a6",
   "metadata": {},
   "outputs": [],
   "source": [
    "import keras\n",
    "from keras.models import Sequential\n",
    "from keras.layers import Dense, Dropout\n",
    "from tensorflow.keras import backend as K\n",
    "from keras.losses import mean_squared_error"
   ]
  },
  {
   "cell_type": "code",
   "execution_count": 51,
   "id": "0468738d-ad0c-411f-8f70-5a727bf39d0a",
   "metadata": {},
   "outputs": [],
   "source": [
    "def r_mean_squared_error(y_true, y_pred):\n",
    "    return K.sqrt(mean_squared_error(y_true, y_pred))"
   ]
  },
  {
   "cell_type": "code",
   "execution_count": 52,
   "id": "f53b6d51-2254-445b-b7c2-a9d7f1b22006",
   "metadata": {},
   "outputs": [
    {
     "name": "stderr",
     "output_type": "stream",
     "text": [
      "C:\\Users\\yuril\\anaconda3\\Lib\\site-packages\\keras\\src\\layers\\core\\dense.py:87: UserWarning: Do not pass an `input_shape`/`input_dim` argument to a layer. When using Sequential models, prefer using an `Input(shape)` object as the first layer in the model instead.\n",
      "  super().__init__(activity_regularizer=activity_regularizer, **kwargs)\n"
     ]
    }
   ],
   "source": [
    "# простая модель \n",
    "from keras import regularizers\n",
    "model=Sequential()\n",
    "model.add(Dense(units = 200, kernel_initializer = \"uniform\", activation = \"relu\", input_dim =13))\n",
    "model.add(Dropout(rate = 0.2))\n",
    "model.add(Dense(units = 128, kernel_initializer = \"uniform\", activation = \"relu\"))\n",
    "model.add(Dropout(rate = 0.2))\n",
    "model.add(Dense(units = 1, kernel_initializer = \"uniform\", activation = \"relu\"))\n",
    "model.compile(optimizer = \"rmsprop\", loss = r_mean_squared_error)"
   ]
  },
  {
   "cell_type": "code",
   "execution_count": 53,
   "id": "6a829917-6f3c-4b81-83d1-3e05793bf460",
   "metadata": {},
   "outputs": [
    {
     "data": {
      "text/html": [
       "<pre style=\"white-space:pre;overflow-x:auto;line-height:normal;font-family:Menlo,'DejaVu Sans Mono',consolas,'Courier New',monospace\"><span style=\"font-weight: bold\">Model: \"sequential\"</span>\n",
       "</pre>\n"
      ],
      "text/plain": [
       "\u001b[1mModel: \"sequential\"\u001b[0m\n"
      ]
     },
     "metadata": {},
     "output_type": "display_data"
    },
    {
     "data": {
      "text/html": [
       "<pre style=\"white-space:pre;overflow-x:auto;line-height:normal;font-family:Menlo,'DejaVu Sans Mono',consolas,'Courier New',monospace\">┏━━━━━━━━━━━━━━━━━━━━━━━━━━━━━━━━━━━━━━┳━━━━━━━━━━━━━━━━━━━━━━━━━━━━━┳━━━━━━━━━━━━━━━━━┓\n",
       "┃<span style=\"font-weight: bold\"> Layer (type)                         </span>┃<span style=\"font-weight: bold\"> Output Shape                </span>┃<span style=\"font-weight: bold\">         Param # </span>┃\n",
       "┡━━━━━━━━━━━━━━━━━━━━━━━━━━━━━━━━━━━━━━╇━━━━━━━━━━━━━━━━━━━━━━━━━━━━━╇━━━━━━━━━━━━━━━━━┩\n",
       "│ dense (<span style=\"color: #0087ff; text-decoration-color: #0087ff\">Dense</span>)                        │ (<span style=\"color: #00d7ff; text-decoration-color: #00d7ff\">None</span>, <span style=\"color: #00af00; text-decoration-color: #00af00\">200</span>)                 │           <span style=\"color: #00af00; text-decoration-color: #00af00\">2,800</span> │\n",
       "├──────────────────────────────────────┼─────────────────────────────┼─────────────────┤\n",
       "│ dropout (<span style=\"color: #0087ff; text-decoration-color: #0087ff\">Dropout</span>)                    │ (<span style=\"color: #00d7ff; text-decoration-color: #00d7ff\">None</span>, <span style=\"color: #00af00; text-decoration-color: #00af00\">200</span>)                 │               <span style=\"color: #00af00; text-decoration-color: #00af00\">0</span> │\n",
       "├──────────────────────────────────────┼─────────────────────────────┼─────────────────┤\n",
       "│ dense_1 (<span style=\"color: #0087ff; text-decoration-color: #0087ff\">Dense</span>)                      │ (<span style=\"color: #00d7ff; text-decoration-color: #00d7ff\">None</span>, <span style=\"color: #00af00; text-decoration-color: #00af00\">128</span>)                 │          <span style=\"color: #00af00; text-decoration-color: #00af00\">25,728</span> │\n",
       "├──────────────────────────────────────┼─────────────────────────────┼─────────────────┤\n",
       "│ dropout_1 (<span style=\"color: #0087ff; text-decoration-color: #0087ff\">Dropout</span>)                  │ (<span style=\"color: #00d7ff; text-decoration-color: #00d7ff\">None</span>, <span style=\"color: #00af00; text-decoration-color: #00af00\">128</span>)                 │               <span style=\"color: #00af00; text-decoration-color: #00af00\">0</span> │\n",
       "├──────────────────────────────────────┼─────────────────────────────┼─────────────────┤\n",
       "│ dense_2 (<span style=\"color: #0087ff; text-decoration-color: #0087ff\">Dense</span>)                      │ (<span style=\"color: #00d7ff; text-decoration-color: #00d7ff\">None</span>, <span style=\"color: #00af00; text-decoration-color: #00af00\">1</span>)                   │             <span style=\"color: #00af00; text-decoration-color: #00af00\">129</span> │\n",
       "└──────────────────────────────────────┴─────────────────────────────┴─────────────────┘\n",
       "</pre>\n"
      ],
      "text/plain": [
       "┏━━━━━━━━━━━━━━━━━━━━━━━━━━━━━━━━━━━━━━┳━━━━━━━━━━━━━━━━━━━━━━━━━━━━━┳━━━━━━━━━━━━━━━━━┓\n",
       "┃\u001b[1m \u001b[0m\u001b[1mLayer (type)                        \u001b[0m\u001b[1m \u001b[0m┃\u001b[1m \u001b[0m\u001b[1mOutput Shape               \u001b[0m\u001b[1m \u001b[0m┃\u001b[1m \u001b[0m\u001b[1m        Param #\u001b[0m\u001b[1m \u001b[0m┃\n",
       "┡━━━━━━━━━━━━━━━━━━━━━━━━━━━━━━━━━━━━━━╇━━━━━━━━━━━━━━━━━━━━━━━━━━━━━╇━━━━━━━━━━━━━━━━━┩\n",
       "│ dense (\u001b[38;5;33mDense\u001b[0m)                        │ (\u001b[38;5;45mNone\u001b[0m, \u001b[38;5;34m200\u001b[0m)                 │           \u001b[38;5;34m2,800\u001b[0m │\n",
       "├──────────────────────────────────────┼─────────────────────────────┼─────────────────┤\n",
       "│ dropout (\u001b[38;5;33mDropout\u001b[0m)                    │ (\u001b[38;5;45mNone\u001b[0m, \u001b[38;5;34m200\u001b[0m)                 │               \u001b[38;5;34m0\u001b[0m │\n",
       "├──────────────────────────────────────┼─────────────────────────────┼─────────────────┤\n",
       "│ dense_1 (\u001b[38;5;33mDense\u001b[0m)                      │ (\u001b[38;5;45mNone\u001b[0m, \u001b[38;5;34m128\u001b[0m)                 │          \u001b[38;5;34m25,728\u001b[0m │\n",
       "├──────────────────────────────────────┼─────────────────────────────┼─────────────────┤\n",
       "│ dropout_1 (\u001b[38;5;33mDropout\u001b[0m)                  │ (\u001b[38;5;45mNone\u001b[0m, \u001b[38;5;34m128\u001b[0m)                 │               \u001b[38;5;34m0\u001b[0m │\n",
       "├──────────────────────────────────────┼─────────────────────────────┼─────────────────┤\n",
       "│ dense_2 (\u001b[38;5;33mDense\u001b[0m)                      │ (\u001b[38;5;45mNone\u001b[0m, \u001b[38;5;34m1\u001b[0m)                   │             \u001b[38;5;34m129\u001b[0m │\n",
       "└──────────────────────────────────────┴─────────────────────────────┴─────────────────┘\n"
      ]
     },
     "metadata": {},
     "output_type": "display_data"
    },
    {
     "data": {
      "text/html": [
       "<pre style=\"white-space:pre;overflow-x:auto;line-height:normal;font-family:Menlo,'DejaVu Sans Mono',consolas,'Courier New',monospace\"><span style=\"font-weight: bold\"> Total params: </span><span style=\"color: #00af00; text-decoration-color: #00af00\">28,657</span> (111.94 KB)\n",
       "</pre>\n"
      ],
      "text/plain": [
       "\u001b[1m Total params: \u001b[0m\u001b[38;5;34m28,657\u001b[0m (111.94 KB)\n"
      ]
     },
     "metadata": {},
     "output_type": "display_data"
    },
    {
     "data": {
      "text/html": [
       "<pre style=\"white-space:pre;overflow-x:auto;line-height:normal;font-family:Menlo,'DejaVu Sans Mono',consolas,'Courier New',monospace\"><span style=\"font-weight: bold\"> Trainable params: </span><span style=\"color: #00af00; text-decoration-color: #00af00\">28,657</span> (111.94 KB)\n",
       "</pre>\n"
      ],
      "text/plain": [
       "\u001b[1m Trainable params: \u001b[0m\u001b[38;5;34m28,657\u001b[0m (111.94 KB)\n"
      ]
     },
     "metadata": {},
     "output_type": "display_data"
    },
    {
     "data": {
      "text/html": [
       "<pre style=\"white-space:pre;overflow-x:auto;line-height:normal;font-family:Menlo,'DejaVu Sans Mono',consolas,'Courier New',monospace\"><span style=\"font-weight: bold\"> Non-trainable params: </span><span style=\"color: #00af00; text-decoration-color: #00af00\">0</span> (0.00 B)\n",
       "</pre>\n"
      ],
      "text/plain": [
       "\u001b[1m Non-trainable params: \u001b[0m\u001b[38;5;34m0\u001b[0m (0.00 B)\n"
      ]
     },
     "metadata": {},
     "output_type": "display_data"
    }
   ],
   "source": [
    "model.summary()"
   ]
  },
  {
   "cell_type": "code",
   "execution_count": 54,
   "id": "31fedaa2-6da7-4632-a7c2-ae48e54c7065",
   "metadata": {},
   "outputs": [
    {
     "name": "stdout",
     "output_type": "stream",
     "text": [
      "Training Data Shape: (128334, 13) (128334,)\n",
      "Test Data Shape: (42778, 13) (42778,)\n"
     ]
    }
   ],
   "source": [
    "print(\"Training Data Shape:\", X_train.shape, y_train.shape)\n",
    "print(\"Test Data Shape:\", X_test.shape, y_test.shape)"
   ]
  },
  {
   "cell_type": "code",
   "execution_count": 55,
   "id": "570e2efe-0f79-4e98-a655-a02860f35957",
   "metadata": {},
   "outputs": [
    {
     "data": {
      "application/javascript": [
       "\n",
       "        if (window._pyforest_update_imports_cell) { window._pyforest_update_imports_cell('from sklearn.model_selection import GridSearchCV\\nimport tensorflow as tf'); }\n",
       "    "
      ],
      "text/plain": [
       "<IPython.core.display.Javascript object>"
      ]
     },
     "metadata": {},
     "output_type": "display_data"
    },
    {
     "data": {
      "application/javascript": [
       "\n",
       "        if (window._pyforest_update_imports_cell) { window._pyforest_update_imports_cell('from sklearn.model_selection import GridSearchCV\\nimport tensorflow as tf'); }\n",
       "    "
      ],
      "text/plain": [
       "<IPython.core.display.Javascript object>"
      ]
     },
     "metadata": {},
     "output_type": "display_data"
    }
   ],
   "source": [
    "early_stopping = tf.keras.callbacks.EarlyStopping(monitor='val_loss', patience=3, restore_best_weights=True) \n",
    "model_checkpoint = tf.keras.callbacks.ModelCheckpoint(filepath='best_model.keras', save_best_only=True, monitor='val_loss')"
   ]
  },
  {
   "cell_type": "code",
   "execution_count": 56,
   "id": "2c0a44cd-97f5-47b2-bbf3-c607b7ffbb11",
   "metadata": {},
   "outputs": [
    {
     "name": "stdout",
     "output_type": "stream",
     "text": [
      "Epoch 1/50\n",
      "\u001b[1m129/129\u001b[0m \u001b[32m━━━━━━━━━━━━━━━━━━━━\u001b[0m\u001b[37m\u001b[0m \u001b[1m2s\u001b[0m 6ms/step - loss: 27985.0957 - val_loss: 18873.3027\n",
      "Epoch 2/50\n",
      "\u001b[1m129/129\u001b[0m \u001b[32m━━━━━━━━━━━━━━━━━━━━\u001b[0m\u001b[37m\u001b[0m \u001b[1m1s\u001b[0m 4ms/step - loss: 18699.0039 - val_loss: 18137.4688\n",
      "Epoch 3/50\n",
      "\u001b[1m129/129\u001b[0m \u001b[32m━━━━━━━━━━━━━━━━━━━━\u001b[0m\u001b[37m\u001b[0m \u001b[1m1s\u001b[0m 4ms/step - loss: 18054.6523 - val_loss: 17625.0117\n",
      "Epoch 4/50\n",
      "\u001b[1m129/129\u001b[0m \u001b[32m━━━━━━━━━━━━━━━━━━━━\u001b[0m\u001b[37m\u001b[0m \u001b[1m1s\u001b[0m 6ms/step - loss: 17604.0215 - val_loss: 17062.2754\n",
      "Epoch 5/50\n",
      "\u001b[1m129/129\u001b[0m \u001b[32m━━━━━━━━━━━━━━━━━━━━\u001b[0m\u001b[37m\u001b[0m \u001b[1m1s\u001b[0m 4ms/step - loss: 17062.4922 - val_loss: 16421.5078\n",
      "Epoch 6/50\n",
      "\u001b[1m129/129\u001b[0m \u001b[32m━━━━━━━━━━━━━━━━━━━━\u001b[0m\u001b[37m\u001b[0m \u001b[1m1s\u001b[0m 5ms/step - loss: 16364.3262 - val_loss: 15480.7422\n",
      "Epoch 7/50\n",
      "\u001b[1m129/129\u001b[0m \u001b[32m━━━━━━━━━━━━━━━━━━━━\u001b[0m\u001b[37m\u001b[0m \u001b[1m1s\u001b[0m 4ms/step - loss: 15240.7344 - val_loss: 13892.0068\n",
      "Epoch 8/50\n",
      "\u001b[1m129/129\u001b[0m \u001b[32m━━━━━━━━━━━━━━━━━━━━\u001b[0m\u001b[37m\u001b[0m \u001b[1m1s\u001b[0m 4ms/step - loss: 13555.2920 - val_loss: 12142.4512\n",
      "Epoch 9/50\n",
      "\u001b[1m129/129\u001b[0m \u001b[32m━━━━━━━━━━━━━━━━━━━━\u001b[0m\u001b[37m\u001b[0m \u001b[1m1s\u001b[0m 5ms/step - loss: 11829.2646 - val_loss: 11117.0000\n",
      "Epoch 10/50\n",
      "\u001b[1m129/129\u001b[0m \u001b[32m━━━━━━━━━━━━━━━━━━━━\u001b[0m\u001b[37m\u001b[0m \u001b[1m1s\u001b[0m 5ms/step - loss: 10983.5176 - val_loss: 10391.4326\n",
      "Epoch 11/50\n",
      "\u001b[1m129/129\u001b[0m \u001b[32m━━━━━━━━━━━━━━━━━━━━\u001b[0m\u001b[37m\u001b[0m \u001b[1m1s\u001b[0m 4ms/step - loss: 10603.8779 - val_loss: 10161.9766\n",
      "Epoch 12/50\n",
      "\u001b[1m129/129\u001b[0m \u001b[32m━━━━━━━━━━━━━━━━━━━━\u001b[0m\u001b[37m\u001b[0m \u001b[1m1s\u001b[0m 4ms/step - loss: 10369.0166 - val_loss: 9978.5273\n",
      "Epoch 13/50\n",
      "\u001b[1m129/129\u001b[0m \u001b[32m━━━━━━━━━━━━━━━━━━━━\u001b[0m\u001b[37m\u001b[0m \u001b[1m1s\u001b[0m 4ms/step - loss: 10260.5000 - val_loss: 9846.8193\n",
      "Epoch 14/50\n",
      "\u001b[1m129/129\u001b[0m \u001b[32m━━━━━━━━━━━━━━━━━━━━\u001b[0m\u001b[37m\u001b[0m \u001b[1m1s\u001b[0m 5ms/step - loss: 10211.1152 - val_loss: 9931.8584\n",
      "Epoch 15/50\n",
      "\u001b[1m129/129\u001b[0m \u001b[32m━━━━━━━━━━━━━━━━━━━━\u001b[0m\u001b[37m\u001b[0m \u001b[1m1s\u001b[0m 5ms/step - loss: 10108.3154 - val_loss: 9956.6113\n",
      "Epoch 16/50\n",
      "\u001b[1m129/129\u001b[0m \u001b[32m━━━━━━━━━━━━━━━━━━━━\u001b[0m\u001b[37m\u001b[0m \u001b[1m1s\u001b[0m 5ms/step - loss: 10050.0469 - val_loss: 10267.9111\n"
     ]
    }
   ],
   "source": [
    "history=model.fit(X_train,y_train,batch_size=1000,epochs=50,validation_data=(X_test,y_test),verbose=1, callbacks=[early_stopping, model_checkpoint])"
   ]
  },
  {
   "cell_type": "code",
   "execution_count": 57,
   "id": "fad5f702-1f28-4522-a250-b01e7148158a",
   "metadata": {},
   "outputs": [
    {
     "data": {
      "image/png": "[encoded data removed]",
      "text/plain": [
       "<Figure size 640x480 with 1 Axes>"
      ]
     },
     "metadata": {},
     "output_type": "display_data"
    }
   ],
   "source": [
    "# Настроим Легенду\n",
    "plt.plot(history.history['loss'], label='Training Loss', color='b')\n",
    "plt.plot(history.history['val_loss'], label='Validation Loss', color='orange')\n",
    "\n",
    "plt.xlabel('Epochs')\n",
    "plt.ylabel('Loss')\n",
    "plt.title('Training and Validation Loss (RMSE)')\n",
    "plt.legend()\n",
    "\n",
    "plt.show()"
   ]
  },
  {
   "cell_type": "code",
   "execution_count": 58,
   "id": "487c692c-3687-4d0e-819e-8b81b9470c6a",
   "metadata": {},
   "outputs": [
    {
     "data": {
      "image/png": "[encoded data removed]",
      "text/plain": [
       "<IPython.core.display.Image object>"
      ]
     },
     "execution_count": 58,
     "metadata": {},
     "output_type": "execute_result"
    }
   ],
   "source": [
    "from tensorflow.keras.utils import plot_model\n",
    "plot_model(model, to_file='model_plot.png', show_shapes=True, show_layer_names=True)"
   ]
  },
  {
   "cell_type": "code",
   "execution_count": 59,
   "id": "9591c6ed-c21a-427c-b484-42d95e95085f",
   "metadata": {},
   "outputs": [
    {
     "name": "stdout",
     "output_type": "stream",
     "text": [
      "\u001b[1m1337/1337\u001b[0m \u001b[32m━━━━━━━━━━━━━━━━━━━━\u001b[0m\u001b[37m\u001b[0m \u001b[1m1s\u001b[0m 784us/step\n",
      "Root Mean squared error:  13773.880605643579\n"
     ]
    }
   ],
   "source": [
    "y_pred = model.predict(X_test).squeeze()\n",
    "print(\"Root Mean squared error: \", root_mean_squared_error(y_test, y_pred))"
   ]
  },
  {
   "cell_type": "code",
   "execution_count": null,
   "id": "3488ba7a-b287-416a-a8d2-2cccbf61e423",
   "metadata": {},
   "outputs": [],
   "source": []
  }
 ],
 "metadata": {
  "kernelspec": {
   "display_name": "Python 3 (ipykernel)",
   "language": "python",
   "name": "python3"
  },
  "language_info": {
   "codemirror_mode": {
    "name": "ipython",
    "version": 3
   },
   "file_extension": ".py",
   "mimetype": "text/x-python",
   "name": "python",
   "nbconvert_exporter": "python",
   "pygments_lexer": "ipython3",
   "version": "3.11.8"
  }
 },
 "nbformat": 4,
 "nbformat_minor": 5
}
